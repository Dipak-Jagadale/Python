{
 "cells": [
  {
   "cell_type": "code",
   "execution_count": 2,
   "id": "466672f1",
   "metadata": {},
   "outputs": [
    {
     "ename": "IndentationError",
     "evalue": "unindent does not match any outer indentation level (<tokenize>, line 13)",
     "output_type": "error",
     "traceback": [
      "\u001b[1;36m  File \u001b[1;32m<tokenize>:13\u001b[1;36m\u001b[0m\n\u001b[1;33m    if password == \"1234\":\u001b[0m\n\u001b[1;37m    ^\u001b[0m\n\u001b[1;31mIndentationError\u001b[0m\u001b[1;31m:\u001b[0m unindent does not match any outer indentation level\n"
     ]
    }
   ],
   "source": [
    "# emailid - dipakjagadale@gmail.com\n",
    "# password - 1234\n",
    "\n",
    "emailid = input(\"emailid\")\n",
    "if '@' in emailid:\n",
    "    password = input (\"Correct password\")\n",
    "\n",
    "    if emailid == \"dipakjagadale@gmail.com\" and password == \"1234\":\n",
    "        print(\"welcome\")\n",
    "    elif emailid == 'dipakjagadale@gmail.com' and password != \"1234\":\n",
    "         print(\"password incorrect\")\n",
    "            password = input(\"Reenter password\")\n",
    "            if password == \"1234\":\n",
    "                print(\"Finally corect\")\n",
    "            else :\n",
    "                print(\"Still incorrect\")\n",
    "    else:\n",
    "        print(\"incorrect creditials\")\n",
    "        \n",
    "else:\n",
    "    print(\"Incorrect email\")\n",
    "        "
   ]
  },
  {
   "cell_type": "code",
   "execution_count": null,
   "id": "3a8bd097",
   "metadata": {},
   "outputs": [],
   "source": [
    "input()"
   ]
  }
 ],
 "metadata": {
  "kernelspec": {
   "display_name": "Python 3 (ipykernel)",
   "language": "python",
   "name": "python3"
  },
  "language_info": {
   "codemirror_mode": {
    "name": "ipython",
    "version": 3
   },
   "file_extension": ".py",
   "mimetype": "text/x-python",
   "name": "python",
   "nbconvert_exporter": "python",
   "pygments_lexer": "ipython3",
   "version": "3.11.2"
  }
 },
 "nbformat": 4,
 "nbformat_minor": 5
}
