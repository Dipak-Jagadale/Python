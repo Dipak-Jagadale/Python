{
 "cells": [
  {
   "cell_type": "markdown",
   "id": "41ed8664",
   "metadata": {},
   "source": [
    "# Panads for ML"
   ]
  },
  {
   "cell_type": "markdown",
   "id": "c135b7a2",
   "metadata": {},
   "source": [
    "### What is Pandas?\n"
   ]
  },
  {
   "cell_type": "markdown",
   "id": "74961b3b",
   "metadata": {},
   "source": [
    "1.It is a python library"
   ]
  },
  {
   "cell_type": "markdown",
   "id": "032a24c8",
   "metadata": {},
   "source": [
    "2.Used to analyze data \n"
   ]
  },
  {
   "cell_type": "markdown",
   "id": "101c1e83",
   "metadata": {},
   "source": [
    "pandas is a library used for working with data sets."
   ]
  },
  {
   "cell_type": "markdown",
   "id": "d027940c",
   "metadata": {},
   "source": [
    "it has fuctions for analyzing , clenaing , exploring, \n",
    "and manipulating data"
   ]
  },
  {
   "cell_type": "markdown",
   "id": "2ef5ec24",
   "metadata": {},
   "source": [
    "## Why Pandas?\n"
   ]
  },
  {
   "cell_type": "markdown",
   "id": "aead5f97",
   "metadata": {},
   "source": [
    "pandas allows us to analyze big data and make conclusions based on stastistical theories.\n",
    "\n",
    "pandas can clean messy data sets, and make them readable and relevant data is very important in data science."
   ]
  },
  {
   "cell_type": "markdown",
   "id": "a5c9afce",
   "metadata": {},
   "source": [
    "pandas gives you answers about the data like:\n",
    "    \n",
    "    Ls  there a crrelation between two or more columns?\n",
    "    max values ?\n",
    "    min values"
   ]
  },
  {
   "cell_type": "markdown",
   "id": "840bc23c",
   "metadata": {},
   "source": [
    "## Features"
   ]
  },
  {
   "cell_type": "markdown",
   "id": "089d5a83",
   "metadata": {},
   "source": [
    "1. working with large data sheets\n",
    "2. It is high prformance data analyze tool \n",
    "3. It is supports or load large data sheets and more \n",
    "flexible to use\n",
    "4. pandas represent data in tabular(raws and columns)way\n",
    "5. more efficeient with missing data \n",
    "6. It is used for indexing,slicing, subseting the large data \n",
    "7. we can merge and join two different dataset easily\n",
    "8. we can rshape the dataset easily"
   ]
  },
  {
   "cell_type": "markdown",
   "id": "78d35484",
   "metadata": {},
   "source": [
    "### INSTALL PANDAS\n"
   ]
  },
  {
   "cell_type": "code",
   "execution_count": 2,
   "id": "836c23b1",
   "metadata": {},
   "outputs": [
    {
     "name": "stdout",
     "output_type": "stream",
     "text": [
      "Requirement already satisfied: pandas in c:\\users\\priya\\appdata\\local\\programs\\python\\python311\\lib\\site-packages (2.0.0)"
     ]
    },
    {
     "name": "stderr",
     "output_type": "stream",
     "text": [
      "\n",
      "[notice] A new release of pip is available: 23.0.1 -> 23.2.1\n",
      "[notice] To update, run: python.exe -m pip install --upgrade pip\n"
     ]
    },
    {
     "name": "stdout",
     "output_type": "stream",
     "text": [
      "\n",
      "Requirement already satisfied: python-dateutil>=2.8.2 in c:\\users\\priya\\appdata\\local\\programs\\python\\python311\\lib\\site-packages (from pandas) (2.8.2)\n",
      "Requirement already satisfied: pytz>=2020.1 in c:\\users\\priya\\appdata\\local\\programs\\python\\python311\\lib\\site-packages (from pandas) (2023.3)\n",
      "Requirement already satisfied: tzdata>=2022.1 in c:\\users\\priya\\appdata\\local\\programs\\python\\python311\\lib\\site-packages (from pandas) (2023.3)\n",
      "Requirement already satisfied: numpy>=1.21.0 in c:\\users\\priya\\appdata\\local\\programs\\python\\python311\\lib\\site-packages (from pandas) (1.24.2)\n",
      "Requirement already satisfied: six>=1.5 in c:\\users\\priya\\appdata\\local\\programs\\python\\python311\\lib\\site-packages (from python-dateutil>=2.8.2->pandas) (1.16.0)\n"
     ]
    }
   ],
   "source": [
    "! pip install pandas "
   ]
  },
  {
   "cell_type": "code",
   "execution_count": 3,
   "id": "6539deca",
   "metadata": {},
   "outputs": [],
   "source": [
    "import pandas as pd\n",
    "import numpy as np\n"
   ]
  },
  {
   "cell_type": "code",
   "execution_count": 5,
   "id": "fb08f042",
   "metadata": {},
   "outputs": [
    {
     "name": "stdout",
     "output_type": "stream",
     "text": [
      "Requirement already satisfied: pip in c:\\users\\priya\\appdata\\local\\programs\\python\\python311\\lib\\site-packages (23.0.1)Note: you may need to restart the kernel to use updated packages.\n",
      "\n",
      "Collecting pip\n",
      "  Downloading pip-23.2.1-py3-none-any.whl (2.1 MB)\n",
      "     ---------------------------------------- 2.1/2.1 MB 5.5 MB/s eta 0:00:00\n",
      "Installing collected packages: pip\n",
      "  Attempting uninstall: pip\n",
      "    Found existing installation: pip 23.0.1\n",
      "    Uninstalling pip-23.0.1:\n",
      "      Successfully uninstalled pip-23.0.1\n",
      "Successfully installed pip-23.2.1\n"
     ]
    }
   ],
   "source": [
    " pip install --upgrade pip"
   ]
  },
  {
   "cell_type": "code",
   "execution_count": 6,
   "id": "d3589d64",
   "metadata": {},
   "outputs": [],
   "source": [
    "import pandas as pd\n",
    "import numpy as np\n"
   ]
  },
  {
   "cell_type": "code",
   "execution_count": 9,
   "id": "88ae43d4",
   "metadata": {},
   "outputs": [
    {
     "name": "stdout",
     "output_type": "stream",
     "text": [
      "2.0.0\n"
     ]
    }
   ],
   "source": [
    "print(pd.__version__)"
   ]
  },
  {
   "cell_type": "code",
   "execution_count": 8,
   "id": "79b92984",
   "metadata": {},
   "outputs": [
    {
     "name": "stdout",
     "output_type": "stream",
     "text": [
      "1.24.2\n"
     ]
    }
   ],
   "source": [
    "print(np.__version__)"
   ]
  },
  {
   "cell_type": "markdown",
   "id": "65cc6f4b",
   "metadata": {},
   "source": [
    "#### Two data structures in pandas "
   ]
  },
  {
   "cell_type": "markdown",
   "id": "3d9ba7e4",
   "metadata": {},
   "source": [
    "1. Series : A one-dimentional labeled array capable of holding \n",
    "    any data type \n",
    "2. it is similar to acolumn in a predsheet or a SQL table \n",
    "3. DataFrame : A two-dimentinaol labeled data structure \n",
    "    with columns of potentially different types .\n",
    "4. it is similar to a spredsheet , SQL table, or a dict of series Object\n"
   ]
  },
  {
   "cell_type": "markdown",
   "id": "5914086e",
   "metadata": {},
   "source": [
    "##### These data structres provide a lot of flexibility and power working with data in pandas "
   ]
  },
  {
   "cell_type": "markdown",
   "id": "3ae9626e",
   "metadata": {},
   "source": [
    "# Series"
   ]
  },
  {
   "cell_type": "markdown",
   "id": "790d5473",
   "metadata": {},
   "source": [
    "##### What is series"
   ]
  },
  {
   "cell_type": "markdown",
   "id": "f0d8c934",
   "metadata": {},
   "source": [
    "Pandas series is like a colum in a table\n",
    "it is one dimentional array holding data of any type"
   ]
  },
  {
   "cell_type": "code",
   "execution_count": 23,
   "id": "a9237571",
   "metadata": {},
   "outputs": [
    {
     "data": {
      "text/plain": [
       "0    1\n",
       "1    2\n",
       "2    3\n",
       "3    4\n",
       "4    5\n",
       "5    6\n",
       "6    7\n",
       "7    8\n",
       "8    9\n",
       "dtype: int64"
      ]
     },
     "execution_count": 23,
     "metadata": {},
     "output_type": "execute_result"
    }
   ],
   "source": [
    "s = pd.Series ([1,2,3,4,5,6,7,8,9])\n",
    "s"
   ]
  },
  {
   "cell_type": "code",
   "execution_count": 24,
   "id": "2ea415fd",
   "metadata": {},
   "outputs": [
    {
     "name": "stdout",
     "output_type": "stream",
     "text": [
      "<class 'pandas.core.series.Series'>\n"
     ]
    }
   ],
   "source": [
    "print(type(s))"
   ]
  },
  {
   "cell_type": "markdown",
   "id": "22ecc9b1",
   "metadata": {},
   "source": [
    "#### Acess element from series"
   ]
  },
  {
   "cell_type": "code",
   "execution_count": 25,
   "id": "8ff388de",
   "metadata": {},
   "outputs": [
    {
     "data": {
      "text/plain": [
       "1"
      ]
     },
     "execution_count": 25,
     "metadata": {},
     "output_type": "execute_result"
    }
   ],
   "source": [
    "s[0]"
   ]
  },
  {
   "cell_type": "code",
   "execution_count": 26,
   "id": "caf896e7",
   "metadata": {},
   "outputs": [
    {
     "name": "stdout",
     "output_type": "stream",
     "text": [
      "0    1\n",
      "1    2\n",
      "2    3\n",
      "3    4\n",
      "4    5\n",
      "5    6\n",
      "6    7\n",
      "7    8\n",
      "8    9\n",
      "dtype: int64\n"
     ]
    }
   ],
   "source": [
    "print(s)"
   ]
  },
  {
   "cell_type": "code",
   "execution_count": 27,
   "id": "ac3dc98c",
   "metadata": {},
   "outputs": [
    {
     "data": {
      "text/plain": [
       "5"
      ]
     },
     "execution_count": 27,
     "metadata": {},
     "output_type": "execute_result"
    }
   ],
   "source": [
    "s[4]"
   ]
  },
  {
   "cell_type": "markdown",
   "id": "785e1151",
   "metadata": {},
   "source": [
    "#### You can give name to series index"
   ]
  },
  {
   "cell_type": "code",
   "execution_count": 28,
   "id": "765b8fe3",
   "metadata": {},
   "outputs": [
    {
     "data": {
      "text/plain": [
       "A    10\n",
       "B    20\n",
       "C    30\n",
       "D    40\n",
       "E    50\n",
       "F    60\n",
       "G    70\n",
       "dtype: int64"
      ]
     },
     "execution_count": 28,
     "metadata": {},
     "output_type": "execute_result"
    }
   ],
   "source": [
    "dp = [10,20,30,40,50,60,70]\n",
    "new_dp = pd.Series (dp, index=[\"A\",\"B\",\"C\",\"D\",\"E\",\"F\",\"G\"])\n",
    "new_dp"
   ]
  },
  {
   "cell_type": "code",
   "execution_count": 29,
   "id": "4761b502",
   "metadata": {},
   "outputs": [
    {
     "data": {
      "text/plain": [
       "ABS    1\n",
       "DEF    2\n",
       "GHI    3\n",
       "JKL    4\n",
       "MNO    5\n",
       "dtype: int64"
      ]
     },
     "execution_count": 29,
     "metadata": {},
     "output_type": "execute_result"
    }
   ],
   "source": [
    "list1 = [1,2,3,4,5]\n",
    "ns = pd.Series(list1,index = [\"ABS\",\"DEF\",\"GHI\",\"JKL\",\"MNO\"])\n",
    "ns"
   ]
  },
  {
   "cell_type": "markdown",
   "id": "a5dab743",
   "metadata": {},
   "source": [
    "#### Access items using lables"
   ]
  },
  {
   "cell_type": "code",
   "execution_count": 30,
   "id": "bc31b9a2",
   "metadata": {},
   "outputs": [
    {
     "data": {
      "text/plain": [
       "A    10\n",
       "B    20\n",
       "C    30\n",
       "D    40\n",
       "E    50\n",
       "F    60\n",
       "G    70\n",
       "dtype: int64"
      ]
     },
     "execution_count": 30,
     "metadata": {},
     "output_type": "execute_result"
    }
   ],
   "source": [
    "new_dp"
   ]
  },
  {
   "cell_type": "code",
   "execution_count": 31,
   "id": "1d25b2f4",
   "metadata": {},
   "outputs": [
    {
     "data": {
      "text/plain": [
       "10"
      ]
     },
     "execution_count": 31,
     "metadata": {},
     "output_type": "execute_result"
    }
   ],
   "source": [
    "new_dp[\"A\"]"
   ]
  },
  {
   "cell_type": "code",
   "execution_count": 32,
   "id": "66be38ae",
   "metadata": {},
   "outputs": [
    {
     "data": {
      "text/plain": [
       "60"
      ]
     },
     "execution_count": 32,
     "metadata": {},
     "output_type": "execute_result"
    }
   ],
   "source": [
    "new_dp[\"F\"]"
   ]
  },
  {
   "cell_type": "markdown",
   "id": "1a1e84dd",
   "metadata": {},
   "source": [
    "#### key /values Object as series\n"
   ]
  },
  {
   "cell_type": "code",
   "execution_count": 33,
   "id": "4f4a4c26",
   "metadata": {},
   "outputs": [
    {
     "data": {
      "text/plain": [
       "Dipak     10\n",
       "Dipesh    20\n",
       "Dinesh    30\n",
       "dtype: int64"
      ]
     },
     "execution_count": 33,
     "metadata": {},
     "output_type": "execute_result"
    }
   ],
   "source": [
    "emp = {\"Dipak\":10,\"Dipesh\":20,\"Dinesh\":30}\n",
    "emp1 = pd.Series(emp)\n",
    "emp1                \n",
    "                "
   ]
  },
  {
   "cell_type": "code",
   "execution_count": 34,
   "id": "2ae0a7c4",
   "metadata": {},
   "outputs": [
    {
     "data": {
      "text/plain": [
       "day1    500\n",
       "day2    380\n",
       "day3    450\n",
       "day4    504\n",
       "dtype: int64"
      ]
     },
     "execution_count": 34,
     "metadata": {},
     "output_type": "execute_result"
    }
   ],
   "source": [
    "calories = {\n",
    "            'day1': 500,\n",
    "            'day2': 380,\n",
    "            'day3': 450,\n",
    "            'day4': 504, \n",
    "}\n",
    "\n",
    "cal = pd.Series(calories)\n",
    "cal"
   ]
  },
  {
   "cell_type": "code",
   "execution_count": 35,
   "id": "99211218",
   "metadata": {},
   "outputs": [
    {
     "data": {
      "text/plain": [
       "380"
      ]
     },
     "execution_count": 35,
     "metadata": {},
     "output_type": "execute_result"
    }
   ],
   "source": [
    "cal['day2']"
   ]
  },
  {
   "cell_type": "code",
   "execution_count": 36,
   "id": "9b344486",
   "metadata": {},
   "outputs": [
    {
     "data": {
      "text/plain": [
       "day1    500\n",
       "day2    380\n",
       "dtype: int64"
      ]
     },
     "execution_count": 36,
     "metadata": {},
     "output_type": "execute_result"
    }
   ],
   "source": [
    "cal_new = pd.Series (cal,index =['day1','day2'])\n",
    "cal_new"
   ]
  },
  {
   "cell_type": "markdown",
   "id": "58bc978b",
   "metadata": {},
   "source": [
    "###### Home work"
   ]
  },
  {
   "cell_type": "code",
   "execution_count": 54,
   "id": "a820de29",
   "metadata": {},
   "outputs": [],
   "source": [
    "import pandas as pd\n",
    "import numpy as np"
   ]
  },
  {
   "cell_type": "code",
   "execution_count": 55,
   "id": "48a53653",
   "metadata": {
    "scrolled": true
   },
   "outputs": [
    {
     "data": {
      "text/plain": [
       "0         1\n",
       "1       1.2\n",
       "2      abhi\n",
       "3         2\n",
       "4       2.2\n",
       "5      dipu\n",
       "6         3\n",
       "7       3.3\n",
       "8     samir\n",
       "9         4\n",
       "10      4.4\n",
       "dtype: object"
      ]
     },
     "execution_count": 55,
     "metadata": {},
     "output_type": "execute_result"
    }
   ],
   "source": [
    "lst = [1,1.2,'abhi',2,2.2,'dipu',3,3.3,'samir',4,4.4]\n",
    "lst1 = pd.Series(lst)\n",
    "lst1"
   ]
  },
  {
   "cell_type": "code",
   "execution_count": null,
   "id": "50374153",
   "metadata": {},
   "outputs": [],
   "source": []
  },
  {
   "cell_type": "code",
   "execution_count": null,
   "id": "bcbcb889",
   "metadata": {},
   "outputs": [],
   "source": []
  },
  {
   "cell_type": "code",
   "execution_count": null,
   "id": "4b40a0b4",
   "metadata": {},
   "outputs": [],
   "source": []
  },
  {
   "cell_type": "code",
   "execution_count": null,
   "id": "e80d7024",
   "metadata": {},
   "outputs": [],
   "source": []
  },
  {
   "cell_type": "code",
   "execution_count": null,
   "id": "45933505",
   "metadata": {},
   "outputs": [],
   "source": []
  },
  {
   "cell_type": "code",
   "execution_count": null,
   "id": "5e2ff767",
   "metadata": {},
   "outputs": [],
   "source": []
  },
  {
   "cell_type": "code",
   "execution_count": null,
   "id": "983ed30f",
   "metadata": {},
   "outputs": [],
   "source": []
  },
  {
   "cell_type": "code",
   "execution_count": null,
   "id": "95cc86d8",
   "metadata": {},
   "outputs": [],
   "source": []
  },
  {
   "cell_type": "code",
   "execution_count": null,
   "id": "3aca64ba",
   "metadata": {},
   "outputs": [],
   "source": []
  },
  {
   "cell_type": "code",
   "execution_count": null,
   "id": "abcb0088",
   "metadata": {},
   "outputs": [],
   "source": []
  },
  {
   "cell_type": "code",
   "execution_count": null,
   "id": "a9b29c5a",
   "metadata": {},
   "outputs": [],
   "source": []
  },
  {
   "cell_type": "code",
   "execution_count": null,
   "id": "76304349",
   "metadata": {},
   "outputs": [],
   "source": []
  },
  {
   "cell_type": "code",
   "execution_count": null,
   "id": "8c7a1200",
   "metadata": {},
   "outputs": [],
   "source": []
  },
  {
   "cell_type": "code",
   "execution_count": null,
   "id": "00a78ea4",
   "metadata": {},
   "outputs": [],
   "source": []
  },
  {
   "cell_type": "code",
   "execution_count": null,
   "id": "7d3c4b55",
   "metadata": {},
   "outputs": [],
   "source": []
  },
  {
   "cell_type": "code",
   "execution_count": null,
   "id": "83203571",
   "metadata": {},
   "outputs": [],
   "source": []
  },
  {
   "cell_type": "code",
   "execution_count": null,
   "id": "5c7a7d35",
   "metadata": {},
   "outputs": [],
   "source": []
  },
  {
   "cell_type": "code",
   "execution_count": null,
   "id": "850bad93",
   "metadata": {},
   "outputs": [],
   "source": []
  },
  {
   "cell_type": "code",
   "execution_count": null,
   "id": "f3f6ef19",
   "metadata": {},
   "outputs": [],
   "source": []
  },
  {
   "cell_type": "code",
   "execution_count": null,
   "id": "79b532ab",
   "metadata": {},
   "outputs": [],
   "source": []
  },
  {
   "cell_type": "code",
   "execution_count": null,
   "id": "959a966c",
   "metadata": {},
   "outputs": [],
   "source": []
  },
  {
   "cell_type": "code",
   "execution_count": null,
   "id": "9e11d9b5",
   "metadata": {},
   "outputs": [],
   "source": []
  },
  {
   "cell_type": "code",
   "execution_count": null,
   "id": "870a2ebc",
   "metadata": {},
   "outputs": [],
   "source": []
  },
  {
   "cell_type": "code",
   "execution_count": null,
   "id": "17f245dd",
   "metadata": {},
   "outputs": [],
   "source": []
  },
  {
   "cell_type": "code",
   "execution_count": null,
   "id": "28ac70d8",
   "metadata": {},
   "outputs": [],
   "source": []
  },
  {
   "cell_type": "code",
   "execution_count": null,
   "id": "2d9f4445",
   "metadata": {},
   "outputs": [],
   "source": []
  },
  {
   "cell_type": "code",
   "execution_count": null,
   "id": "22c9573e",
   "metadata": {},
   "outputs": [],
   "source": []
  },
  {
   "cell_type": "code",
   "execution_count": null,
   "id": "d74d6a97",
   "metadata": {},
   "outputs": [],
   "source": []
  }
 ],
 "metadata": {
  "kernelspec": {
   "display_name": "Python 3 (ipykernel)",
   "language": "python",
   "name": "python3"
  },
  "language_info": {
   "codemirror_mode": {
    "name": "ipython",
    "version": 3
   },
   "file_extension": ".py",
   "mimetype": "text/x-python",
   "name": "python",
   "nbconvert_exporter": "python",
   "pygments_lexer": "ipython3",
   "version": "3.11.2"
  }
 },
 "nbformat": 4,
 "nbformat_minor": 5
}
