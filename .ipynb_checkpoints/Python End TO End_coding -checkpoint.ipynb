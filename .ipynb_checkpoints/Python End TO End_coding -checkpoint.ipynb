{
 "cells": [
  {
   "cell_type": "markdown",
   "id": "7a69a427",
   "metadata": {},
   "source": [
    "# Python\n"
   ]
  },
  {
   "cell_type": "markdown",
   "id": "86042705",
   "metadata": {},
   "source": [
    "## PYTHON Introduction"
   ]
  },
  {
   "cell_type": "markdown",
   "id": "60262836",
   "metadata": {},
   "source": [
    "### What is Python?\n"
   ]
  },
  {
   "cell_type": "markdown",
   "id": "3bf625e5",
   "metadata": {},
   "source": [
    "Python is general purpose high level popular programming language. Python was developed by Guido Van Rossam at National Research Institute Netherlands, official relaese date of python is 20th Feb 1991\n",
    "\n",
    "Python is versatile language, capable of running on multiple platforms, including Windows, macOS, and Linux.\n",
    "\n",
    "Python offers a vast library of pre-built modules and tools, which make it easy to perform complex tasks with minimal coding efforts\n",
    "\n",
    "##### Some of the most popular libraries of Python used in data science are:\n",
    "\n",
    "#### NumPy:\n",
    "   A library used for numerical computing with Python.\n",
    "#### Pandas: \n",
    "   A library used for data manipulation and analysis.\n",
    "#### Matplotlib:\n",
    "   A library used for data visualization.\n",
    "#### Scikit-learn:\n",
    "   A library used for machine learning\n",
    "#### TensorFlow:\n",
    "   A library used for deep learning."
   ]
  },
  {
   "cell_type": "markdown",
   "id": "7761fad9",
   "metadata": {},
   "source": [
    "### Why Python is more popular in the world ?"
   ]
  },
  {
   "cell_type": "markdown",
   "id": "b889e088",
   "metadata": {},
   "source": [
    "### Features of Python :-\n",
    "##### 1.Easy to Learn and Use -\n",
    "Its code is easy to read and understand, which makes it easier to maintain and update. like english language.\n",
    "##### 2.Expressive Language - \n",
    "which means that it is more understandable and readable.\n",
    "##### 3.Interpreted Language -\n",
    "Which means Python can be executed immediately without the need for compilation. i.e code will run line by line.This makes it easier to test and debug code.\n",
    "##### 4.Cross-platform Language -\n",
    "which meance capabale of running on multiple platforms, like windows, macOS, Linux etc.\n",
    "##### 5.Free and Open Source - \n",
    "which meance that it's free to use and distribute. i.e no need to license. This makes it accessible to a wide range of users, including individuals, businesses, and educational institutions.\n",
    "##### 6.Object-Oriented Language -\n",
    "This means that it allows developers to use objects to represent and manipulate data, rather than just using functions and procedures.\n",
    "class is blue print of object\n",
    "\n",
    "##### 7.Extensible programming language -\n",
    "This means that developers can extend the language by adding new modules or packages to it, which provide additional functionality and features beyond what is available in the core language.\n",
    "##### 8.Large Standard Library -\n",
    "which provides a wide range of modules and tools for various tasks which make it easy to perform complex tasks with minimal coding efforts\n",
    "##### 9.Dynamically typed -\n",
    "which means that the data type of a variable is determined at runtime. This allows for greater flexibility and makes it easier to write code\n",
    "Applications"
   ]
  },
  {
   "cell_type": "markdown",
   "id": "2cd42e6d",
   "metadata": {},
   "source": [
    "### Applications:-\n",
    "\n",
    "###### Python is a versatile programming language with a wide range of applications in various domains.\n"
   ]
  },
  {
   "cell_type": "markdown",
   "id": "d7acef54",
   "metadata": {},
   "source": [
    "###### Here are some of the most popular applications of Python:"
   ]
  },
  {
   "cell_type": "markdown",
   "id": "9fe929f1",
   "metadata": {},
   "source": [
    "#### 1.Web Development: \n",
    "    Python is used for developing web applications and web services. Popular web frameworks like Django and Flask are built using Python. e.g NASA Web\n",
    "#### 2.Data Science: \n",
    "Python is widely used in data science for tasks such as data analysis, data visualization, and machine learning. Popular data science libraries like NumPy, Pandas, and Scikit-learn are built using Python.\n",
    "#### 3.Artificial Intelligence:\n",
    "Python is used for developing artificial intelligence and machine learning algorithms. Popular libraries like TensorFlow and Keras are built using Python.\n",
    "#### 4.Scientific & numeric Computing:\n",
    "Python is used for scientific computing and mathematical modeling. Popular libraries like SciPy and SymPy are built using Python.\n",
    "#### 5.Automation and Scripting:\n",
    "Python is used for automating tasks and scripting. It is widely used for tasks such as data processing, system administration, and network automation.\n",
    "#### 6.Game Development: \n",
    "Python is used for game development. Popular game engines like Pygame and Panda3D are built using Python.\n",
    "Desktop Application Development: Python is used for developing desktop applications. Popular GUI frameworks like PyQt and wxPython are built using Python.\n",
    "#### 7.Education: \n",
    "Python is widely used in education as a teaching language for computer science and programming courses.\n",
    "#### 8.Desktop Application Development: \n",
    "Python is used for developing desktop applications. Popular GUI frameworks like PyQt and wxPython are built using Python.\n",
    "##### 9.Software Development:\n",
    "##### 10.Business Applications:\n",
    "##### 11.Console Based Application:\n",
    "##### 12.Audio or Video based Applications:\n",
    "##### 13.3D CAD Applications:\n"
   ]
  },
  {
   "cell_type": "markdown",
   "id": "90514f35",
   "metadata": {},
   "source": [
    "## Good to know python language\n",
    "#### python include below poits"
   ]
  },
  {
   "cell_type": "markdown",
   "id": "2e643962",
   "metadata": {},
   "source": [
    "###### 1.Functional Programming Features from C\n",
    "###### 2.Object Oriented Programming Features from C++\n",
    "###### 3.Scripting Language Features from Perl & Shell Script\n",
    "###### 4.Modular Programming Features from Modula-3"
   ]
  },
  {
   "cell_type": "code",
   "execution_count": 1,
   "id": "d9539bc7",
   "metadata": {},
   "outputs": [
    {
     "name": "stdout",
     "output_type": "stream",
     "text": [
      "Hello\n",
      "God\n"
     ]
    }
   ],
   "source": [
    "print (\"Hello\")\n",
    "print(\"God\")"
   ]
  },
  {
   "cell_type": "markdown",
   "id": "756494db",
   "metadata": {},
   "source": [
    "Note: It is very simple to print hello in python, as compared to other programming languages, coding in python is really less time consuming than other programming languages"
   ]
  },
  {
   "cell_type": "markdown",
   "id": "b3daae1d",
   "metadata": {},
   "source": [
    "# Identifiers\n"
   ]
  },
  {
   "cell_type": "code",
   "execution_count": 2,
   "id": "209ab5c3",
   "metadata": {},
   "outputs": [
    {
     "ename": "SyntaxError",
     "evalue": "invalid decimal literal (1162620381.py, line 1)",
     "output_type": "error",
     "traceback": [
      "\u001b[1;36m  Cell \u001b[1;32mIn [2], line 1\u001b[1;36m\u001b[0m\n\u001b[1;33m    1.Names in python are call as identifier,\u001b[0m\n\u001b[1;37m     ^\u001b[0m\n\u001b[1;31mSyntaxError\u001b[0m\u001b[1;31m:\u001b[0m invalid decimal literal\n"
     ]
    }
   ],
   "source": [
    "1.Names in python are call as identifier,\n",
    "2.Funtion name,variable name,module name , class are  identifire in python"
   ]
  },
  {
   "cell_type": "markdown",
   "id": "ce012f90",
   "metadata": {},
   "source": [
    "###### RULES"
   ]
  },
  {
   "cell_type": "code",
   "execution_count": null,
   "id": "9ad3941f",
   "metadata": {},
   "outputs": [],
   "source": [
    "1. The first character of an identifier must be a letter (uppercase or lowercase) or an underscore (_). The rest of the characters can be letters, underscores, or digits (0-9).\n",
    "If Identifier is start with Underscore (_) then it indicates it is private.\n",
    "Identifier should not start with Digits.\n",
    "Identifiers are case sensitive.\n",
    "For example, \"myVar\" and \"myvar\" are two different identifiers.\n",
    "\n",
    "Identifiers cannot be keywords or reserved words. because reserved keywords are words that have a special meaning in Python and cannot be used as identifiers.\n",
    "Examples of reserved keywords in Python include \"if\", \"else\", \"while\", \"for\", \"and\", \"or\", \"not\", \"in\", \"is\", \"class\", \"def\", \"return\", \"import\", \"from\", \"try\", \"except\", \"raise\", \"finally\", and \"assert\".Special Notes\n",
    "If identifier starts with '_' (single underscore) symbol,then it is private\n",
    "\n",
    "If identifier starts with '__' (double underscore), indicate that it is a strongly private.\n",
    "\n",
    "If the identifier starts and ends with \"__\" (double underscore) symbols, then such identifiers are language defined special name, which is also known as magic methods\n",
    "\n",
    "e.g int , doit"
   ]
  },
  {
   "cell_type": "markdown",
   "id": "6e5840e3",
   "metadata": {},
   "source": [
    "###### examples of identifiers\n"
   ]
  },
  {
   "cell_type": "markdown",
   "id": "ceae5821",
   "metadata": {},
   "source": [
    "x=10\n",
    "y=20\n",
    "_x =30\n",
    "\n",
    "print(x)\n",
    "print(y)\n",
    "print(_x)"
   ]
  },
  {
   "cell_type": "code",
   "execution_count": null,
   "id": "d010ba0c",
   "metadata": {},
   "outputs": [],
   "source": [
    "name = \"Python\"\n",
    "print(\"name :\",name)\n",
    "print('*'*90)\n",
    "NAME = 'Python'\n",
    "print('name :',NAME)\n",
    "print('*'*90)\n",
    "_NAME = 'Python'\n",
    "print('_Name :',_NAME)\n",
    "print('*'*90)\n",
    "fname = 'Python'\n",
    "print('Fname :',fname)\n",
    "print('*'*90)\n",
    "fname123 = 'Python'\n",
    "print('fname123 :',fname123)\n",
    "print('*'*90)\n",
    "f_name_123 = 'python'\n",
    "print('f_name_123 :',f_name_123)\n",
    "\n",
    "\n"
   ]
  },
  {
   "cell_type": "code",
   "execution_count": null,
   "id": "46634f79",
   "metadata": {},
   "outputs": [],
   "source": [
    "a = 10 \n",
    "print('a =',a)\n",
    "print('Type of a :',type(a))\n",
    "\n",
    "print('*'*90)\n",
    "\n",
    "fname = 'sikander'\n",
    "print('type =', fname)\n",
    "print('type of fname :',type(fname))\n",
    "\n",
    "print('*'*90)\n",
    "complex_number =1+2j\n",
    "print('Complex_number :',type(complex_number))"
   ]
  },
  {
   "cell_type": "code",
   "execution_count": null,
   "id": "ad423aad",
   "metadata": {},
   "outputs": [],
   "source": []
  },
  {
   "cell_type": "code",
   "execution_count": null,
   "id": "405b5dfb",
   "metadata": {},
   "outputs": [],
   "source": []
  },
  {
   "cell_type": "code",
   "execution_count": null,
   "id": "1e7fd1d9",
   "metadata": {},
   "outputs": [],
   "source": []
  },
  {
   "cell_type": "code",
   "execution_count": null,
   "id": "1516b038",
   "metadata": {},
   "outputs": [],
   "source": []
  },
  {
   "cell_type": "code",
   "execution_count": null,
   "id": "6bdb5b63",
   "metadata": {},
   "outputs": [],
   "source": []
  },
  {
   "cell_type": "code",
   "execution_count": null,
   "id": "0e5716ad",
   "metadata": {},
   "outputs": [],
   "source": []
  },
  {
   "cell_type": "code",
   "execution_count": null,
   "id": "8f0b2020",
   "metadata": {},
   "outputs": [],
   "source": []
  },
  {
   "cell_type": "code",
   "execution_count": 3,
   "id": "03c4629e",
   "metadata": {},
   "outputs": [
    {
     "name": "stdout",
     "output_type": "stream",
     "text": [
      "The Zen of Python, by Tim Peters\n",
      "\n",
      "Beautiful is better than ugly.\n",
      "Explicit is better than implicit.\n",
      "Simple is better than complex.\n",
      "Complex is better than complicated.\n",
      "Flat is better than nested.\n",
      "Sparse is better than dense.\n",
      "Readability counts.\n",
      "Special cases aren't special enough to break the rules.\n",
      "Although practicality beats purity.\n",
      "Errors should never pass silently.\n",
      "Unless explicitly silenced.\n",
      "In the face of ambiguity, refuse the temptation to guess.\n",
      "There should be one-- and preferably only one --obvious way to do it.\n",
      "Although that way may not be obvious at first unless you're Dutch.\n",
      "Now is better than never.\n",
      "Although never is often better than *right* now.\n",
      "If the implementation is hard to explain, it's a bad idea.\n",
      "If the implementation is easy to explain, it may be a good idea.\n",
      "Namespaces are one honking great idea -- let's do more of those!\n"
     ]
    }
   ],
   "source": [
    "import this"
   ]
  },
  {
   "cell_type": "code",
   "execution_count": 4,
   "id": "96336aa4",
   "metadata": {},
   "outputs": [
    {
     "ename": "SyntaxError",
     "evalue": "unterminated string literal (detected at line 1) (1787880279.py, line 1)",
     "output_type": "error",
     "traceback": [
      "\u001b[1;36m  Cell \u001b[1;32mIn [4], line 1\u001b[1;36m\u001b[0m\n\u001b[1;33m    \"Pythonचं ध्यान, टिम पीटर्स यांचं\u001b[0m\n\u001b[1;37m    ^\u001b[0m\n\u001b[1;31mSyntaxError\u001b[0m\u001b[1;31m:\u001b[0m unterminated string literal (detected at line 1)\n"
     ]
    }
   ],
   "source": [
    "\"Pythonचं ध्यान, टिम पीटर्स यांचं\n",
    "\n",
    "सुंदर शेपटी अशा होणारं श्रेयस्कर\n",
    "स्पष्ट असलेलं, निहित अनुमानांपेक्षा श्रेयस्कर\n",
    "साधा, कितीतरी सांगितलं असलं अशा कितीतरी जटिल असलेलं श्रेयस्कर\n",
    "जटिल, कितीतरी संकटस्पद असलेलं अशा कितीतरी संकटस्पद असलेलं श्रेयस्कर\n",
    "समतल, एकतर अंतर्जालात असलं अशा कितीतरी घन असलेलं श्रेयस्कर\n",
    "विरासत, जलद असल्याचं महत्त्व असं कितीतरी स्पष्टपणे म्हणणे घेतंय.\n",
    "विशेष प्रकारे नियमे तोडण्यासाठी प्रत्यक्षतेचं शक्ती असू नये.\n",
    "परंतु व्यावसायिकतेने पवित्रतेला मान्यता असल्याने.\n",
    "चुका नेहमीचे चुकून जाणार नाही.\n",
    "परंतु प्रत्यक्षपणे चुकून जाणार असल्यास, ते उत्तम विचारलं जातं.\n",
    "नामस्थान, एक महान विचार आहे - आम्ही अधिक करूया.\""
   ]
  },
  {
   "cell_type": "markdown",
   "id": "2cad51ce",
   "metadata": {},
   "source": [
    "### Data Types in Python\n"
   ]
  },
  {
   "cell_type": "markdown",
   "id": "d467c68d",
   "metadata": {},
   "source": [
    "Data type of variable is the type of value inside that variable.\n",
    "\n",
    "In python we do not need to mention the data type of variable, It automatically assigns data type\n",
    "\n",
    "Python is a dynamically-typed language, which means that the data type of a variable is determined at runtime. Python has several built-in data types, including:\n",
    "\n",
    "##### 1.Numbers: \n",
    "    Python supports integers, floating-point numbers, and complex numbers. For example, 42, 3.14, and 2 + 3j are all valid numbers in Python.\n",
    "##### 2.Strings: \n",
    "    Strings are sequences of characters. They can be enclosed in single quotes ('...') or double quotes (\"...\"). For example, 'hello' and \"world\" are both valid strings.\n",
    "##### 3.Booleans: \n",
    "    Booleans represent either true or false.\n",
    "    The two possible values of a boolean are True and False.\n",
    "##### 4.Lists: \n",
    "    Lists are ordered collections of items, which can be of different types. They are mutable, which means that you can add, remove, or modify elements in a list. For example, [1, 2, 3] and ['apple', 'banana', 'cherry'] are both valid lists.\n",
    "##### 5.Tuples: \n",
    "    Tuples are similar to lists, but they are immutable, which means that you cannot modify them once they are created. They are often used to represent fixed collections of values. Tuples are enclosed in parentheses. For example, (1, 2, 3) is a tuple.\n",
    "##### 6.Sets: \n",
    "    Sets are unordered collections of unique items. They are enclosed in curly braces. For example, {1, 2, 3} is a set.\n",
    "##### 7.Dictionaries:\n",
    "    Dictionaries are collections of key-value pairs. The keys are unique, and each key is associated with a value. Dictionaries are enclosed in curly braces, and the key-value pairs are separated by colons. For example, {'apple': 2, 'banana': 3, 'cherry': 5} is a dictionary.\n",
    "##### 89.bytes:\n",
    "##### 9.bytearray:\n",
    "##### 10.range:\n",
    "##### 11.None:\n",
    "In addition to these built-in data types, Python also supports several data type modules, such as datetime, which provides objects to work with dates and times, and math, which provides functions to work with mathematical operations."
   ]
  },
  {
   "cell_type": "code",
   "execution_count": null,
   "id": "bb5cd382",
   "metadata": {},
   "outputs": [],
   "source": [
    "var = 10\n",
    "print('Output :',var,type(var))"
   ]
  },
  {
   "cell_type": "code",
   "execution_count": null,
   "id": "21eb3704",
   "metadata": {},
   "outputs": [],
   "source": []
  },
  {
   "cell_type": "code",
   "execution_count": null,
   "id": "137308d3",
   "metadata": {},
   "outputs": [],
   "source": []
  },
  {
   "cell_type": "code",
   "execution_count": null,
   "id": "c19fd2ee",
   "metadata": {},
   "outputs": [],
   "source": []
  },
  {
   "cell_type": "markdown",
   "id": "0b61ccdc",
   "metadata": {},
   "source": [
    "# Keywords"
   ]
  },
  {
   "cell_type": "markdown",
   "id": "130364a6",
   "metadata": {},
   "source": [
    "##### Defination : keyswords are the system reserved words which can be used by user and can not be re-declared by user\n",
    "\n",
    " There are around 35 reserved keywords"
   ]
  },
  {
   "cell_type": "markdown",
   "id": "c59b9a0b",
   "metadata": {},
   "source": [
    "##### False', 'None', 'True', 'peg_parser', 'and', 'as', 'assert', 'async', 'await', 'break', 'class', 'continue', 'def', 'del', 'elif', 'else', 'except', 'finally', 'for', 'from', 'global', 'if', 'import', 'in', 'is', 'lambda', 'nonlocal', 'not', 'or', 'pass', 'raise', 'return', 'try', 'while', 'with', 'yield'"
   ]
  },
  {
   "cell_type": "markdown",
   "id": "f20a1bda",
   "metadata": {},
   "source": [
    "we can see these Keywords by using code in python \n",
    "     Import keyword,print(keyword.kwlist)"
   ]
  },
  {
   "cell_type": "code",
   "execution_count": null,
   "id": "d997eaa2",
   "metadata": {},
   "outputs": [],
   "source": [
    "import keyword\n",
    "print(keyword.kwlist)\n",
    "print(\".\"*90)\n",
    "print(len(keyword.kwlist))"
   ]
  },
  {
   "cell_type": "code",
   "execution_count": 1,
   "id": "86cc87be",
   "metadata": {
    "scrolled": false
   },
   "outputs": [
    {
     "name": "stdout",
     "output_type": "stream",
     "text": [
      "['False', 'None', 'True', 'and', 'as', 'assert', 'async', 'await', 'break', 'class', 'continue', 'def', 'del', 'elif', 'else', 'except', 'finally', 'for', 'from', 'global', 'if', 'import', 'in', 'is', 'lambda', 'nonlocal', 'not', 'or', 'pass', 'raise', 'return', 'try', 'while', 'with', 'yield']\n"
     ]
    }
   ],
   "source": [
    "import keyword\n",
    "print(keyword.kwlist)"
   ]
  },
  {
   "cell_type": "code",
   "execution_count": 2,
   "id": "1191b02e",
   "metadata": {},
   "outputs": [
    {
     "name": "stdout",
     "output_type": "stream",
     "text": [
      "35\n"
     ]
    }
   ],
   "source": [
    "print(len(keyword.kwlist))\n"
   ]
  },
  {
   "cell_type": "markdown",
   "id": "ce7b7566",
   "metadata": {},
   "source": [
    "# Integer "
   ]
  },
  {
   "cell_type": "code",
   "execution_count": null,
   "id": "327f8655",
   "metadata": {},
   "outputs": [],
   "source": [
    "var=10 \n",
    "print('Output :',var,type(var))"
   ]
  },
  {
   "cell_type": "markdown",
   "id": "e202fb67",
   "metadata": {},
   "source": [
    "### Types of Number System\n",
    "1.Decimal number system\n",
    "\n",
    "2.Binary Number System\n",
    "\n",
    "3.Octal Number system\n",
    "\n",
    "4.Hexadecimal Number System"
   ]
  },
  {
   "cell_type": "code",
   "execution_count": null,
   "id": "924b8a4e",
   "metadata": {},
   "outputs": [],
   "source": [
    "# octal numbers\n",
    "var=0o0 # equivalent to decimal value 0\n",
    "print(var,type(var))\n",
    "print('*'*100)\n",
    "\n",
    "var=0o1 # equivalent to decimal value 1\n",
    "print(var,type(var))\n",
    "print('*'*100)\n",
    "\n",
    "var=0o2\n",
    "print(var,type(var))\n",
    "print('*'*100)\n",
    "\n",
    "var=0o3\n",
    "print(var,type(var))\n",
    "print('*'*100)\n",
    "\n",
    "var=0o4\n",
    "print(var,type(var))\n",
    "print('*'*100)\n",
    "\n",
    "var=0o5\n",
    "print(var,type(var))\n",
    "print('*'*100)\n",
    "\n",
    "var=0o6\n",
    "print(var,type(var))\n",
    "print('*'*100)\n",
    "\n",
    "var=0o7\n",
    "print(var,type(var))\n",
    "print('*'*100)\n",
    "\n",
    "var=0o10\n",
    "print(var,type(var))\n",
    "print('*'*100)\n",
    "\n",
    "\n",
    "var=0o11 # equivalent to decimal value 9\n",
    "print(var,type(var))\n",
    "print('*'*100)\n",
    "\n",
    "var=0o11111000\n",
    "print(var,type(var))\n",
    "print('*'*100)\n"
   ]
  },
  {
   "cell_type": "code",
   "execution_count": null,
   "id": "fb0385ed",
   "metadata": {},
   "outputs": [],
   "source": [
    "# Decimal to hex converison\n",
    "input1 = 157\n",
    "input2 = 200\n",
    "\n",
    "output1 = hex(input1)\n",
    "print('Decimal Number {} to octal number {}'.format(input1, output1))\n",
    "output2 = hex(input2)\n",
    "print('Decimal Number {} to octal number {}'.format(input2, output2))"
   ]
  },
  {
   "cell_type": "code",
   "execution_count": null,
   "id": "21ce169a",
   "metadata": {},
   "outputs": [],
   "source": [
    "# Decimal to hex converison\n",
    "input1 = 255\n",
    "input2 = 200\n",
    "\n",
    "output1 = hex(input1)\n",
    "print('Decimal Number {} to octal number {}'.format(input1, output1))\n",
    "output2 = hex(input2)\n",
    "print('Decimal Number {} to octal number {}'.format(input2, output2))"
   ]
  },
  {
   "cell_type": "code",
   "execution_count": null,
   "id": "4a175feb",
   "metadata": {},
   "outputs": [],
   "source": [
    "var=10.10\n",
    "print('output:',var)\n",
    "print(type(var))"
   ]
  },
  {
   "cell_type": "code",
   "execution_count": 5,
   "id": "06a4f7c1",
   "metadata": {
    "scrolled": true
   },
   "outputs": [
    {
     "name": "stdout",
     "output_type": "stream",
     "text": [
      "Hello world\n",
      "weelcome to my channel\n"
     ]
    }
   ],
   "source": [
    "print(\"Hello world\")\n",
    "print(\"weelcome to my channel\")"
   ]
  },
  {
   "cell_type": "code",
   "execution_count": 6,
   "id": "a1dea373",
   "metadata": {},
   "outputs": [
    {
     "name": "stdout",
     "output_type": "stream",
     "text": [
      "hello\n"
     ]
    }
   ],
   "source": [
    "# single line and multiline comment\n",
    "'''\n",
    "welcome to my youtube\n",
    "\n",
    "'''\n",
    "\n",
    "print(\"hello\")"
   ]
  },
  {
   "cell_type": "code",
   "execution_count": 7,
   "id": "c79fd7aa",
   "metadata": {},
   "outputs": [
    {
     "name": "stdout",
     "output_type": "stream",
     "text": [
      "10\n"
     ]
    }
   ],
   "source": [
    "#variable declaration\n",
    "a =10\n",
    "print (a)"
   ]
  },
  {
   "cell_type": "code",
   "execution_count": 8,
   "id": "9c32b585",
   "metadata": {},
   "outputs": [
    {
     "name": "stdout",
     "output_type": "stream",
     "text": [
      "10\n"
     ]
    }
   ],
   "source": [
    "print(a)"
   ]
  },
  {
   "cell_type": "code",
   "execution_count": 9,
   "id": "8a2b339c",
   "metadata": {},
   "outputs": [
    {
     "name": "stdout",
     "output_type": "stream",
     "text": [
      "<class 'int'>\n"
     ]
    }
   ],
   "source": [
    "print(type(a))"
   ]
  },
  {
   "cell_type": "code",
   "execution_count": 10,
   "id": "7e0a20f0",
   "metadata": {},
   "outputs": [],
   "source": [
    "tenth=10\n",
    "b=40\n",
    "c=\"krish\"\n"
   ]
  },
  {
   "cell_type": "code",
   "execution_count": 11,
   "id": "1502f8e5",
   "metadata": {},
   "outputs": [
    {
     "data": {
      "text/plain": [
       "str"
      ]
     },
     "execution_count": 11,
     "metadata": {},
     "output_type": "execute_result"
    }
   ],
   "source": [
    "type(c)"
   ]
  },
  {
   "cell_type": "code",
   "execution_count": 12,
   "id": "0c505eb0",
   "metadata": {},
   "outputs": [],
   "source": [
    "a1=10"
   ]
  },
  {
   "cell_type": "code",
   "execution_count": 13,
   "id": "06cea0e0",
   "metadata": {},
   "outputs": [
    {
     "name": "stdout",
     "output_type": "stream",
     "text": [
      "krish\n"
     ]
    }
   ],
   "source": [
    "first_name='krish'\n",
    "print(first_name)"
   ]
  },
  {
   "cell_type": "code",
   "execution_count": 14,
   "id": "d808b4c0",
   "metadata": {},
   "outputs": [
    {
     "data": {
      "text/plain": [
       "int"
      ]
     },
     "execution_count": 14,
     "metadata": {},
     "output_type": "execute_result"
    }
   ],
   "source": [
    "# integer\n",
    "a =10\n",
    "type(a)"
   ]
  },
  {
   "cell_type": "code",
   "execution_count": 15,
   "id": "49cdebcf",
   "metadata": {},
   "outputs": [
    {
     "data": {
      "text/plain": [
       "20"
      ]
     },
     "execution_count": 15,
     "metadata": {},
     "output_type": "execute_result"
    }
   ],
   "source": [
    "a+10"
   ]
  },
  {
   "cell_type": "code",
   "execution_count": 16,
   "id": "a5c2b627",
   "metadata": {},
   "outputs": [
    {
     "data": {
      "text/plain": [
       "100"
      ]
     },
     "execution_count": 16,
     "metadata": {},
     "output_type": "execute_result"
    }
   ],
   "source": [
    "a*10"
   ]
  },
  {
   "cell_type": "code",
   "execution_count": 17,
   "id": "e5abd3b7",
   "metadata": {},
   "outputs": [
    {
     "data": {
      "text/plain": [
       "1"
      ]
     },
     "execution_count": 17,
     "metadata": {},
     "output_type": "execute_result"
    }
   ],
   "source": [
    "a-9"
   ]
  },
  {
   "cell_type": "code",
   "execution_count": 18,
   "id": "a882071e",
   "metadata": {},
   "outputs": [
    {
     "data": {
      "text/plain": [
       "0"
      ]
     },
     "execution_count": 18,
     "metadata": {},
     "output_type": "execute_result"
    }
   ],
   "source": [
    "a%10"
   ]
  },
  {
   "cell_type": "code",
   "execution_count": 19,
   "id": "1248718d",
   "metadata": {},
   "outputs": [
    {
     "name": "stdout",
     "output_type": "stream",
     "text": [
      "<class 'int'>\n"
     ]
    }
   ],
   "source": [
    "print(type(a))"
   ]
  },
  {
   "cell_type": "code",
   "execution_count": 20,
   "id": "7e0e382d",
   "metadata": {},
   "outputs": [
    {
     "name": "stdout",
     "output_type": "stream",
     "text": [
      "30\n"
     ]
    }
   ],
   "source": [
    "a=10\n",
    "b=20\n",
    "\n",
    "print(a+b)"
   ]
  },
  {
   "cell_type": "code",
   "execution_count": 21,
   "id": "103ab5d6",
   "metadata": {},
   "outputs": [
    {
     "data": {
      "text/plain": [
       "1.0"
      ]
     },
     "execution_count": 21,
     "metadata": {},
     "output_type": "execute_result"
    }
   ],
   "source": [
    "a/10"
   ]
  },
  {
   "cell_type": "markdown",
   "id": "1d1bb820",
   "metadata": {},
   "source": [
    "### Float"
   ]
  },
  {
   "cell_type": "code",
   "execution_count": 1,
   "id": "c722be98",
   "metadata": {},
   "outputs": [
    {
     "name": "stdout",
     "output_type": "stream",
     "text": [
      "output: 10.1\n",
      "<class 'float'>\n"
     ]
    }
   ],
   "source": [
    "var = 10.10\n",
    "print('output:',var)\n",
    "print(type(var))\n"
   ]
  },
  {
   "cell_type": "code",
   "execution_count": 2,
   "id": "46f4c5da",
   "metadata": {},
   "outputs": [
    {
     "name": "stdout",
     "output_type": "stream",
     "text": [
      "<class 'float'>\n",
      "12.377\n"
     ]
    }
   ],
   "source": [
    "a = 12.377\n",
    "print(type(a))\n",
    "print(a)"
   ]
  },
  {
   "cell_type": "markdown",
   "id": "897b976d",
   "metadata": {},
   "source": [
    "### Complex"
   ]
  },
  {
   "cell_type": "code",
   "execution_count": 3,
   "id": "51e22b53",
   "metadata": {},
   "outputs": [
    {
     "name": "stdout",
     "output_type": "stream",
     "text": [
      "(10+20j)\n",
      "10.0\n",
      "20.0\n"
     ]
    }
   ],
   "source": [
    "com = 10 +20j #real+imag\n",
    "print(com)\n",
    "print(com.real)\n",
    "print(com.imag)"
   ]
  },
  {
   "cell_type": "code",
   "execution_count": 5,
   "id": "6cd8cb1d",
   "metadata": {},
   "outputs": [
    {
     "name": "stdout",
     "output_type": "stream",
     "text": [
      "output: (1+2j)\n",
      "<class 'complex'>\n"
     ]
    }
   ],
   "source": [
    "var = 1 + 2j\n",
    "print(\"output:\",var)\n",
    "print(type(var))"
   ]
  },
  {
   "cell_type": "markdown",
   "id": "814bed03",
   "metadata": {},
   "source": [
    "### Complex "
   ]
  },
  {
   "cell_type": "code",
   "execution_count": 6,
   "id": "fe3e39dd",
   "metadata": {},
   "outputs": [
    {
     "name": "stdout",
     "output_type": "stream",
     "text": [
      "Real : 1.0\n",
      "<class 'float'>\n",
      "******************************************************************************************\n",
      "imaginary : 2.0\n",
      "<class 'float'>\n"
     ]
    }
   ],
   "source": [
    "print(\"Real :\", var.real)\n",
    "print(type(var.real))\n",
    "print(\"*\"*90)\n",
    "print(\"imaginary :\",var.imag)\n",
    "print(type(var.imag))"
   ]
  },
  {
   "cell_type": "markdown",
   "id": "c7a76057",
   "metadata": {},
   "source": [
    "## Boolean"
   ]
  },
  {
   "cell_type": "code",
   "execution_count": 7,
   "id": "e2a4dc06",
   "metadata": {},
   "outputs": [
    {
     "name": "stdout",
     "output_type": "stream",
     "text": [
      "Output: <class 'bool'>\n",
      "True <class 'str'>\n",
      "False <class 'bool'>\n"
     ]
    }
   ],
   "source": [
    "var = True \n",
    "var_1 = False \n",
    "x = 'True'\n",
    "print('Output:', type(var))\n",
    "print(x,type(x))\n",
    "print(var_1,type(var_1))\n"
   ]
  },
  {
   "cell_type": "code",
   "execution_count": 8,
   "id": "856e4893",
   "metadata": {},
   "outputs": [
    {
     "name": "stdout",
     "output_type": "stream",
     "text": [
      "1 0\n"
     ]
    }
   ],
   "source": [
    "print(int(True),int(False))"
   ]
  },
  {
   "cell_type": "code",
   "execution_count": 10,
   "id": "6d4ec5b1",
   "metadata": {},
   "outputs": [
    {
     "name": "stdout",
     "output_type": "stream",
     "text": [
      "1.0 0.0\n"
     ]
    }
   ],
   "source": [
    "print(float(True),float(False))"
   ]
  },
  {
   "cell_type": "code",
   "execution_count": 12,
   "id": "4c325110",
   "metadata": {},
   "outputs": [
    {
     "name": "stdout",
     "output_type": "stream",
     "text": [
      "1 0\n"
     ]
    }
   ],
   "source": [
    "print(int(True),int(False))"
   ]
  },
  {
   "cell_type": "code",
   "execution_count": 16,
   "id": "f69c365e",
   "metadata": {},
   "outputs": [
    {
     "name": "stdout",
     "output_type": "stream",
     "text": [
      "(1+0j) 0j\n",
      "(1+0j)\n",
      "1j\n",
      "0j\n"
     ]
    }
   ],
   "source": [
    "print(complex(True),complex(False))\n",
    "print(complex(True,False))\n",
    "print(complex(False,True))\n",
    "c=0+0j\n",
    "print(c)"
   ]
  },
  {
   "cell_type": "code",
   "execution_count": 17,
   "id": "eaf81499",
   "metadata": {},
   "outputs": [
    {
     "name": "stdout",
     "output_type": "stream",
     "text": [
      "True\n",
      "False\n"
     ]
    }
   ],
   "source": [
    "print(str(True))\n",
    "print(str(False))"
   ]
  },
  {
   "cell_type": "code",
   "execution_count": 18,
   "id": "14b81f06",
   "metadata": {},
   "outputs": [
    {
     "name": "stdout",
     "output_type": "stream",
     "text": [
      "True\n",
      "False\n"
     ]
    }
   ],
   "source": [
    "print(str(True))\n",
    "print(str(False))"
   ]
  },
  {
   "cell_type": "code",
   "execution_count": 19,
   "id": "28ba855d",
   "metadata": {},
   "outputs": [
    {
     "name": "stdout",
     "output_type": "stream",
     "text": [
      "True\n",
      "True\n",
      "False\n"
     ]
    }
   ],
   "source": [
    "print(bool(3.1))\n",
    "print(bool(0.3))\n",
    "print(bool(0.0))"
   ]
  },
  {
   "cell_type": "code",
   "execution_count": 2,
   "id": "04a7e3c1",
   "metadata": {},
   "outputs": [
    {
     "name": "stdout",
     "output_type": "stream",
     "text": [
      "False\n",
      "False\n",
      "True\n",
      "True\n"
     ]
    }
   ],
   "source": [
    "print(bool(\"\"))\n",
    "print(bool())\n",
    "print(bool('don'))\n",
    "print(bool(11))\n"
   ]
  },
  {
   "cell_type": "code",
   "execution_count": 4,
   "id": "08e0e65a",
   "metadata": {},
   "outputs": [
    {
     "name": "stdout",
     "output_type": "stream",
     "text": [
      "True\n",
      "True\n",
      "True\n",
      "False\n"
     ]
    }
   ],
   "source": [
    "print(bool(1+2j))\n",
    "print(bool(2+0j))\n",
    "print(bool(0+2j))\n",
    "print(bool(0+0j))"
   ]
  },
  {
   "cell_type": "code",
   "execution_count": 8,
   "id": "933750f2",
   "metadata": {},
   "outputs": [
    {
     "name": "stdout",
     "output_type": "stream",
     "text": [
      "int to bool\n",
      "int to bool\n",
      "****************************************************************************************************\n",
      "float to bool: True\n",
      "float to bool\n",
      "****************************************************************************************************\n",
      "string to bool: True\n",
      "string to bool: False\n",
      "****************************************************************************************************\n",
      "complex to bool: True\n",
      "complex to bool: True\n",
      "complex to bool: False\n",
      "complex to bool: False\n",
      "****************************************************************************************************\n"
     ]
    }
   ],
   "source": [
    "# convting of int/str to bool\n",
    "x = bool(100)\n",
    "print('int to bool')\n",
    "xx=bool(0)\n",
    "print('int to bool')\n",
    "print(\"*\"*100)\n",
    "\n",
    "y=bool(10.10)\n",
    "print('float to bool:',y)\n",
    "yy=bool(0.0)\n",
    "print('float to bool')\n",
    "print(\"*\"*100)\n",
    "\n",
    "z=bool(\"100\")\n",
    "print('string to bool:',z)\n",
    "zz=bool(\"\")\n",
    "print('string to bool:',zz)\n",
    "print(\"*\"*100)\n",
    "\n",
    "\n",
    "z = bool(1+0j)\n",
    "print('complex to bool:',z)\n",
    "zz=bool(4+2j)\n",
    "print('complex to bool:',zz)\n",
    "zzz=bool(0+0j) #at least one value should be required\n",
    "print('complex to bool:',zzz)\n",
    "zzzz=bool(0+2j)\n",
    "print('complex to bool:',zzz)\n",
    "print(\"*\"*100)\n"
   ]
  },
  {
   "cell_type": "markdown",
   "id": "d436dd57",
   "metadata": {},
   "source": [
    "\n",
    "# string"
   ]
  },
  {
   "cell_type": "markdown",
   "id": "d0d14e41",
   "metadata": {},
   "source": [
    "\n",
    "\n",
    "## string is sequence of characters e.g \"This is string\"\n",
    "\n",
    "#### 1.string is a sequence of characters enclosed in quotes\n",
    "\n",
    "#### 2.Strings in Python are immutable, which means you cannot change the contents of a string once it is created. However, you can create a new string by concatenating two or more strings together using the + operator or repeating a string using the * operator\n",
    "\n",
    "#### Duplicates allowed\n",
    "\n",
    "#### #4.store all the characters in string\n",
    "\n",
    "#### Available methods in string:\n",
    "\n",
    "#### 1.str.upper(): Returns a new string with all characters converted to uppercase.\n",
    "#### 2.str.lower(): Returns a new string with all characters converted to lowercase.\n",
    "\n",
    "#### 3.str.lower(): Returns a new string with all characters converted to lowercase.\n",
    "#### 4.str.capitalize(): Returns a copy of the string with the first character capitalized\n",
    "#### 5.str.title(): Returns a copy of the string with the first character of each word capitalized.\n",
    "#### 6.len(str): Returns the length of the string.\n",
    "#### 7.str.strip(): Returns a new string with leading and trailing whitespace removed.\n",
    "#### 8.str.replace(): Returns a new string with all occurrences of a specified substring replaced with another substring.\n",
    "#### 9.str.split(): Returns a list of substrings separated by a specified delimiter. i.e Returns a list of the words in the string, separated by whitespace.\n",
    "#### 10.str.join(iterable): Joins the elements of an iterable (e.g., a list) with the specified string as the separator.\n",
    "#### 11.str.casefold(): Converts string into lower case\n",
    "#### 12.str.center(): Returns a centered string\n",
    "#### 13.str.count(): Returns the number of times a specified value occurs in a string\n",
    "#### 14.str.endswith(): Returns true if the string ends with the specified value\n",
    "#### 15.str.find(): Searches the string for a specified value and returns the position of where it was found\n",
    "#### 16.str.swapcase(): Swaps cases, lower case becomes upper case and vice versa\n",
    "#### 17.str.startswith(): Returns true if the string starts with the specified value\n",
    "#### 18.str.isalnum(): Returns True if all characters in the string 18.are alphanumeric\n",
    "#### 19.str.isalpha(): Returns True if all characters in the string are in the alphabet\n",
    "#### 20.str.isascii(): Returns True if all characters in the string are ascii characters\n",
    "#### 21.str.isdecimal(): Returns True if all characters in the string are decimals\n",
    "#### 22.str.isdigit(): Returns True if all characters in the string are digits\n",
    "#### 23.str.isidentifier(): Returns True if the string is an identifier\n",
    "#### 24.str.islower(): Returns True if all characters in the string are lower case\n",
    "#### 25.str.isnumeric(): Returns True if all characters in the string are numeric\n",
    "#### 26.str.isprintable(): Returns True if all characters in the string are printable\n",
    "#### 27.str.isspace(): Returns True if all characters in the string are whitespaces\n",
    "#### 28.str.istitle(): Returns True if the string follows the rules of a title\n",
    "#### 29.str.isupper(): Returns True if all characters in the string are upper case"
   ]
  },
  {
   "cell_type": "code",
   "execution_count": 3,
   "id": "5debc665",
   "metadata": {},
   "outputs": [
    {
     "name": "stdout",
     "output_type": "stream",
     "text": [
      "               india is my country         \n"
     ]
    }
   ],
   "source": [
    "a = '               india is my country         '\n",
    "print(a)"
   ]
  },
  {
   "cell_type": "code",
   "execution_count": 6,
   "id": "2518d130",
   "metadata": {},
   "outputs": [
    {
     "name": "stdout",
     "output_type": "stream",
     "text": [
      "               india is my country         \n"
     ]
    }
   ],
   "source": [
    "print(a.capitalize())"
   ]
  },
  {
   "cell_type": "code",
   "execution_count": 5,
   "id": "d2c3d749",
   "metadata": {},
   "outputs": [
    {
     "name": "stdout",
     "output_type": "stream",
     "text": [
      "               India Is My Country         \n"
     ]
    }
   ],
   "source": [
    "print(a.title())"
   ]
  },
  {
   "cell_type": "code",
   "execution_count": 7,
   "id": "b9e9c129",
   "metadata": {},
   "outputs": [
    {
     "name": "stdout",
     "output_type": "stream",
     "text": [
      "india is my country\n"
     ]
    }
   ],
   "source": [
    "print(a.strip())"
   ]
  },
  {
   "cell_type": "code",
   "execution_count": 8,
   "id": "3502daab",
   "metadata": {},
   "outputs": [
    {
     "data": {
      "text/plain": [
       "'Bharat is my country'"
      ]
     },
     "execution_count": 8,
     "metadata": {},
     "output_type": "execute_result"
    }
   ],
   "source": [
    "a.replace (a,\"Bharat is my country\")"
   ]
  },
  {
   "cell_type": "code",
   "execution_count": 14,
   "id": "dded4bf5",
   "metadata": {},
   "outputs": [
    {
     "ename": "AttributeError",
     "evalue": "'float' object has no attribute 'split'",
     "output_type": "error",
     "traceback": [
      "\u001b[1;31m---------------------------------------------------------------------------\u001b[0m",
      "\u001b[1;31mAttributeError\u001b[0m                            Traceback (most recent call last)",
      "Cell \u001b[1;32mIn [14], line 1\u001b[0m\n\u001b[1;32m----> 1\u001b[0m b \u001b[38;5;241m=\u001b[39m \u001b[43ma\u001b[49m\u001b[38;5;241;43m.\u001b[39;49m\u001b[43msplit\u001b[49m()\n\u001b[0;32m      2\u001b[0m \u001b[38;5;28mprint\u001b[39m(b)\n",
      "\u001b[1;31mAttributeError\u001b[0m: 'float' object has no attribute 'split'"
     ]
    }
   ],
   "source": [
    "b = a.split()\n",
    "print(b)"
   ]
  },
  {
   "cell_type": "code",
   "execution_count": 13,
   "id": "20eb1279",
   "metadata": {},
   "outputs": [
    {
     "ename": "NameError",
     "evalue": "name 'b' is not defined",
     "output_type": "error",
     "traceback": [
      "\u001b[1;31m---------------------------------------------------------------------------\u001b[0m",
      "\u001b[1;31mNameError\u001b[0m                                 Traceback (most recent call last)",
      "Cell \u001b[1;32mIn [13], line 2\u001b[0m\n\u001b[0;32m      1\u001b[0m c \u001b[38;5;241m=\u001b[39m \u001b[38;5;124m'\u001b[39m\u001b[38;5;124m_\u001b[39m\u001b[38;5;124m'\u001b[39m\n\u001b[1;32m----> 2\u001b[0m c\u001b[38;5;241m.\u001b[39mjoin(\u001b[43mb\u001b[49m)\n",
      "\u001b[1;31mNameError\u001b[0m: name 'b' is not defined"
     ]
    }
   ],
   "source": [
    "c = '_'\n",
    "c.join(b)"
   ]
  },
  {
   "cell_type": "code",
   "execution_count": 15,
   "id": "33537e33",
   "metadata": {},
   "outputs": [
    {
     "name": "stdout",
     "output_type": "stream",
     "text": [
      "handless special cases like the german \"B\"  (sharp s) character\n"
     ]
    },
    {
     "data": {
      "text/plain": [
       "<function str.casefold()>"
      ]
     },
     "execution_count": 15,
     "metadata": {},
     "output_type": "execute_result"
    }
   ],
   "source": [
    "b ='handless special cases like the german \"B\"  (sharp s) character'\n",
    "print(b)\n",
    "b.casefold"
   ]
  },
  {
   "cell_type": "code",
   "execution_count": 17,
   "id": "8af2b0bc",
   "metadata": {},
   "outputs": [
    {
     "data": {
      "text/plain": [
       "'handless special cases like the german \"b\"  (sharp s) character'"
      ]
     },
     "execution_count": 17,
     "metadata": {},
     "output_type": "execute_result"
    }
   ],
   "source": [
    "b.lower()"
   ]
  },
  {
   "cell_type": "code",
   "execution_count": 18,
   "id": "c2ddd639",
   "metadata": {},
   "outputs": [
    {
     "data": {
      "text/plain": [
       "'            Dipak             '"
      ]
     },
     "execution_count": 18,
     "metadata": {},
     "output_type": "execute_result"
    }
   ],
   "source": [
    "d = 'Dipak'\n",
    "d.center(30)"
   ]
  },
  {
   "cell_type": "code",
   "execution_count": 20,
   "id": "5c5a13a6",
   "metadata": {},
   "outputs": [
    {
     "ename": "AttributeError",
     "evalue": "'float' object has no attribute 'count'",
     "output_type": "error",
     "traceback": [
      "\u001b[1;31m---------------------------------------------------------------------------\u001b[0m",
      "\u001b[1;31mAttributeError\u001b[0m                            Traceback (most recent call last)",
      "Cell \u001b[1;32mIn [20], line 1\u001b[0m\n\u001b[1;32m----> 1\u001b[0m \u001b[43ma\u001b[49m\u001b[38;5;241;43m.\u001b[39;49m\u001b[43mcount\u001b[49m(\u001b[38;5;124m'\u001b[39m\u001b[38;5;124mi\u001b[39m\u001b[38;5;124m'\u001b[39m)\n\u001b[0;32m      2\u001b[0m a\n",
      "\u001b[1;31mAttributeError\u001b[0m: 'float' object has no attribute 'count'"
     ]
    }
   ],
   "source": [
    "a.count('i')\n",
    "a"
   ]
  },
  {
   "cell_type": "code",
   "execution_count": 21,
   "id": "ec3c47c1",
   "metadata": {},
   "outputs": [
    {
     "name": "stdout",
     "output_type": "stream",
     "text": [
      "output:\n",
      "python3.9\n",
      "<class 'str'>\n"
     ]
    }
   ],
   "source": [
    "var = 'python3.9'\n",
    "#when values from user : data type considered as string \n",
    "print('output:')\n",
    "print(var)\n",
    "print(type(var))"
   ]
  },
  {
   "cell_type": "code",
   "execution_count": 32,
   "id": "48024592",
   "metadata": {},
   "outputs": [],
   "source": [
    "string = '''I am sorry , i connot provide information on specific individuals unless they are well-known public figures'''"
   ]
  },
  {
   "cell_type": "code",
   "execution_count": 33,
   "id": "ad598621",
   "metadata": {},
   "outputs": [
    {
     "data": {
      "text/plain": [
       "'I AM SORRY , I CONNOT PROVIDE INFORMATION ON SPECIFIC INDIVIDUALS UNLESS THEY ARE WELL-KNOWN PUBLIC FIGURES'"
      ]
     },
     "execution_count": 33,
     "metadata": {},
     "output_type": "execute_result"
    }
   ],
   "source": [
    "string.upper()"
   ]
  },
  {
   "cell_type": "code",
   "execution_count": 34,
   "id": "894a1b8a",
   "metadata": {},
   "outputs": [
    {
     "data": {
      "text/plain": [
       "'i am sorry , i connot provide information on specific individuals unless they are well-known public figures'"
      ]
     },
     "execution_count": 34,
     "metadata": {},
     "output_type": "execute_result"
    }
   ],
   "source": [
    "string.lower()"
   ]
  },
  {
   "cell_type": "code",
   "execution_count": 35,
   "id": "687f48fe",
   "metadata": {},
   "outputs": [
    {
     "data": {
      "text/plain": [
       "'i am sorry , i connot provide information on specific individuals unless they are well-known public figures'"
      ]
     },
     "execution_count": 35,
     "metadata": {},
     "output_type": "execute_result"
    }
   ],
   "source": [
    "string.lower()"
   ]
  },
  {
   "cell_type": "code",
   "execution_count": 36,
   "id": "4afb246f",
   "metadata": {},
   "outputs": [
    {
     "data": {
      "text/plain": [
       "'I am sorry , i connot provide information on specific individuals unless they are well-known public figures'"
      ]
     },
     "execution_count": 36,
     "metadata": {},
     "output_type": "execute_result"
    }
   ],
   "source": [
    "string.capitalize()"
   ]
  },
  {
   "cell_type": "code",
   "execution_count": 37,
   "id": "fd170d5f",
   "metadata": {},
   "outputs": [
    {
     "data": {
      "text/plain": [
       "107"
      ]
     },
     "execution_count": 37,
     "metadata": {},
     "output_type": "execute_result"
    }
   ],
   "source": [
    "len(string)"
   ]
  },
  {
   "cell_type": "code",
   "execution_count": 38,
   "id": "d7767a57",
   "metadata": {},
   "outputs": [
    {
     "data": {
      "text/plain": [
       "'I am sorry , i connot provide information on specific individuals unless they are well-known public figures'"
      ]
     },
     "execution_count": 38,
     "metadata": {},
     "output_type": "execute_result"
    }
   ],
   "source": [
    "string.strip()"
   ]
  },
  {
   "cell_type": "code",
   "execution_count": 39,
   "id": "4cae3d18",
   "metadata": {},
   "outputs": [
    {
     "data": {
      "text/plain": [
       "'I am sorry , i connot provide information on specific individuals unless they are well-known public figures'"
      ]
     },
     "execution_count": 39,
     "metadata": {},
     "output_type": "execute_result"
    }
   ],
   "source": [
    "string.format()"
   ]
  },
  {
   "cell_type": "code",
   "execution_count": 40,
   "id": "c526b635",
   "metadata": {},
   "outputs": [
    {
     "data": {
      "text/plain": [
       "'I AM sorry , i connot provide information on specific individuals unless they are well-known public figures'"
      ]
     },
     "execution_count": 40,
     "metadata": {},
     "output_type": "execute_result"
    }
   ],
   "source": [
    "string.replace('am','AM')"
   ]
  },
  {
   "cell_type": "code",
   "execution_count": 41,
   "id": "9ae2185f",
   "metadata": {},
   "outputs": [
    {
     "data": {
      "text/plain": [
       "['I',\n",
       " 'am',\n",
       " 'sorry',\n",
       " ',',\n",
       " 'i',\n",
       " 'connot',\n",
       " 'provide',\n",
       " 'information',\n",
       " 'on',\n",
       " 'specific',\n",
       " 'individuals',\n",
       " 'unless',\n",
       " 'they',\n",
       " 'are',\n",
       " 'well-known',\n",
       " 'public',\n",
       " 'figures']"
      ]
     },
     "execution_count": 41,
     "metadata": {},
     "output_type": "execute_result"
    }
   ],
   "source": [
    "string.split()"
   ]
  },
  {
   "cell_type": "code",
   "execution_count": 42,
   "id": "60d437db",
   "metadata": {},
   "outputs": [
    {
     "data": {
      "text/plain": [
       "'i am sorry , i connot provide information on specific individuals unless they are well-known public figures'"
      ]
     },
     "execution_count": 42,
     "metadata": {},
     "output_type": "execute_result"
    }
   ],
   "source": [
    "string.casefold()"
   ]
  },
  {
   "cell_type": "markdown",
   "id": "417f1213",
   "metadata": {},
   "source": [
    "casefold() not only converted the characters to lowercase but also handled the accented characters."
   ]
  },
  {
   "cell_type": "code",
   "execution_count": 44,
   "id": "a966bdff",
   "metadata": {},
   "outputs": [
    {
     "name": "stdout",
     "output_type": "stream",
     "text": [
      "hello world\n"
     ]
    }
   ],
   "source": [
    "text = \"Hello world\"\n",
    "result = text .casefold()\n",
    "print(result)"
   ]
  },
  {
   "cell_type": "code",
   "execution_count": 45,
   "id": "96f594a3",
   "metadata": {},
   "outputs": [
    {
     "data": {
      "text/plain": [
       "5"
      ]
     },
     "execution_count": 45,
     "metadata": {},
     "output_type": "execute_result"
    }
   ],
   "source": [
    "string.index(\"sorry\")"
   ]
  },
  {
   "cell_type": "code",
   "execution_count": 46,
   "id": "542a390c",
   "metadata": {},
   "outputs": [
    {
     "data": {
      "text/plain": [
       "11"
      ]
     },
     "execution_count": 46,
     "metadata": {},
     "output_type": "execute_result"
    }
   ],
   "source": [
    "string.count('i')"
   ]
  },
  {
   "cell_type": "code",
   "execution_count": 47,
   "id": "943c32c7",
   "metadata": {},
   "outputs": [
    {
     "data": {
      "text/plain": [
       "16"
      ]
     },
     "execution_count": 47,
     "metadata": {},
     "output_type": "execute_result"
    }
   ],
   "source": [
    "string.find('on')"
   ]
  },
  {
   "cell_type": "code",
   "execution_count": 48,
   "id": "7ef23c1e",
   "metadata": {},
   "outputs": [
    {
     "data": {
      "text/plain": [
       "'I am sorry , i connot provide information on specific individuals unless they are well-known public figures'"
      ]
     },
     "execution_count": 48,
     "metadata": {},
     "output_type": "execute_result"
    }
   ],
   "source": [
    "string.expandtabs(tabsize=10)"
   ]
  },
  {
   "cell_type": "code",
   "execution_count": 52,
   "id": "7914f478",
   "metadata": {},
   "outputs": [
    {
     "name": "stdout",
     "output_type": "stream",
     "text": [
      "Dipak                                                                                               jagadale\n"
     ]
    }
   ],
   "source": [
    "str1 = \"Dipak\\tjagadale\"\n",
    "str2 = str1.expandtabs(tabsize=100)\n",
    "print(str2)"
   ]
  },
  {
   "cell_type": "code",
   "execution_count": 53,
   "id": "486fb701",
   "metadata": {},
   "outputs": [
    {
     "data": {
      "text/plain": [
       "False"
      ]
     },
     "execution_count": 53,
     "metadata": {},
     "output_type": "execute_result"
    }
   ],
   "source": [
    "string.isidentifier()"
   ]
  },
  {
   "cell_type": "code",
   "execution_count": 55,
   "id": "5c08cccd",
   "metadata": {},
   "outputs": [
    {
     "data": {
      "text/plain": [
       "'i AM SORRY , I CONNOT PROVIDE INFORMATION ON SPECIFIC INDIVIDUALS UNLESS THEY ARE WELL-KNOWN PUBLIC FIGURES'"
      ]
     },
     "execution_count": 55,
     "metadata": {},
     "output_type": "execute_result"
    }
   ],
   "source": [
    "string.swapcase()"
   ]
  },
  {
   "cell_type": "code",
   "execution_count": 56,
   "id": "e99742b9",
   "metadata": {},
   "outputs": [
    {
     "data": {
      "text/plain": [
       "False"
      ]
     },
     "execution_count": 56,
     "metadata": {},
     "output_type": "execute_result"
    }
   ],
   "source": [
    "string.isnumeric()"
   ]
  },
  {
   "cell_type": "code",
   "execution_count": 57,
   "id": "6d01798f",
   "metadata": {},
   "outputs": [
    {
     "data": {
      "text/plain": [
       "'handless special cases like the german \"B\"  (sharp s) character'"
      ]
     },
     "execution_count": 57,
     "metadata": {},
     "output_type": "execute_result"
    }
   ],
   "source": [
    "b"
   ]
  },
  {
   "cell_type": "code",
   "execution_count": 58,
   "id": "fd71e33e",
   "metadata": {},
   "outputs": [
    {
     "data": {
      "text/plain": [
       "False"
      ]
     },
     "execution_count": 58,
     "metadata": {},
     "output_type": "execute_result"
    }
   ],
   "source": [
    "b.endswith('g')"
   ]
  },
  {
   "cell_type": "code",
   "execution_count": 59,
   "id": "b98b76d4",
   "metadata": {},
   "outputs": [
    {
     "data": {
      "text/plain": [
       "False"
      ]
     },
     "execution_count": 59,
     "metadata": {},
     "output_type": "execute_result"
    }
   ],
   "source": [
    "b.endswith(',')"
   ]
  },
  {
   "cell_type": "code",
   "execution_count": 63,
   "id": "fb5a46fc",
   "metadata": {},
   "outputs": [
    {
     "data": {
      "text/plain": [
       "32"
      ]
     },
     "execution_count": 63,
     "metadata": {},
     "output_type": "execute_result"
    }
   ],
   "source": [
    "b.find(\"german\")"
   ]
  },
  {
   "cell_type": "markdown",
   "id": "4a32f80c",
   "metadata": {},
   "source": [
    "### String Slicing"
   ]
  },
  {
   "cell_type": "markdown",
   "id": "73544678",
   "metadata": {},
   "source": [
    "#### String slicing is peaces of string usin some seperator , []this is slicing operator   "
   ]
  },
  {
   "cell_type": "code",
   "execution_count": 65,
   "id": "65dbb0f7",
   "metadata": {},
   "outputs": [],
   "source": [
    "str1 = \"This tutorial is basically desigend for biggners\"\n",
    "str2='python'"
   ]
  },
  {
   "cell_type": "code",
   "execution_count": 69,
   "id": "f74ba852",
   "metadata": {},
   "outputs": [
    {
     "data": {
      "text/plain": [
       "('h', 'p', 'y')"
      ]
     },
     "execution_count": 69,
     "metadata": {},
     "output_type": "execute_result"
    }
   ],
   "source": [
    "str2[3],str2[0],str2[1]"
   ]
  },
  {
   "cell_type": "code",
   "execution_count": 70,
   "id": "e13c412d",
   "metadata": {},
   "outputs": [
    {
     "data": {
      "text/plain": [
       "'pythonpythonpythonpythonpythonpythonpythonpythonpythonpython'"
      ]
     },
     "execution_count": 70,
     "metadata": {},
     "output_type": "execute_result"
    }
   ],
   "source": [
    "str2*10"
   ]
  },
  {
   "cell_type": "code",
   "execution_count": 71,
   "id": "b95a41c7",
   "metadata": {},
   "outputs": [
    {
     "data": {
      "text/plain": [
       "'srenggib rof dnegised yllacisab si lairotut sihT'"
      ]
     },
     "execution_count": 71,
     "metadata": {},
     "output_type": "execute_result"
    }
   ],
   "source": [
    "str1[::-1]"
   ]
  },
  {
   "cell_type": "code",
   "execution_count": 72,
   "id": "9cfd84b4",
   "metadata": {},
   "outputs": [
    {
     "data": {
      "text/plain": [
       "'nohtyp'"
      ]
     },
     "execution_count": 72,
     "metadata": {},
     "output_type": "execute_result"
    }
   ],
   "source": [
    "str2[::-1]"
   ]
  },
  {
   "cell_type": "code",
   "execution_count": 74,
   "id": "daacacab",
   "metadata": {},
   "outputs": [
    {
     "data": {
      "text/plain": [
       "'ggners'"
      ]
     },
     "execution_count": 74,
     "metadata": {},
     "output_type": "execute_result"
    }
   ],
   "source": [
    "str1[-6:]"
   ]
  },
  {
   "cell_type": "code",
   "execution_count": 76,
   "id": "1b7d26d6",
   "metadata": {},
   "outputs": [
    {
     "data": {
      "text/plain": [
       "'on'"
      ]
     },
     "execution_count": 76,
     "metadata": {},
     "output_type": "execute_result"
    }
   ],
   "source": [
    "str2[-2:]"
   ]
  },
  {
   "cell_type": "code",
   "execution_count": 78,
   "id": "d288e365",
   "metadata": {},
   "outputs": [
    {
     "name": "stdout",
     "output_type": "stream",
     "text": [
      "python\n",
      "python\n"
     ]
    }
   ],
   "source": [
    "# string is immutable (we can't modify existing element)\n",
    "print(str2)\n",
    "# str2[0]='G'\n",
    "print(str2)"
   ]
  },
  {
   "cell_type": "code",
   "execution_count": 80,
   "id": "0a23ac26",
   "metadata": {},
   "outputs": [
    {
     "name": "stdout",
     "output_type": "stream",
     "text": [
      "1st string : dat Science\n",
      "2nd string : Machine Learning\n",
      "3rd string :  Deep Learning\n",
      "4th string : Naturel Language Proceesing\n",
      "5th string : Structured Query language\n"
     ]
    }
   ],
   "source": [
    "str1 = \"dat Science\"\n",
    "str2 = \"Machine Learning\"\n",
    "str3 = \"Deep Learning\"\n",
    "str4 = \"Naturel Language Proceesing\"\n",
    "str5 = \"Structured Query language\"\n",
    "print(\"1st string :\",str1)\n",
    "print(\"2nd string :\",str2)\n",
    "print(\"3rd string : \",str3)\n",
    "print(\"4th string :\",str4)\n",
    "print(\"5th string :\", str5)\n"
   ]
  },
  {
   "cell_type": "code",
   "execution_count": 83,
   "id": "6261ccc3",
   "metadata": {},
   "outputs": [
    {
     "name": "stdout",
     "output_type": "stream",
     "text": [
      "1st string : dat Science\n",
      "t Sc : at S\n",
      "ecneicS tad\n",
      "******************************************************************************************\n",
      "2nd string : Machine Learning\n",
      "ne Le : ne Le\n",
      "McieLann\n",
      "******************************************************************************************\n",
      "3rd string: Deep Learning\n",
      "Deep Learn\n",
      "******************************************************************************************\n",
      "4th string : Naturel Language Proceesing\n",
      "Nenecn\n",
      "******************************************************************************************\n",
      "5th string : Structured Query language\n",
      "St yg\n"
     ]
    }
   ],
   "source": [
    "print(\"1st string :\",str1)\n",
    "print(str1[2:6],\":\",str1[-10:-6])\n",
    "print(str1[::-1]) # reverse string\n",
    "print(\"*\"*90)\n",
    "\n",
    "print(\"2nd string :\",str2)\n",
    "print(str2[5:10],\":\",str2[-11:-6])\n",
    "print(str2[::2])#(strat index:endindex:step size)\n",
    "print(\"*\"*90) \n",
    "\n",
    "print(\"3rd string:\",str3)\n",
    "print(str3[0:10])\n",
    "print(\"*\"*90)\n",
    "\n",
    "print(\"4th string :\",str4)\n",
    "print(str4[::5])\n",
    "print(\"*\"*90)\n",
    "\n",
    "print(\"5th string :\",str5)\n",
    "print(str5[::5])"
   ]
  },
  {
   "cell_type": "code",
   "execution_count": 84,
   "id": "9d95d809",
   "metadata": {},
   "outputs": [
    {
     "name": "stdout",
     "output_type": "stream",
     "text": [
      "dat Sciencedat Science\n",
      "Machine LearningMachine LearningMachine Learning\n",
      "Deep LearningDeep LearningDeep LearningDeep Learning\n",
      "Naturel Language ProceesingNaturel Language ProceesingNaturel Language ProceesingNaturel Language ProceesingNaturel Language Proceesing\n",
      "Structured Query languageStructured Query languageStructured Query languageStructured Query languageStructured Query languageStructured Query language\n"
     ]
    }
   ],
   "source": [
    "# string multiply\n",
    "print(str1*2)\n",
    "print(str2*3)\n",
    "print(str3*4)\n",
    "print(str4*5)\n",
    "print(str5*6)"
   ]
  },
  {
   "cell_type": "markdown",
   "id": "0d9cc2c2",
   "metadata": {},
   "source": [
    "## Type-Casting In datatypes"
   ]
  },
  {
   "cell_type": "markdown",
   "id": "eabf057c",
   "metadata": {},
   "source": [
    "#### Def: conversion of one type of data into other type of data is called typecasting\n",
    "\n",
    "int, float, str, boolean, complex, object\n",
    "\n",
    "         int to float / complex / str\n",
    "         float to int / complex / str\n",
    "         str to int / float / complex >>> # (string contains only numbers)\n",
    "\n",
    "\n",
    "         Note : can't convert complex to any other data type"
   ]
  },
  {
   "cell_type": "markdown",
   "id": "77f61225",
   "metadata": {},
   "source": [
    "#### 1. int to float /complex /string conversion"
   ]
  },
  {
   "cell_type": "code",
   "execution_count": 85,
   "id": "107d56eb",
   "metadata": {},
   "outputs": [
    {
     "name": "stdout",
     "output_type": "stream",
     "text": [
      "<< integer to float conversion>>\n",
      "******************************************************************************************\n",
      "integer number: 1000\n",
      "type of variable : <class 'int'>\n",
      "coverted intger to float : 1000.0\n",
      "type of coverted number : <class 'float'>\n"
     ]
    }
   ],
   "source": [
    "var = 1000 \n",
    "print('<< integer to float conversion>>')\n",
    "print(\"*\"*90)\n",
    "print('integer number:',var)\n",
    "print('type of variable :',type(var))\n",
    "a = float(var)\n",
    "print('coverted intger to float :',a)\n",
    "print('type of coverted number :',type(a))"
   ]
  },
  {
   "cell_type": "code",
   "execution_count": 87,
   "id": "d114497a",
   "metadata": {},
   "outputs": [
    {
     "name": "stdout",
     "output_type": "stream",
     "text": [
      "<< intger to string conversion >>\n",
      "******************************************************************************************\n",
      "integer number : 1000\n",
      "type of variable : <class 'int'>\n",
      "coverted intger to string : 1000\n",
      "type of converted number : <class 'str'>\n"
     ]
    }
   ],
   "source": [
    "var = 1000 \n",
    "print(\"<< intger to string conversion >>\")\n",
    "print('*'*90)\n",
    "print('integer number :',var)\n",
    "print('type of variable :',type (var))\n",
    "a = str(var)\n",
    "print(\"coverted intger to string :\",a)\n",
    "print('type of converted number :',type(a))"
   ]
  },
  {
   "cell_type": "code",
   "execution_count": 88,
   "id": "3dd8b0cd",
   "metadata": {},
   "outputs": [
    {
     "name": "stdout",
     "output_type": "stream",
     "text": [
      "<< integer to complex conversion >>\n",
      "******************************************************************************************\n",
      "ineger number : 1000\n",
      "type of variable : <class 'int'>\n",
      "coverted to int to complex : (1000+0j)\n",
      "type of converted number: <class 'complex'>\n",
      "real : 1000.0\n",
      "imag : 0.0\n"
     ]
    }
   ],
   "source": [
    "var = 1000\n",
    "print('<< integer to complex conversion >>')\n",
    "print(\"*\"*90)\n",
    "print('ineger number :',var)\n",
    "print(\"type of variable :\",type(var))\n",
    "a = complex(var)\n",
    "print('coverted to int to complex :',a)\n",
    "print('type of converted number:',type(a))\n",
    "print('real :',a.real)\n",
    "print('imag :',a.imag)"
   ]
  },
  {
   "cell_type": "markdown",
   "id": "03d63dbe",
   "metadata": {},
   "source": [
    "#### 2. Float to int/complex/string conversion"
   ]
  },
  {
   "cell_type": "code",
   "execution_count": 89,
   "id": "0a319024",
   "metadata": {},
   "outputs": [
    {
     "name": "stdout",
     "output_type": "stream",
     "text": [
      "<< Float to int conversion >>\n",
      "******************************************************************************************\n",
      "float number : <class 'float'>\n",
      "coverted float to int : 999\n",
      "type of coverted number : <class 'int'>\n"
     ]
    }
   ],
   "source": [
    "var = 999.99\n",
    "print('<< Float to int conversion >>')\n",
    "print(\"*\"*90)\n",
    "print('float number :',type(var))\n",
    "a = int(var)\n",
    "print('coverted float to int :',a)\n",
    "print('type of coverted number :',type(a))\n"
   ]
  },
  {
   "cell_type": "code",
   "execution_count": 91,
   "id": "998a6458",
   "metadata": {},
   "outputs": [
    {
     "name": "stdout",
     "output_type": "stream",
     "text": [
      "<< float to complex conversion >>\n",
      "******************************************************************************************\n",
      "float number : 999.99\n",
      "type of variable : <class 'float'>\n",
      "converted float to complex : (999.99+0j)\n",
      "type of converted number : <class 'complex'>\n",
      "real : 999.99\n",
      "imaginary : 0.0\n"
     ]
    }
   ],
   "source": [
    "var = 999.99\n",
    "print('<< float to complex conversion >>')\n",
    "print('*'*90)\n",
    "print('float number :',var)\n",
    "print('type of variable :',type(var))\n",
    "a = complex (var)\n",
    "print('converted float to complex :',a)\n",
    "print('type of converted number :',type(a))\n",
    "print('real :',a.real)\n",
    "print('imaginary :',a.imag)"
   ]
  },
  {
   "cell_type": "code",
   "execution_count": 93,
   "id": "4bc8367c",
   "metadata": {},
   "outputs": [
    {
     "name": "stdout",
     "output_type": "stream",
     "text": [
      "<<  float to string conversion >>\n",
      "******************************************************************************************\n",
      "float number : 999.99\n",
      "type of variables  : <class 'float'>\n",
      "converted float to string : 999.99\n",
      "type of converted number : <class 'str'>\n",
      "type of converted number : <class 'str'>\n"
     ]
    }
   ],
   "source": [
    "var = 999.99 \n",
    "print(\"<<  float to string conversion >>\")\n",
    "print('*'*90)\n",
    "print('float number :',var)\n",
    "print('type of variables  :',type(var))\n",
    "a =str(var)\n",
    "print('converted float to string :',a)\n",
    "print('type of converted number :',type(a))\n",
    "print('type of converted number :',type(a))"
   ]
  },
  {
   "cell_type": "code",
   "execution_count": 94,
   "id": "86abda63",
   "metadata": {},
   "outputs": [
    {
     "name": "stdout",
     "output_type": "stream",
     "text": [
      "<< string to int conversion >>\n",
      "******************************************************************************************\n",
      "string nnumber : <class 'str'>\n",
      "type of variable : <class 'str'>\n",
      "converted string to int : 10000\n",
      "type of converted number : <class 'int'>\n"
     ]
    }
   ],
   "source": [
    "var = '10000'\n",
    "print('<< string to int conversion >>')\n",
    "print(\"*\"*90)\n",
    "print('string nnumber :',type(var))\n",
    "print(\"type of variable :\",type(var))\n",
    "a = int(var)\n",
    "print('converted string to int :',a)\n",
    "print('type of converted number :',type(a))"
   ]
  },
  {
   "cell_type": "code",
   "execution_count": 96,
   "id": "21accc73",
   "metadata": {},
   "outputs": [
    {
     "name": "stdout",
     "output_type": "stream",
     "text": [
      "<< string to float conversion >>\n",
      "******************************************************************************************\n",
      "string nnumber : <class 'str'>\n",
      "type of variable : <class 'str'>\n",
      "converted string to float : 10000.0\n",
      "type of converted number : <class 'float'>\n"
     ]
    }
   ],
   "source": [
    "var = '10000'\n",
    "print('<< string to float conversion >>')\n",
    "print(\"*\"*90)\n",
    "print('string nnumber :',type(var))\n",
    "print(\"type of variable :\",type(var))\n",
    "a = float(var)\n",
    "print('converted string to float :',a)\n",
    "print('type of converted number :',type(a))"
   ]
  },
  {
   "cell_type": "code",
   "execution_count": 97,
   "id": "c08c5b8a",
   "metadata": {},
   "outputs": [
    {
     "name": "stdout",
     "output_type": "stream",
     "text": [
      "<< string to complex  conversion >>\n",
      "******************************************************************************************\n",
      "string nnumber : <class 'str'>\n",
      "type of variable : <class 'str'>\n",
      "converted string to complex : (10000+0j)\n",
      "type of converted number : <class 'complex'>\n"
     ]
    }
   ],
   "source": [
    "var = '10000'\n",
    "print('<< string to complex  conversion >>')\n",
    "print(\"*\"*90)\n",
    "print('string nnumber :',type(var))\n",
    "print(\"type of variable :\",type(var))\n",
    "a = complex(var)\n",
    "print('converted string to complex :',a)\n",
    "print('type of converted number :',type(a))"
   ]
  },
  {
   "cell_type": "code",
   "execution_count": null,
   "id": "e53886ae",
   "metadata": {},
   "outputs": [],
   "source": []
  },
  {
   "cell_type": "code",
   "execution_count": null,
   "id": "91ac1676",
   "metadata": {},
   "outputs": [],
   "source": []
  },
  {
   "cell_type": "code",
   "execution_count": null,
   "id": "87fb25ae",
   "metadata": {},
   "outputs": [],
   "source": []
  },
  {
   "cell_type": "code",
   "execution_count": null,
   "id": "611985de",
   "metadata": {},
   "outputs": [],
   "source": []
  },
  {
   "cell_type": "code",
   "execution_count": null,
   "id": "34f3274a",
   "metadata": {},
   "outputs": [],
   "source": []
  },
  {
   "cell_type": "code",
   "execution_count": null,
   "id": "71b50372",
   "metadata": {},
   "outputs": [],
   "source": []
  },
  {
   "cell_type": "code",
   "execution_count": null,
   "id": "005bde78",
   "metadata": {},
   "outputs": [],
   "source": []
  },
  {
   "cell_type": "code",
   "execution_count": null,
   "id": "451a395f",
   "metadata": {},
   "outputs": [],
   "source": []
  },
  {
   "cell_type": "code",
   "execution_count": 9,
   "id": "fd048783",
   "metadata": {},
   "outputs": [
    {
     "data": {
      "text/plain": [
       "190.5"
      ]
     },
     "execution_count": 9,
     "metadata": {},
     "output_type": "execute_result"
    }
   ],
   "source": [
    "# floting\n",
    "\n",
    "a = 190.5\n",
    "a"
   ]
  },
  {
   "cell_type": "code",
   "execution_count": 23,
   "id": "6eb754e3",
   "metadata": {},
   "outputs": [
    {
     "name": "stdout",
     "output_type": "stream",
     "text": [
      "<class 'float'>\n"
     ]
    }
   ],
   "source": [
    "print(type(a))"
   ]
  },
  {
   "cell_type": "code",
   "execution_count": 24,
   "id": "0483d491",
   "metadata": {},
   "outputs": [
    {
     "data": {
      "text/plain": [
       "20.0"
      ]
     },
     "execution_count": 24,
     "metadata": {},
     "output_type": "execute_result"
    }
   ],
   "source": [
    "float(b)"
   ]
  },
  {
   "cell_type": "code",
   "execution_count": 25,
   "id": "7d382380",
   "metadata": {},
   "outputs": [],
   "source": [
    "##  boolean\n",
    "\n",
    "a1=True\n",
    "b1=False"
   ]
  },
  {
   "cell_type": "code",
   "execution_count": 26,
   "id": "63485b5f",
   "metadata": {},
   "outputs": [
    {
     "data": {
      "text/plain": [
       "bool"
      ]
     },
     "execution_count": 26,
     "metadata": {},
     "output_type": "execute_result"
    }
   ],
   "source": [
    "type(a1)"
   ]
  },
  {
   "cell_type": "code",
   "execution_count": 27,
   "id": "759d1e2e",
   "metadata": {},
   "outputs": [
    {
     "data": {
      "text/plain": [
       "True"
      ]
     },
     "execution_count": 27,
     "metadata": {},
     "output_type": "execute_result"
    }
   ],
   "source": [
    "a1 | b1"
   ]
  },
  {
   "cell_type": "code",
   "execution_count": 28,
   "id": "9c1bfe85",
   "metadata": {},
   "outputs": [
    {
     "name": "stdout",
     "output_type": "stream",
     "text": [
      "krish\n",
      "<class 'str'>\n"
     ]
    }
   ],
   "source": [
    "# string\n",
    "\n",
    "name1='krish'\n",
    "\n",
    "print(name1)\n",
    "print(type(name1))"
   ]
  },
  {
   "cell_type": "code",
   "execution_count": 29,
   "id": "81450be2",
   "metadata": {},
   "outputs": [
    {
     "data": {
      "text/plain": [
       "'krishnaik'"
      ]
     },
     "execution_count": 29,
     "metadata": {},
     "output_type": "execute_result"
    }
   ],
   "source": [
    "name1+ \"naik\""
   ]
  },
  {
   "cell_type": "code",
   "execution_count": 30,
   "id": "5dfd7c07",
   "metadata": {},
   "outputs": [
    {
     "data": {
      "text/plain": [
       "'krish1'"
      ]
     },
     "execution_count": 30,
     "metadata": {},
     "output_type": "execute_result"
    }
   ],
   "source": [
    "name1 + str(1)"
   ]
  },
  {
   "cell_type": "code",
   "execution_count": 31,
   "id": "1cd4503d",
   "metadata": {},
   "outputs": [
    {
     "data": {
      "text/plain": [
       "(1-2.3j)"
      ]
     },
     "execution_count": 31,
     "metadata": {},
     "output_type": "execute_result"
    }
   ],
   "source": [
    "# complex number\n",
    "j=1.0-2.3j\n",
    "j"
   ]
  },
  {
   "cell_type": "code",
   "execution_count": 32,
   "id": "6ac56ec5",
   "metadata": {},
   "outputs": [
    {
     "name": "stdout",
     "output_type": "stream",
     "text": [
      "(1-2.3j)\n",
      "<class 'complex'>\n"
     ]
    }
   ],
   "source": [
    "print(j)\n",
    "print(type(j))"
   ]
  },
  {
   "cell_type": "code",
   "execution_count": 33,
   "id": "b50494d3",
   "metadata": {},
   "outputs": [
    {
     "name": "stdout",
     "output_type": "stream",
     "text": [
      "1.0 -2.3\n"
     ]
    }
   ],
   "source": [
    "print(j.real,j.imag)"
   ]
  },
  {
   "cell_type": "code",
   "execution_count": 34,
   "id": "b9f9fe1f",
   "metadata": {},
   "outputs": [],
   "source": [
    "# Dynamic typing\n",
    "a=10\n",
    "a='krish'"
   ]
  },
  {
   "cell_type": "code",
   "execution_count": 35,
   "id": "251c957d",
   "metadata": {},
   "outputs": [],
   "source": [
    "# strong typing\n",
    "a = 'KRish'"
   ]
  },
  {
   "cell_type": "code",
   "execution_count": 36,
   "id": "60e7c511",
   "metadata": {},
   "outputs": [
    {
     "data": {
      "text/plain": [
       "'KRish1'"
      ]
     },
     "execution_count": 36,
     "metadata": {},
     "output_type": "execute_result"
    }
   ],
   "source": [
    "a+ \"1\""
   ]
  },
  {
   "cell_type": "code",
   "execution_count": 37,
   "id": "332b694b",
   "metadata": {},
   "outputs": [
    {
     "data": {
      "text/plain": [
       "'KRish1'"
      ]
     },
     "execution_count": 37,
     "metadata": {},
     "output_type": "execute_result"
    }
   ],
   "source": [
    "a+ str(1)"
   ]
  },
  {
   "cell_type": "code",
   "execution_count": 38,
   "id": "f949164b",
   "metadata": {},
   "outputs": [
    {
     "name": "stdout",
     "output_type": "stream",
     "text": [
      "The value is - 100\n"
     ]
    }
   ],
   "source": [
    "# string formating\n",
    "\n",
    "a=100\n",
    "print(\"The value is -\",a)"
   ]
  },
  {
   "cell_type": "code",
   "execution_count": 39,
   "id": "88701e67",
   "metadata": {},
   "outputs": [
    {
     "name": "stdout",
     "output_type": "stream",
     "text": [
      "The first name is krish and last name is naik\n"
     ]
    }
   ],
   "source": [
    "first_name = \"krish\"\n",
    "last_name = \"naik\"\n",
    "print(\"The first name is {} and last name is {}\".format(first_name,last_name))"
   ]
  },
  {
   "cell_type": "code",
   "execution_count": 40,
   "id": "4cacaaf3",
   "metadata": {},
   "outputs": [
    {
     "name": "stdout",
     "output_type": "stream",
     "text": [
      "67\n"
     ]
    },
    {
     "data": {
      "text/plain": [
       "'67'"
      ]
     },
     "execution_count": 40,
     "metadata": {},
     "output_type": "execute_result"
    }
   ],
   "source": [
    "input()"
   ]
  },
  {
   "cell_type": "code",
   "execution_count": 41,
   "id": "efad23e9",
   "metadata": {},
   "outputs": [
    {
     "name": "stdout",
     "output_type": "stream",
     "text": [
      "apna nam batadj\n"
     ]
    },
    {
     "data": {
      "text/plain": [
       "'dj'"
      ]
     },
     "execution_count": 41,
     "metadata": {},
     "output_type": "execute_result"
    }
   ],
   "source": [
    "input(prompt = \"apna nam bata\")"
   ]
  },
  {
   "cell_type": "code",
   "execution_count": 5,
   "id": "3277dc16",
   "metadata": {},
   "outputs": [
    {
     "name": "stdout",
     "output_type": "stream",
     "text": [
      "<class 'float'>\n",
      "<class 'int'>\n",
      "<class 'complex'>\n"
     ]
    }
   ],
   "source": [
    "r = 30.9\n",
    "print(type(r))\n",
    "\n",
    "d =int(r)\n",
    "print(type(d))\n",
    "\n",
    "f = 3 + 4j \n",
    "print(type(f))\n",
    "\n"
   ]
  },
  {
   "cell_type": "code",
   "execution_count": 6,
   "id": "ea150f80",
   "metadata": {},
   "outputs": [
    {
     "data": {
      "text/plain": [
       "3.0"
      ]
     },
     "execution_count": 6,
     "metadata": {},
     "output_type": "execute_result"
    }
   ],
   "source": [
    "f.real"
   ]
  },
  {
   "cell_type": "code",
   "execution_count": 7,
   "id": "7b0dbffa",
   "metadata": {},
   "outputs": [
    {
     "data": {
      "text/plain": [
       "4.0"
      ]
     },
     "execution_count": 7,
     "metadata": {},
     "output_type": "execute_result"
    }
   ],
   "source": [
    "f.imag"
   ]
  },
  {
   "cell_type": "code",
   "execution_count": 9,
   "id": "1b39dc53",
   "metadata": {},
   "outputs": [
    {
     "name": "stdout",
     "output_type": "stream",
     "text": [
      "1\n"
     ]
    }
   ],
   "source": [
    "print(int(True))"
   ]
  },
  {
   "cell_type": "code",
   "execution_count": 10,
   "id": "23462b35",
   "metadata": {},
   "outputs": [
    {
     "name": "stdout",
     "output_type": "stream",
     "text": [
      "1.0\n"
     ]
    }
   ],
   "source": [
    "print(float(True))"
   ]
  },
  {
   "cell_type": "code",
   "execution_count": 12,
   "id": "6c1eaafe",
   "metadata": {},
   "outputs": [
    {
     "name": "stdout",
     "output_type": "stream",
     "text": [
      "0j\n"
     ]
    }
   ],
   "source": [
    "print(complex(False))"
   ]
  },
  {
   "cell_type": "code",
   "execution_count": 13,
   "id": "72b272d1",
   "metadata": {},
   "outputs": [
    {
     "name": "stdout",
     "output_type": "stream",
     "text": [
      "0.0\n"
     ]
    }
   ],
   "source": [
    "print(float(False))"
   ]
  },
  {
   "cell_type": "code",
   "execution_count": null,
   "id": "edd04687",
   "metadata": {},
   "outputs": [],
   "source": [
    "print(str()"
   ]
  },
  {
   "cell_type": "code",
   "execution_count": 15,
   "id": "4d78f9d7",
   "metadata": {},
   "outputs": [
    {
     "name": "stdout",
     "output_type": "stream",
     "text": [
      "india\n"
     ]
    }
   ],
   "source": [
    "str = \"india\"\n",
    "print(str)"
   ]
  },
  {
   "cell_type": "code",
   "execution_count": 16,
   "id": "de2de070",
   "metadata": {},
   "outputs": [
    {
     "name": "stdout",
     "output_type": "stream",
     "text": [
      "[1, 2, 3, 45, 55]\n"
     ]
    }
   ],
   "source": [
    "lst = [1,2,3,45,55]\n",
    "print(lst)"
   ]
  },
  {
   "cell_type": "code",
   "execution_count": 20,
   "id": "7779eaee",
   "metadata": {},
   "outputs": [
    {
     "name": "stdout",
     "output_type": "stream",
     "text": [
      "['a', 2, 3, 45, 55]\n"
     ]
    }
   ],
   "source": [
    "lst[0]= \"a\"\n",
    "print(lst)"
   ]
  },
  {
   "cell_type": "code",
   "execution_count": 22,
   "id": "d2cf9f1d",
   "metadata": {},
   "outputs": [
    {
     "name": "stdout",
     "output_type": "stream",
     "text": [
      "i m AI devloper\n"
     ]
    }
   ],
   "source": [
    "str1 = \"i m AI devloper\"\n",
    "print(str1)"
   ]
  },
  {
   "cell_type": "code",
   "execution_count": 23,
   "id": "f21a1fb7",
   "metadata": {},
   "outputs": [
    {
     "data": {
      "text/plain": [
       "'i m AI devloperi m AI devloperi m AI devloperi m AI devloper'"
      ]
     },
     "execution_count": 23,
     "metadata": {},
     "output_type": "execute_result"
    }
   ],
   "source": [
    "str1*"
   ]
  },
  {
   "cell_type": "code",
   "execution_count": 26,
   "id": "d1256773",
   "metadata": {},
   "outputs": [
    {
     "name": "stdout",
     "output_type": "stream",
     "text": [
      "      consistancy is the key of success     \n"
     ]
    }
   ],
   "source": [
    "str1= \"consistancy is the key of success\"\n",
    "print(str1)"
   ]
  },
  {
   "cell_type": "markdown",
   "id": "51c203fd",
   "metadata": {},
   "source": [
    "## OOPS"
   ]
  },
  {
   "cell_type": "code",
   "execution_count": 2,
   "id": "f6747b57",
   "metadata": {},
   "outputs": [],
   "source": [
    "class student:\n",
    "    fname = \"Dipak\"\n",
    "    lname = \"Jagadale\"\n",
    "    Phone = \"8600261039\"\n",
    "    \n",
    "    def display():\n",
    "        print(\"student first name :\",self.fname)\n",
    "        print(\"student last name:\",self.lname)\n",
    "        print(\"student phone number:\",self.phone)"
   ]
  },
  {
   "cell_type": "code",
   "execution_count": null,
   "id": "0f3ded45",
   "metadata": {},
   "outputs": [],
   "source": []
  },
  {
   "cell_type": "markdown",
   "id": "10438e47",
   "metadata": {},
   "source": []
  },
  {
   "cell_type": "code",
   "execution_count": null,
   "id": "3836bc74",
   "metadata": {},
   "outputs": [],
   "source": []
  },
  {
   "cell_type": "code",
   "execution_count": null,
   "id": "374bdde8",
   "metadata": {},
   "outputs": [],
   "source": []
  },
  {
   "cell_type": "code",
   "execution_count": null,
   "id": "d07781ab",
   "metadata": {},
   "outputs": [],
   "source": []
  },
  {
   "cell_type": "code",
   "execution_count": null,
   "id": "34c18d1d",
   "metadata": {},
   "outputs": [],
   "source": []
  },
  {
   "cell_type": "code",
   "execution_count": null,
   "id": "5828b39c",
   "metadata": {},
   "outputs": [],
   "source": []
  },
  {
   "cell_type": "code",
   "execution_count": null,
   "id": "6a2badc3",
   "metadata": {},
   "outputs": [],
   "source": []
  },
  {
   "cell_type": "code",
   "execution_count": null,
   "id": "5c14b5c4",
   "metadata": {},
   "outputs": [],
   "source": []
  },
  {
   "cell_type": "code",
   "execution_count": null,
   "id": "39d46f5d",
   "metadata": {},
   "outputs": [],
   "source": []
  },
  {
   "cell_type": "code",
   "execution_count": null,
   "id": "00ac56d0",
   "metadata": {},
   "outputs": [],
   "source": []
  },
  {
   "cell_type": "code",
   "execution_count": null,
   "id": "889b7595",
   "metadata": {},
   "outputs": [],
   "source": []
  },
  {
   "cell_type": "code",
   "execution_count": null,
   "id": "2129312e",
   "metadata": {},
   "outputs": [],
   "source": []
  },
  {
   "cell_type": "code",
   "execution_count": null,
   "id": "2d193620",
   "metadata": {},
   "outputs": [],
   "source": []
  },
  {
   "cell_type": "code",
   "execution_count": null,
   "id": "74361345",
   "metadata": {},
   "outputs": [],
   "source": []
  },
  {
   "cell_type": "code",
   "execution_count": null,
   "id": "66caf041",
   "metadata": {},
   "outputs": [],
   "source": []
  },
  {
   "cell_type": "code",
   "execution_count": null,
   "id": "b63038a6",
   "metadata": {},
   "outputs": [],
   "source": []
  },
  {
   "cell_type": "code",
   "execution_count": null,
   "id": "c9db825b",
   "metadata": {},
   "outputs": [],
   "source": []
  },
  {
   "cell_type": "code",
   "execution_count": null,
   "id": "64d39726",
   "metadata": {},
   "outputs": [],
   "source": []
  },
  {
   "cell_type": "code",
   "execution_count": null,
   "id": "7337e3cf",
   "metadata": {},
   "outputs": [],
   "source": []
  },
  {
   "cell_type": "code",
   "execution_count": null,
   "id": "771e2119",
   "metadata": {},
   "outputs": [],
   "source": []
  },
  {
   "cell_type": "code",
   "execution_count": null,
   "id": "ab32a648",
   "metadata": {},
   "outputs": [],
   "source": []
  },
  {
   "cell_type": "code",
   "execution_count": null,
   "id": "da130680",
   "metadata": {},
   "outputs": [],
   "source": []
  },
  {
   "cell_type": "code",
   "execution_count": null,
   "id": "54e6ab58",
   "metadata": {},
   "outputs": [],
   "source": []
  },
  {
   "cell_type": "code",
   "execution_count": null,
   "id": "acc14606",
   "metadata": {},
   "outputs": [],
   "source": []
  },
  {
   "cell_type": "code",
   "execution_count": null,
   "id": "78f08706",
   "metadata": {},
   "outputs": [],
   "source": []
  },
  {
   "cell_type": "code",
   "execution_count": null,
   "id": "8843f970",
   "metadata": {},
   "outputs": [],
   "source": []
  },
  {
   "cell_type": "code",
   "execution_count": null,
   "id": "236d6d58",
   "metadata": {},
   "outputs": [],
   "source": []
  },
  {
   "cell_type": "code",
   "execution_count": null,
   "id": "e788c36a",
   "metadata": {},
   "outputs": [],
   "source": []
  },
  {
   "cell_type": "code",
   "execution_count": null,
   "id": "674c91b9",
   "metadata": {},
   "outputs": [],
   "source": []
  },
  {
   "cell_type": "code",
   "execution_count": null,
   "id": "726bf451",
   "metadata": {},
   "outputs": [],
   "source": []
  }
 ],
 "metadata": {
  "kernelspec": {
   "display_name": "Python 3 (ipykernel)",
   "language": "python",
   "name": "python3"
  },
  "language_info": {
   "codemirror_mode": {
    "name": "ipython",
    "version": 3
   },
   "file_extension": ".py",
   "mimetype": "text/x-python",
   "name": "python",
   "nbconvert_exporter": "python",
   "pygments_lexer": "ipython3",
   "version": "3.11.2"
  }
 },
 "nbformat": 4,
 "nbformat_minor": 5
}
