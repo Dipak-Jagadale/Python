{
 "cells": [
  {
   "cell_type": "markdown",
   "id": "7a69a427",
   "metadata": {},
   "source": [
    "# Python\n"
   ]
  },
  {
   "cell_type": "markdown",
   "id": "86042705",
   "metadata": {},
   "source": [
    "## PYTHON Introduction"
   ]
  },
  {
   "cell_type": "markdown",
   "id": "60262836",
   "metadata": {},
   "source": [
    "### What is Python?\n"
   ]
  },
  {
   "cell_type": "markdown",
   "id": "3bf625e5",
   "metadata": {},
   "source": [
    "Python is general purpose high level popular programming language. Python was developed by Guido Van Rossam at National Research Institute Netherlands, official relaese date of python is 20th Feb 1991\n",
    "\n",
    "Python is versatile language, capable of running on multiple platforms, including Windows, macOS, and Linux.\n",
    "\n",
    "Python offers a vast library of pre-built modules and tools, which make it easy to perform complex tasks with minimal coding efforts\n",
    "\n",
    "##### Some of the most popular libraries of Python used in data science are:\n",
    "\n",
    "#### NumPy:\n",
    "   A library used for numerical computing with Python.\n",
    "#### Pandas: \n",
    "   A library used for data manipulation and analysis.\n",
    "#### Matplotlib:\n",
    "   A library used for data visualization.\n",
    "#### Scikit-learn:\n",
    "   A library used for machine learning\n",
    "#### TensorFlow:\n",
    "   A library used for deep learning."
   ]
  },
  {
   "cell_type": "markdown",
   "id": "7761fad9",
   "metadata": {},
   "source": [
    "### Why Python is more popular in the world ?"
   ]
  },
  {
   "cell_type": "markdown",
   "id": "b889e088",
   "metadata": {},
   "source": [
    "### Features of Python :-\n",
    "##### 1.Easy to Learn and Use -\n",
    "Its code is easy to read and understand, which makes it easier to maintain and update. like english language.\n",
    "##### 2.Expressive Language - \n",
    "which means that it is more understandable and readable.\n",
    "##### 3.Interpreted Language -\n",
    "Which means Python can be executed immediately without the need for compilation. i.e code will run line by line.This makes it easier to test and debug code.\n",
    "##### 4.Cross-platform Language -\n",
    "which meance capabale of running on multiple platforms, like windows, macOS, Linux etc.\n",
    "##### 5.Free and Open Source - \n",
    "which meance that it's free to use and distribute. i.e no need to license. This makes it accessible to a wide range of users, including individuals, businesses, and educational institutions.\n",
    "##### 6.Object-Oriented Language -\n",
    "This means that it allows developers to use objects to represent and manipulate data, rather than just using functions and procedures.\n",
    "class is blue print of object\n",
    "\n",
    "##### 7.Extensible programming language -\n",
    "This means that developers can extend the language by adding new modules or packages to it, which provide additional functionality and features beyond what is available in the core language.\n",
    "##### 8.Large Standard Library -\n",
    "which provides a wide range of modules and tools for various tasks which make it easy to perform complex tasks with minimal coding efforts\n",
    "##### 9.Dynamically typed -\n",
    "which means that the data type of a variable is determined at runtime. This allows for greater flexibility and makes it easier to write code\n",
    "Applications"
   ]
  },
  {
   "cell_type": "markdown",
   "id": "2cd42e6d",
   "metadata": {},
   "source": [
    "### Applications:-\n",
    "\n",
    "###### Python is a versatile programming language with a wide range of applications in various domains.\n"
   ]
  },
  {
   "cell_type": "markdown",
   "id": "d7acef54",
   "metadata": {},
   "source": [
    "###### Here are some of the most popular applications of Python:"
   ]
  },
  {
   "cell_type": "markdown",
   "id": "9fe929f1",
   "metadata": {},
   "source": [
    "#### 1.Web Development: \n",
    "    Python is used for developing web applications and web services. Popular web frameworks like Django and Flask are built using Python. e.g NASA Web\n",
    "#### 2.Data Science: \n",
    "Python is widely used in data science for tasks such as data analysis, data visualization, and machine learning. Popular data science libraries like NumPy, Pandas, and Scikit-learn are built using Python.\n",
    "#### 3.Artificial Intelligence:\n",
    "Python is used for developing artificial intelligence and machine learning algorithms. Popular libraries like TensorFlow and Keras are built using Python.\n",
    "#### 4.Scientific & numeric Computing:\n",
    "Python is used for scientific computing and mathematical modeling. Popular libraries like SciPy and SymPy are built using Python.\n",
    "#### 5.Automation and Scripting:\n",
    "Python is used for automating tasks and scripting. It is widely used for tasks such as data processing, system administration, and network automation.\n",
    "#### 6.Game Development: \n",
    "Python is used for game development. Popular game engines like Pygame and Panda3D are built using Python.\n",
    "Desktop Application Development: Python is used for developing desktop applications. Popular GUI frameworks like PyQt and wxPython are built using Python.\n",
    "#### 7.Education: \n",
    "Python is widely used in education as a teaching language for computer science and programming courses.\n",
    "#### 8.Desktop Application Development: \n",
    "Python is used for developing desktop applications. Popular GUI frameworks like PyQt and wxPython are built using Python.\n",
    "##### 9.Software Development:\n",
    "##### 10.Business Applications:\n",
    "##### 11.Console Based Application:\n",
    "##### 12.Audio or Video based Applications:\n",
    "##### 13.3D CAD Applications:\n"
   ]
  },
  {
   "cell_type": "markdown",
   "id": "90514f35",
   "metadata": {},
   "source": [
    "## Good to know python language\n",
    "#### python include below poits"
   ]
  },
  {
   "cell_type": "markdown",
   "id": "2e643962",
   "metadata": {},
   "source": [
    "###### 1.Functional Programming Features from C\n",
    "###### 2.Object Oriented Programming Features from C++\n",
    "###### 3.Scripting Language Features from Perl & Shell Script\n",
    "###### 4.Modular Programming Features from Modula-3"
   ]
  },
  {
   "cell_type": "code",
   "execution_count": 1,
   "id": "d9539bc7",
   "metadata": {},
   "outputs": [
    {
     "name": "stdout",
     "output_type": "stream",
     "text": [
      "Hello\n",
      "God\n"
     ]
    }
   ],
   "source": [
    "print (\"Hello\")\n",
    "print(\"God\")"
   ]
  },
  {
   "cell_type": "markdown",
   "id": "756494db",
   "metadata": {},
   "source": [
    "Note: It is very simple to print hello in python, as compared to other programming languages, coding in python is really less time consuming than other programming languages"
   ]
  },
  {
   "cell_type": "markdown",
   "id": "b3daae1d",
   "metadata": {},
   "source": [
    "# Identifiers\n"
   ]
  },
  {
   "cell_type": "code",
   "execution_count": 2,
   "id": "209ab5c3",
   "metadata": {},
   "outputs": [
    {
     "ename": "SyntaxError",
     "evalue": "invalid decimal literal (1162620381.py, line 1)",
     "output_type": "error",
     "traceback": [
      "\u001b[1;36m  Cell \u001b[1;32mIn [2], line 1\u001b[1;36m\u001b[0m\n\u001b[1;33m    1.Names in python are call as identifier,\u001b[0m\n\u001b[1;37m     ^\u001b[0m\n\u001b[1;31mSyntaxError\u001b[0m\u001b[1;31m:\u001b[0m invalid decimal literal\n"
     ]
    }
   ],
   "source": [
    "1.Names in python are call as identifier,\n",
    "2.Funtion name,variable name,module name , class are  identifire in python"
   ]
  },
  {
   "cell_type": "markdown",
   "id": "ce012f90",
   "metadata": {},
   "source": [
    "###### RULES"
   ]
  },
  {
   "cell_type": "code",
   "execution_count": null,
   "id": "9ad3941f",
   "metadata": {},
   "outputs": [],
   "source": [
    "1. The first character of an identifier must be a letter (uppercase or lowercase) or an underscore (_). The rest of the characters can be letters, underscores, or digits (0-9).\n",
    "If Identifier is start with Underscore (_) then it indicates it is private.\n",
    "Identifier should not start with Digits.\n",
    "Identifiers are case sensitive.\n",
    "For example, \"myVar\" and \"myvar\" are two different identifiers.\n",
    "\n",
    "Identifiers cannot be keywords or reserved words. because reserved keywords are words that have a special meaning in Python and cannot be used as identifiers.\n",
    "Examples of reserved keywords in Python include \"if\", \"else\", \"while\", \"for\", \"and\", \"or\", \"not\", \"in\", \"is\", \"class\", \"def\", \"return\", \"import\", \"from\", \"try\", \"except\", \"raise\", \"finally\", and \"assert\".Special Notes\n",
    "If identifier starts with '_' (single underscore) symbol,then it is private\n",
    "\n",
    "If identifier starts with '__' (double underscore), indicate that it is a strongly private.\n",
    "\n",
    "If the identifier starts and ends with \"__\" (double underscore) symbols, then such identifiers are language defined special name, which is also known as magic methods\n",
    "\n",
    "e.g int , doit"
   ]
  },
  {
   "cell_type": "markdown",
   "id": "6e5840e3",
   "metadata": {},
   "source": [
    "###### examples of identifiers\n"
   ]
  },
  {
   "cell_type": "markdown",
   "id": "ceae5821",
   "metadata": {},
   "source": [
    "x=10\n",
    "y=20\n",
    "_x =30\n",
    "\n",
    "print(x)\n",
    "print(y)\n",
    "print(_x)"
   ]
  },
  {
   "cell_type": "code",
   "execution_count": null,
   "id": "d010ba0c",
   "metadata": {},
   "outputs": [],
   "source": [
    "name = \"Python\"\n",
    "print(\"name :\",name)\n",
    "print('*'*90)\n",
    "NAME = 'Python'\n",
    "print('name :',NAME)\n",
    "print('*'*90)\n",
    "_NAME = 'Python'\n",
    "print('_Name :',_NAME)\n",
    "print('*'*90)\n",
    "fname = 'Python'\n",
    "print('Fname :',fname)\n",
    "print('*'*90)\n",
    "fname123 = 'Python'\n",
    "print('fname123 :',fname123)\n",
    "print('*'*90)\n",
    "f_name_123 = 'python'\n",
    "print('f_name_123 :',f_name_123)\n",
    "\n",
    "\n"
   ]
  },
  {
   "cell_type": "code",
   "execution_count": null,
   "id": "46634f79",
   "metadata": {},
   "outputs": [],
   "source": [
    "a = 10 \n",
    "print('a =',a)\n",
    "print('Type of a :',type(a))\n",
    "\n",
    "print('*'*90)\n",
    "\n",
    "fname = 'sikander'\n",
    "print('type =', fname)\n",
    "print('type of fname :',type(fname))\n",
    "\n",
    "print('*'*90)\n",
    "complex_number =1+2j\n",
    "print('Complex_number :',type(complex_number))"
   ]
  },
  {
   "cell_type": "code",
   "execution_count": null,
   "id": "ad423aad",
   "metadata": {},
   "outputs": [],
   "source": []
  },
  {
   "cell_type": "code",
   "execution_count": null,
   "id": "405b5dfb",
   "metadata": {},
   "outputs": [],
   "source": []
  },
  {
   "cell_type": "code",
   "execution_count": null,
   "id": "1e7fd1d9",
   "metadata": {},
   "outputs": [],
   "source": []
  },
  {
   "cell_type": "code",
   "execution_count": null,
   "id": "1516b038",
   "metadata": {},
   "outputs": [],
   "source": []
  },
  {
   "cell_type": "code",
   "execution_count": null,
   "id": "6bdb5b63",
   "metadata": {},
   "outputs": [],
   "source": []
  },
  {
   "cell_type": "code",
   "execution_count": null,
   "id": "0e5716ad",
   "metadata": {},
   "outputs": [],
   "source": []
  },
  {
   "cell_type": "code",
   "execution_count": null,
   "id": "8f0b2020",
   "metadata": {},
   "outputs": [],
   "source": []
  },
  {
   "cell_type": "code",
   "execution_count": 3,
   "id": "03c4629e",
   "metadata": {},
   "outputs": [
    {
     "name": "stdout",
     "output_type": "stream",
     "text": [
      "The Zen of Python, by Tim Peters\n",
      "\n",
      "Beautiful is better than ugly.\n",
      "Explicit is better than implicit.\n",
      "Simple is better than complex.\n",
      "Complex is better than complicated.\n",
      "Flat is better than nested.\n",
      "Sparse is better than dense.\n",
      "Readability counts.\n",
      "Special cases aren't special enough to break the rules.\n",
      "Although practicality beats purity.\n",
      "Errors should never pass silently.\n",
      "Unless explicitly silenced.\n",
      "In the face of ambiguity, refuse the temptation to guess.\n",
      "There should be one-- and preferably only one --obvious way to do it.\n",
      "Although that way may not be obvious at first unless you're Dutch.\n",
      "Now is better than never.\n",
      "Although never is often better than *right* now.\n",
      "If the implementation is hard to explain, it's a bad idea.\n",
      "If the implementation is easy to explain, it may be a good idea.\n",
      "Namespaces are one honking great idea -- let's do more of those!\n"
     ]
    }
   ],
   "source": [
    "import this"
   ]
  },
  {
   "cell_type": "code",
   "execution_count": 4,
   "id": "96336aa4",
   "metadata": {},
   "outputs": [
    {
     "ename": "SyntaxError",
     "evalue": "unterminated string literal (detected at line 1) (1787880279.py, line 1)",
     "output_type": "error",
     "traceback": [
      "\u001b[1;36m  Cell \u001b[1;32mIn [4], line 1\u001b[1;36m\u001b[0m\n\u001b[1;33m    \"Pythonचं ध्यान, टिम पीटर्स यांचं\u001b[0m\n\u001b[1;37m    ^\u001b[0m\n\u001b[1;31mSyntaxError\u001b[0m\u001b[1;31m:\u001b[0m unterminated string literal (detected at line 1)\n"
     ]
    }
   ],
   "source": [
    "\"Pythonचं ध्यान, टिम पीटर्स यांचं\n",
    "\n",
    "सुंदर शेपटी अशा होणारं श्रेयस्कर\n",
    "स्पष्ट असलेलं, निहित अनुमानांपेक्षा श्रेयस्कर\n",
    "साधा, कितीतरी सांगितलं असलं अशा कितीतरी जटिल असलेलं श्रेयस्कर\n",
    "जटिल, कितीतरी संकटस्पद असलेलं अशा कितीतरी संकटस्पद असलेलं श्रेयस्कर\n",
    "समतल, एकतर अंतर्जालात असलं अशा कितीतरी घन असलेलं श्रेयस्कर\n",
    "विरासत, जलद असल्याचं महत्त्व असं कितीतरी स्पष्टपणे म्हणणे घेतंय.\n",
    "विशेष प्रकारे नियमे तोडण्यासाठी प्रत्यक्षतेचं शक्ती असू नये.\n",
    "परंतु व्यावसायिकतेने पवित्रतेला मान्यता असल्याने.\n",
    "चुका नेहमीचे चुकून जाणार नाही.\n",
    "परंतु प्रत्यक्षपणे चुकून जाणार असल्यास, ते उत्तम विचारलं जातं.\n",
    "नामस्थान, एक महान विचार आहे - आम्ही अधिक करूया.\""
   ]
  },
  {
   "cell_type": "markdown",
   "id": "2cad51ce",
   "metadata": {},
   "source": [
    "### Data Types in Python\n"
   ]
  },
  {
   "cell_type": "markdown",
   "id": "d467c68d",
   "metadata": {},
   "source": [
    "Data type of variable is the type of value inside that variable.\n",
    "\n",
    "In python we do not need to mention the data type of variable, It automatically assigns data type\n",
    "\n",
    "Python is a dynamically-typed language, which means that the data type of a variable is determined at runtime. Python has several built-in data types, including:\n",
    "\n",
    "##### 1.Numbers: \n",
    "    Python supports integers, floating-point numbers, and complex numbers. For example, 42, 3.14, and 2 + 3j are all valid numbers in Python.\n",
    "##### 2.Strings: \n",
    "    Strings are sequences of characters. They can be enclosed in single quotes ('...') or double quotes (\"...\"). For example, 'hello' and \"world\" are both valid strings.\n",
    "##### 3.Booleans: \n",
    "    Booleans represent either true or false.\n",
    "    The two possible values of a boolean are True and False.\n",
    "##### 4.Lists: \n",
    "    Lists are ordered collections of items, which can be of different types. They are mutable, which means that you can add, remove, or modify elements in a list. For example, [1, 2, 3] and ['apple', 'banana', 'cherry'] are both valid lists.\n",
    "##### 5.Tuples: \n",
    "    Tuples are similar to lists, but they are immutable, which means that you cannot modify them once they are created. They are often used to represent fixed collections of values. Tuples are enclosed in parentheses. For example, (1, 2, 3) is a tuple.\n",
    "##### 6.Sets: \n",
    "    Sets are unordered collections of unique items. They are enclosed in curly braces. For example, {1, 2, 3} is a set.\n",
    "##### 7.Dictionaries:\n",
    "    Dictionaries are collections of key-value pairs. The keys are unique, and each key is associated with a value. Dictionaries are enclosed in curly braces, and the key-value pairs are separated by colons. For example, {'apple': 2, 'banana': 3, 'cherry': 5} is a dictionary.\n",
    "##### 89.bytes:\n",
    "##### 9.bytearray:\n",
    "##### 10.range:\n",
    "##### 11.None:\n",
    "In addition to these built-in data types, Python also supports several data type modules, such as datetime, which provides objects to work with dates and times, and math, which provides functions to work with mathematical operations."
   ]
  },
  {
   "cell_type": "code",
   "execution_count": null,
   "id": "bb5cd382",
   "metadata": {},
   "outputs": [],
   "source": [
    "var = 10\n",
    "print('Output :',var,type(var))"
   ]
  },
  {
   "cell_type": "code",
   "execution_count": null,
   "id": "21eb3704",
   "metadata": {},
   "outputs": [],
   "source": []
  },
  {
   "cell_type": "code",
   "execution_count": null,
   "id": "137308d3",
   "metadata": {},
   "outputs": [],
   "source": []
  },
  {
   "cell_type": "code",
   "execution_count": null,
   "id": "c19fd2ee",
   "metadata": {},
   "outputs": [],
   "source": []
  },
  {
   "cell_type": "markdown",
   "id": "0b61ccdc",
   "metadata": {},
   "source": [
    "# Keywords"
   ]
  },
  {
   "cell_type": "markdown",
   "id": "130364a6",
   "metadata": {},
   "source": [
    "##### Defination : keyswords are the system reserved words which can be used by user and can not be re-declared by user\n",
    "\n",
    " There are around 35 reserved keywords"
   ]
  },
  {
   "cell_type": "markdown",
   "id": "c59b9a0b",
   "metadata": {},
   "source": [
    "##### False', 'None', 'True', 'peg_parser', 'and', 'as', 'assert', 'async', 'await', 'break', 'class', 'continue', 'def', 'del', 'elif', 'else', 'except', 'finally', 'for', 'from', 'global', 'if', 'import', 'in', 'is', 'lambda', 'nonlocal', 'not', 'or', 'pass', 'raise', 'return', 'try', 'while', 'with', 'yield'"
   ]
  },
  {
   "cell_type": "markdown",
   "id": "f20a1bda",
   "metadata": {},
   "source": [
    "we can see these Keywords by using code in python \n",
    "     Import keyword,print(keyword.kwlist)"
   ]
  },
  {
   "cell_type": "code",
   "execution_count": null,
   "id": "d997eaa2",
   "metadata": {},
   "outputs": [],
   "source": [
    "import keyword\n",
    "print(keyword.kwlist)\n",
    "print(\".\"*90)\n",
    "print(len(keyword.kwlist))"
   ]
  },
  {
   "cell_type": "code",
   "execution_count": 5,
   "id": "86cc87be",
   "metadata": {
    "scrolled": false
   },
   "outputs": [
    {
     "name": "stdout",
     "output_type": "stream",
     "text": [
      "['False', 'None', 'True', 'and', 'as', 'assert', 'async', 'await', 'break', 'class', 'continue', 'def', 'del', 'elif', 'else', 'except', 'finally', 'for', 'from', 'global', 'if', 'import', 'in', 'is', 'lambda', 'nonlocal', 'not', 'or', 'pass', 'raise', 'return', 'try', 'while', 'with', 'yield']\n"
     ]
    }
   ],
   "source": [
    "import keyword\n",
    "print(keyword.kwlist)"
   ]
  },
  {
   "cell_type": "code",
   "execution_count": 6,
   "id": "1191b02e",
   "metadata": {},
   "outputs": [
    {
     "name": "stdout",
     "output_type": "stream",
     "text": [
      "35\n"
     ]
    }
   ],
   "source": [
    "print(len(keyword.kwlist))\n"
   ]
  },
  {
   "cell_type": "markdown",
   "id": "ce7b7566",
   "metadata": {},
   "source": [
    "# Integer "
   ]
  },
  {
   "cell_type": "code",
   "execution_count": 7,
   "id": "327f8655",
   "metadata": {},
   "outputs": [
    {
     "name": "stdout",
     "output_type": "stream",
     "text": [
      "Output : 10 <class 'int'>\n"
     ]
    }
   ],
   "source": [
    "var=10 \n",
    "print('Output :',var,type(var))"
   ]
  },
  {
   "cell_type": "markdown",
   "id": "e202fb67",
   "metadata": {},
   "source": [
    "### Types of Number System\n",
    "1.Decimal number system\n",
    "\n",
    "2.Binary Number System\n",
    "\n",
    "3.Octal Number system\n",
    "\n",
    "4.Hexadecimal Number System"
   ]
  },
  {
   "cell_type": "code",
   "execution_count": 8,
   "id": "924b8a4e",
   "metadata": {},
   "outputs": [
    {
     "name": "stdout",
     "output_type": "stream",
     "text": [
      "0 <class 'int'>\n",
      "****************************************************************************************************\n",
      "1 <class 'int'>\n",
      "****************************************************************************************************\n",
      "2 <class 'int'>\n",
      "****************************************************************************************************\n",
      "3 <class 'int'>\n",
      "****************************************************************************************************\n",
      "4 <class 'int'>\n",
      "****************************************************************************************************\n",
      "5 <class 'int'>\n",
      "****************************************************************************************************\n",
      "6 <class 'int'>\n",
      "****************************************************************************************************\n",
      "7 <class 'int'>\n",
      "****************************************************************************************************\n",
      "8 <class 'int'>\n",
      "****************************************************************************************************\n",
      "9 <class 'int'>\n",
      "****************************************************************************************************\n",
      "2396672 <class 'int'>\n",
      "****************************************************************************************************\n"
     ]
    }
   ],
   "source": [
    "# octal numbers\n",
    "var=0o0 # equivalent to decimal value 0\n",
    "print(var,type(var))\n",
    "print('*'*100)\n",
    "\n",
    "var=0o1 # equivalent to decimal value 1\n",
    "print(var,type(var))\n",
    "print('*'*100)\n",
    "\n",
    "var=0o2\n",
    "print(var,type(var))\n",
    "print('*'*100)\n",
    "\n",
    "var=0o3\n",
    "print(var,type(var))\n",
    "print('*'*100)\n",
    "\n",
    "var=0o4\n",
    "print(var,type(var))\n",
    "print('*'*100)\n",
    "\n",
    "var=0o5\n",
    "print(var,type(var))\n",
    "print('*'*100)\n",
    "\n",
    "var=0o6\n",
    "print(var,type(var))\n",
    "print('*'*100)\n",
    "\n",
    "var=0o7\n",
    "print(var,type(var))\n",
    "print('*'*100)\n",
    "\n",
    "var=0o10\n",
    "print(var,type(var))\n",
    "print('*'*100)\n",
    "\n",
    "\n",
    "var=0o11 # equivalent to decimal value 9\n",
    "print(var,type(var))\n",
    "print('*'*100)\n",
    "\n",
    "var=0o11111000\n",
    "print(var,type(var))\n",
    "print('*'*100)\n"
   ]
  },
  {
   "cell_type": "code",
   "execution_count": 9,
   "id": "fb0385ed",
   "metadata": {},
   "outputs": [
    {
     "name": "stdout",
     "output_type": "stream",
     "text": [
      "Decimal Number 157 to octal number 0x9d\n",
      "Decimal Number 200 to octal number 0xc8\n"
     ]
    }
   ],
   "source": [
    "# Decimal to hex converison\n",
    "input1 = 157\n",
    "input2 = 200\n",
    "\n",
    "output1 = hex(input1)\n",
    "print('Decimal Number {} to octal number {}'.format(input1, output1))\n",
    "output2 = hex(input2)\n",
    "print('Decimal Number {} to octal number {}'.format(input2, output2))"
   ]
  },
  {
   "cell_type": "code",
   "execution_count": 10,
   "id": "21ce169a",
   "metadata": {},
   "outputs": [
    {
     "name": "stdout",
     "output_type": "stream",
     "text": [
      "Decimal Number 255 to octal number 0xff\n",
      "Decimal Number 200 to octal number 0xc8\n"
     ]
    }
   ],
   "source": [
    "# Decimal to hex converison\n",
    "input1 = 255\n",
    "input2 = 200\n",
    "\n",
    "output1 = hex(input1)\n",
    "print('Decimal Number {} to octal number {}'.format(input1, output1))\n",
    "output2 = hex(input2)\n",
    "print('Decimal Number {} to octal number {}'.format(input2, output2))"
   ]
  },
  {
   "cell_type": "code",
   "execution_count": 11,
   "id": "4a175feb",
   "metadata": {},
   "outputs": [
    {
     "name": "stdout",
     "output_type": "stream",
     "text": [
      "output: 10.1\n",
      "<class 'float'>\n"
     ]
    }
   ],
   "source": [
    "var=10.10\n",
    "print('output:',var)\n",
    "print(type(var))"
   ]
  },
  {
   "cell_type": "code",
   "execution_count": 12,
   "id": "06a4f7c1",
   "metadata": {
    "scrolled": true
   },
   "outputs": [
    {
     "name": "stdout",
     "output_type": "stream",
     "text": [
      "Hello world\n",
      "weelcome to my channel\n"
     ]
    }
   ],
   "source": [
    "print(\"Hello world\")\n",
    "print(\"weelcome to my channel\")"
   ]
  },
  {
   "cell_type": "code",
   "execution_count": 13,
   "id": "a1dea373",
   "metadata": {},
   "outputs": [
    {
     "name": "stdout",
     "output_type": "stream",
     "text": [
      "hello\n"
     ]
    }
   ],
   "source": [
    "# single line and multiline comment\n",
    "'''\n",
    "welcome to my youtube\n",
    "\n",
    "'''\n",
    "\n",
    "print(\"hello\")"
   ]
  },
  {
   "cell_type": "code",
   "execution_count": 14,
   "id": "c79fd7aa",
   "metadata": {},
   "outputs": [
    {
     "name": "stdout",
     "output_type": "stream",
     "text": [
      "10\n"
     ]
    }
   ],
   "source": [
    "#variable declaration\n",
    "a =10\n",
    "print (a)"
   ]
  },
  {
   "cell_type": "code",
   "execution_count": 15,
   "id": "9c32b585",
   "metadata": {},
   "outputs": [
    {
     "name": "stdout",
     "output_type": "stream",
     "text": [
      "10\n"
     ]
    }
   ],
   "source": [
    "print(a)"
   ]
  },
  {
   "cell_type": "code",
   "execution_count": 16,
   "id": "8a2b339c",
   "metadata": {},
   "outputs": [
    {
     "name": "stdout",
     "output_type": "stream",
     "text": [
      "<class 'int'>\n"
     ]
    }
   ],
   "source": [
    "print(type(a))"
   ]
  },
  {
   "cell_type": "code",
   "execution_count": 17,
   "id": "7e0a20f0",
   "metadata": {},
   "outputs": [],
   "source": [
    "tenth=10\n",
    "b=40\n",
    "c=\"krish\"\n"
   ]
  },
  {
   "cell_type": "code",
   "execution_count": 18,
   "id": "1502f8e5",
   "metadata": {},
   "outputs": [
    {
     "data": {
      "text/plain": [
       "str"
      ]
     },
     "execution_count": 18,
     "metadata": {},
     "output_type": "execute_result"
    }
   ],
   "source": [
    "type(c)"
   ]
  },
  {
   "cell_type": "code",
   "execution_count": 19,
   "id": "0c505eb0",
   "metadata": {},
   "outputs": [],
   "source": [
    "a1=10"
   ]
  },
  {
   "cell_type": "code",
   "execution_count": 20,
   "id": "06cea0e0",
   "metadata": {},
   "outputs": [
    {
     "name": "stdout",
     "output_type": "stream",
     "text": [
      "krish\n"
     ]
    }
   ],
   "source": [
    "first_name='krish'\n",
    "print(first_name)"
   ]
  },
  {
   "cell_type": "code",
   "execution_count": 21,
   "id": "d808b4c0",
   "metadata": {},
   "outputs": [
    {
     "data": {
      "text/plain": [
       "int"
      ]
     },
     "execution_count": 21,
     "metadata": {},
     "output_type": "execute_result"
    }
   ],
   "source": [
    "# integer\n",
    "a =10\n",
    "type(a)"
   ]
  },
  {
   "cell_type": "code",
   "execution_count": 22,
   "id": "49cdebcf",
   "metadata": {},
   "outputs": [
    {
     "data": {
      "text/plain": [
       "20"
      ]
     },
     "execution_count": 22,
     "metadata": {},
     "output_type": "execute_result"
    }
   ],
   "source": [
    "a+10"
   ]
  },
  {
   "cell_type": "code",
   "execution_count": 23,
   "id": "a5c2b627",
   "metadata": {},
   "outputs": [
    {
     "data": {
      "text/plain": [
       "100"
      ]
     },
     "execution_count": 23,
     "metadata": {},
     "output_type": "execute_result"
    }
   ],
   "source": [
    "a*10"
   ]
  },
  {
   "cell_type": "code",
   "execution_count": 24,
   "id": "e5abd3b7",
   "metadata": {},
   "outputs": [
    {
     "data": {
      "text/plain": [
       "1"
      ]
     },
     "execution_count": 24,
     "metadata": {},
     "output_type": "execute_result"
    }
   ],
   "source": [
    "a-9"
   ]
  },
  {
   "cell_type": "code",
   "execution_count": 25,
   "id": "a882071e",
   "metadata": {},
   "outputs": [
    {
     "data": {
      "text/plain": [
       "0"
      ]
     },
     "execution_count": 25,
     "metadata": {},
     "output_type": "execute_result"
    }
   ],
   "source": [
    "a%10"
   ]
  },
  {
   "cell_type": "code",
   "execution_count": 26,
   "id": "1248718d",
   "metadata": {},
   "outputs": [
    {
     "name": "stdout",
     "output_type": "stream",
     "text": [
      "<class 'int'>\n"
     ]
    }
   ],
   "source": [
    "print(type(a))"
   ]
  },
  {
   "cell_type": "code",
   "execution_count": 27,
   "id": "7e0e382d",
   "metadata": {},
   "outputs": [
    {
     "name": "stdout",
     "output_type": "stream",
     "text": [
      "30\n"
     ]
    }
   ],
   "source": [
    "a=10\n",
    "b=20\n",
    "\n",
    "print(a+b)"
   ]
  },
  {
   "cell_type": "code",
   "execution_count": 28,
   "id": "103ab5d6",
   "metadata": {},
   "outputs": [
    {
     "data": {
      "text/plain": [
       "1.0"
      ]
     },
     "execution_count": 28,
     "metadata": {},
     "output_type": "execute_result"
    }
   ],
   "source": [
    "a/10"
   ]
  },
  {
   "cell_type": "markdown",
   "id": "1d1bb820",
   "metadata": {},
   "source": [
    "### Float"
   ]
  },
  {
   "cell_type": "code",
   "execution_count": 29,
   "id": "c722be98",
   "metadata": {},
   "outputs": [
    {
     "name": "stdout",
     "output_type": "stream",
     "text": [
      "output: 10.1\n",
      "<class 'float'>\n"
     ]
    }
   ],
   "source": [
    "var = 10.10\n",
    "print('output:',var)\n",
    "print(type(var))\n"
   ]
  },
  {
   "cell_type": "code",
   "execution_count": 30,
   "id": "46f4c5da",
   "metadata": {},
   "outputs": [
    {
     "name": "stdout",
     "output_type": "stream",
     "text": [
      "<class 'float'>\n",
      "12.377\n"
     ]
    }
   ],
   "source": [
    "a = 12.377\n",
    "print(type(a))\n",
    "print(a)"
   ]
  },
  {
   "cell_type": "markdown",
   "id": "897b976d",
   "metadata": {},
   "source": [
    "### Complex"
   ]
  },
  {
   "cell_type": "code",
   "execution_count": 31,
   "id": "51e22b53",
   "metadata": {},
   "outputs": [
    {
     "name": "stdout",
     "output_type": "stream",
     "text": [
      "(10+20j)\n",
      "10.0\n",
      "20.0\n"
     ]
    }
   ],
   "source": [
    "com = 10 +20j #real+imag\n",
    "print(com)\n",
    "print(com.real)\n",
    "print(com.imag)"
   ]
  },
  {
   "cell_type": "code",
   "execution_count": 32,
   "id": "6cd8cb1d",
   "metadata": {},
   "outputs": [
    {
     "name": "stdout",
     "output_type": "stream",
     "text": [
      "output: (1+2j)\n",
      "<class 'complex'>\n"
     ]
    }
   ],
   "source": [
    "var = 1 + 2j\n",
    "print(\"output:\",var)\n",
    "print(type(var))"
   ]
  },
  {
   "cell_type": "markdown",
   "id": "814bed03",
   "metadata": {},
   "source": [
    "### Complex "
   ]
  },
  {
   "cell_type": "code",
   "execution_count": 33,
   "id": "fe3e39dd",
   "metadata": {},
   "outputs": [
    {
     "name": "stdout",
     "output_type": "stream",
     "text": [
      "Real : 1.0\n",
      "<class 'float'>\n",
      "******************************************************************************************\n",
      "imaginary : 2.0\n",
      "<class 'float'>\n"
     ]
    }
   ],
   "source": [
    "print(\"Real :\", var.real)\n",
    "print(type(var.real))\n",
    "print(\"*\"*90)\n",
    "print(\"imaginary :\",var.imag)\n",
    "print(type(var.imag))"
   ]
  },
  {
   "cell_type": "markdown",
   "id": "c7a76057",
   "metadata": {},
   "source": [
    "## Boolean"
   ]
  },
  {
   "cell_type": "code",
   "execution_count": 34,
   "id": "e2a4dc06",
   "metadata": {},
   "outputs": [
    {
     "name": "stdout",
     "output_type": "stream",
     "text": [
      "Output: <class 'bool'>\n",
      "True <class 'str'>\n",
      "False <class 'bool'>\n"
     ]
    }
   ],
   "source": [
    "var = True \n",
    "var_1 = False \n",
    "x = 'True'\n",
    "print('Output:', type(var))\n",
    "print(x,type(x))\n",
    "print(var_1,type(var_1))\n"
   ]
  },
  {
   "cell_type": "code",
   "execution_count": 35,
   "id": "856e4893",
   "metadata": {},
   "outputs": [
    {
     "name": "stdout",
     "output_type": "stream",
     "text": [
      "1 0\n"
     ]
    }
   ],
   "source": [
    "print(int(True),int(False))"
   ]
  },
  {
   "cell_type": "code",
   "execution_count": 36,
   "id": "6d4ec5b1",
   "metadata": {},
   "outputs": [
    {
     "name": "stdout",
     "output_type": "stream",
     "text": [
      "1.0 0.0\n"
     ]
    }
   ],
   "source": [
    "print(float(True),float(False))"
   ]
  },
  {
   "cell_type": "code",
   "execution_count": 37,
   "id": "4c325110",
   "metadata": {},
   "outputs": [
    {
     "name": "stdout",
     "output_type": "stream",
     "text": [
      "1 0\n"
     ]
    }
   ],
   "source": [
    "print(int(True),int(False))"
   ]
  },
  {
   "cell_type": "code",
   "execution_count": 38,
   "id": "f69c365e",
   "metadata": {},
   "outputs": [
    {
     "name": "stdout",
     "output_type": "stream",
     "text": [
      "(1+0j) 0j\n",
      "(1+0j)\n",
      "1j\n",
      "0j\n"
     ]
    }
   ],
   "source": [
    "print(complex(True),complex(False))\n",
    "print(complex(True,False))\n",
    "print(complex(False,True))\n",
    "c=0+0j\n",
    "print(c)"
   ]
  },
  {
   "cell_type": "code",
   "execution_count": 39,
   "id": "eaf81499",
   "metadata": {},
   "outputs": [
    {
     "name": "stdout",
     "output_type": "stream",
     "text": [
      "True\n",
      "False\n"
     ]
    }
   ],
   "source": [
    "print(str(True))\n",
    "print(str(False))"
   ]
  },
  {
   "cell_type": "code",
   "execution_count": 40,
   "id": "14b81f06",
   "metadata": {},
   "outputs": [
    {
     "name": "stdout",
     "output_type": "stream",
     "text": [
      "True\n",
      "False\n"
     ]
    }
   ],
   "source": [
    "print(str(True))\n",
    "print(str(False))"
   ]
  },
  {
   "cell_type": "code",
   "execution_count": 41,
   "id": "28ba855d",
   "metadata": {},
   "outputs": [
    {
     "name": "stdout",
     "output_type": "stream",
     "text": [
      "True\n",
      "True\n",
      "False\n"
     ]
    }
   ],
   "source": [
    "print(bool(3.1))\n",
    "print(bool(0.3))\n",
    "print(bool(0.0))"
   ]
  },
  {
   "cell_type": "code",
   "execution_count": 42,
   "id": "04a7e3c1",
   "metadata": {},
   "outputs": [
    {
     "name": "stdout",
     "output_type": "stream",
     "text": [
      "False\n",
      "False\n",
      "True\n",
      "True\n"
     ]
    }
   ],
   "source": [
    "print(bool(\"\"))\n",
    "print(bool())\n",
    "print(bool('don'))\n",
    "print(bool(11))\n"
   ]
  },
  {
   "cell_type": "code",
   "execution_count": 43,
   "id": "08e0e65a",
   "metadata": {},
   "outputs": [
    {
     "name": "stdout",
     "output_type": "stream",
     "text": [
      "True\n",
      "True\n",
      "True\n",
      "False\n"
     ]
    }
   ],
   "source": [
    "print(bool(1+2j))\n",
    "print(bool(2+0j))\n",
    "print(bool(0+2j))\n",
    "print(bool(0+0j))"
   ]
  },
  {
   "cell_type": "code",
   "execution_count": 44,
   "id": "933750f2",
   "metadata": {},
   "outputs": [
    {
     "name": "stdout",
     "output_type": "stream",
     "text": [
      "int to bool\n",
      "int to bool\n",
      "****************************************************************************************************\n",
      "float to bool: True\n",
      "float to bool\n",
      "****************************************************************************************************\n",
      "string to bool: True\n",
      "string to bool: False\n",
      "****************************************************************************************************\n",
      "complex to bool: True\n",
      "complex to bool: True\n",
      "complex to bool: False\n",
      "complex to bool: False\n",
      "****************************************************************************************************\n"
     ]
    }
   ],
   "source": [
    "# convting of int/str to bool\n",
    "x = bool(100)\n",
    "print('int to bool')\n",
    "xx=bool(0)\n",
    "print('int to bool')\n",
    "print(\"*\"*100)\n",
    "\n",
    "y=bool(10.10)\n",
    "print('float to bool:',y)\n",
    "yy=bool(0.0)\n",
    "print('float to bool')\n",
    "print(\"*\"*100)\n",
    "\n",
    "z=bool(\"100\")\n",
    "print('string to bool:',z)\n",
    "zz=bool(\"\")\n",
    "print('string to bool:',zz)\n",
    "print(\"*\"*100)\n",
    "\n",
    "\n",
    "z = bool(1+0j)\n",
    "print('complex to bool:',z)\n",
    "zz=bool(4+2j)\n",
    "print('complex to bool:',zz)\n",
    "zzz=bool(0+0j) #at least one value should be required\n",
    "print('complex to bool:',zzz)\n",
    "zzzz=bool(0+2j)\n",
    "print('complex to bool:',zzz)\n",
    "print(\"*\"*100)\n"
   ]
  },
  {
   "cell_type": "markdown",
   "id": "d436dd57",
   "metadata": {},
   "source": [
    "\n",
    "# string"
   ]
  },
  {
   "cell_type": "markdown",
   "id": "18993023",
   "metadata": {},
   "source": [
    "\n",
    "\n",
    "## string is sequence of characters e.g \"This is string\"\n",
    "\n",
    "#### 1.string is a sequence of characters enclosed in quotes\n",
    "\n",
    "#### 2.Strings in Python are immutable, which means you cannot change the contents of a string once it is created. However, you can create a new string by concatenating two or more strings together using the + operator or repeating a string using the * operator\n",
    "\n",
    "#### Duplicates allowed\n",
    "\n",
    "#### #4.store all the characters in string\n",
    "\n",
    "#### Available methods in string:\n",
    "\n",
    "#### 1.str.upper(): Returns a new string with all characters converted to uppercase.\n",
    "#### 2.str.lower(): Returns a new string with all characters converted to lowercase.\n",
    "\n",
    "#### 3.str.lower(): Returns a new string with all characters converted to lowercase.\n",
    "#### 4.str.capitalize(): Returns a copy of the string with the first character capitalized\n",
    "#### 5.str.title(): Returns a copy of the string with the first character of each word capitalized.\n",
    "#### 6.len(str): Returns the length of the string.\n",
    "#### 7.str.strip(): Returns a new string with leading and trailing whitespace removed.\n",
    "#### 8.str.replace(): Returns a new string with all occurrences of a specified substring replaced with another substring.\n",
    "#### 9.str.split(): Returns a list of substrings separated by a specified delimiter. i.e Returns a list of the words in the string, separated by whitespace.\n",
    "#### 10.str.join(iterable): Joins the elements of an iterable (e.g., a list) with the specified string as the separator.\n",
    "#### 11.str.casefold(): Converts string into lower case\n",
    "#### 12.str.center(): Returns a centered string\n",
    "#### 13.str.count(): Returns the number of times a specified value occurs in a string\n",
    "#### 14.str.endswith(): Returns true if the string ends with the specified value\n",
    "#### 15.str.find(): Searches the string for a specified value and returns the position of where it was found\n",
    "#### 16.str.swapcase(): Swaps cases, lower case becomes upper case and vice versa\n",
    "#### 17.str.startswith(): Returns true if the string starts with the specified value\n",
    "#### 18.str.isalnum(): Returns True if all characters in the string 18.are alphanumeric\n",
    "#### 19.str.isalpha(): Returns True if all characters in the string are in the alphabet\n",
    "#### 20.str.isascii(): Returns True if all characters in the string are ascii characters\n",
    "#### 21.str.isdecimal(): Returns True if all characters in the string are decimals\n",
    "#### 22.str.isdigit(): Returns True if all characters in the string are digits\n",
    "#### 23.str.isidentifier(): Returns True if the string is an identifier\n",
    "#### 24.str.islower(): Returns True if all characters in the string are lower case\n",
    "#### 25.str.isnumeric(): Returns True if all characters in the string are numeric\n",
    "#### 26.str.isprintable(): Returns True if all characters in the string are printable\n",
    "#### 27.str.isspace(): Returns True if all characters in the string are whitespaces\n",
    "#### 28.str.istitle(): Returns True if the string follows the rules of a title\n",
    "#### 29.str.isupper(): Returns True if all characters in the string are upper case"
   ]
  },
  {
   "cell_type": "code",
   "execution_count": 45,
   "id": "5debc665",
   "metadata": {},
   "outputs": [
    {
     "name": "stdout",
     "output_type": "stream",
     "text": [
      "               india is my country         \n"
     ]
    }
   ],
   "source": [
    "a = '               india is my country         '\n",
    "print(a)"
   ]
  },
  {
   "cell_type": "code",
   "execution_count": 46,
   "id": "7e60e23e",
   "metadata": {},
   "outputs": [
    {
     "name": "stdout",
     "output_type": "stream",
     "text": [
      "               india is my country         \n"
     ]
    }
   ],
   "source": [
    "print(a.capitalize())"
   ]
  },
  {
   "cell_type": "code",
   "execution_count": 47,
   "id": "d1929ce4",
   "metadata": {},
   "outputs": [
    {
     "name": "stdout",
     "output_type": "stream",
     "text": [
      "               India Is My Country         \n"
     ]
    }
   ],
   "source": [
    "print(a.title())"
   ]
  },
  {
   "cell_type": "code",
   "execution_count": 48,
   "id": "459bceeb",
   "metadata": {},
   "outputs": [
    {
     "name": "stdout",
     "output_type": "stream",
     "text": [
      "india is my country\n"
     ]
    }
   ],
   "source": [
    "print(a.strip())"
   ]
  },
  {
   "cell_type": "code",
   "execution_count": 49,
   "id": "de993de6",
   "metadata": {},
   "outputs": [
    {
     "data": {
      "text/plain": [
       "'Bharat is my country'"
      ]
     },
     "execution_count": 49,
     "metadata": {},
     "output_type": "execute_result"
    }
   ],
   "source": [
    "a.replace (a,\"Bharat is my country\")"
   ]
  },
  {
   "cell_type": "code",
   "execution_count": 50,
   "id": "84184d33",
   "metadata": {},
   "outputs": [
    {
     "name": "stdout",
     "output_type": "stream",
     "text": [
      "['india', 'is', 'my', 'country']\n"
     ]
    }
   ],
   "source": [
    "b = a.split()\n",
    "print(b)"
   ]
  },
  {
   "cell_type": "code",
   "execution_count": 51,
   "id": "9e079c0f",
   "metadata": {},
   "outputs": [
    {
     "data": {
      "text/plain": [
       "'india_is_my_country'"
      ]
     },
     "execution_count": 51,
     "metadata": {},
     "output_type": "execute_result"
    }
   ],
   "source": [
    "c = '_'\n",
    "c.join(b)"
   ]
  },
  {
   "cell_type": "code",
   "execution_count": 52,
   "id": "2e1ab993",
   "metadata": {},
   "outputs": [
    {
     "name": "stdout",
     "output_type": "stream",
     "text": [
      "handless special cases like the german \"B\"  (sharp s) character\n"
     ]
    },
    {
     "data": {
      "text/plain": [
       "<function str.casefold()>"
      ]
     },
     "execution_count": 52,
     "metadata": {},
     "output_type": "execute_result"
    }
   ],
   "source": [
    "b ='handless special cases like the german \"B\"  (sharp s) character'\n",
    "print(b)\n",
    "b.casefold"
   ]
  },
  {
   "cell_type": "code",
   "execution_count": 53,
   "id": "9c70a0f5",
   "metadata": {},
   "outputs": [
    {
     "data": {
      "text/plain": [
       "'handless special cases like the german \"b\"  (sharp s) character'"
      ]
     },
     "execution_count": 53,
     "metadata": {},
     "output_type": "execute_result"
    }
   ],
   "source": [
    "b.lower()"
   ]
  },
  {
   "cell_type": "code",
   "execution_count": 54,
   "id": "b03449e6",
   "metadata": {},
   "outputs": [
    {
     "data": {
      "text/plain": [
       "'            Dipak             '"
      ]
     },
     "execution_count": 54,
     "metadata": {},
     "output_type": "execute_result"
    }
   ],
   "source": [
    "d = 'Dipak'\n",
    "d.center(30)"
   ]
  },
  {
   "cell_type": "code",
   "execution_count": 55,
   "id": "c44f3b73",
   "metadata": {},
   "outputs": [
    {
     "data": {
      "text/plain": [
       "'               india is my country         '"
      ]
     },
     "execution_count": 55,
     "metadata": {},
     "output_type": "execute_result"
    }
   ],
   "source": [
    "a.count('i')\n",
    "a"
   ]
  },
  {
   "cell_type": "code",
   "execution_count": 56,
   "id": "882a2f63",
   "metadata": {},
   "outputs": [
    {
     "name": "stdout",
     "output_type": "stream",
     "text": [
      "output:\n",
      "python3.9\n",
      "<class 'str'>\n"
     ]
    }
   ],
   "source": [
    "var = 'python3.9'\n",
    "#when values from user : data type considered as string \n",
    "print('output:')\n",
    "print(var)\n",
    "print(type(var))"
   ]
  },
  {
   "cell_type": "code",
   "execution_count": 57,
   "id": "f609eda2",
   "metadata": {},
   "outputs": [],
   "source": [
    "string = '''I am sorry , i connot provide information on specific individuals unless they are well-known public figures'''"
   ]
  },
  {
   "cell_type": "code",
   "execution_count": 58,
   "id": "c485d450",
   "metadata": {},
   "outputs": [
    {
     "data": {
      "text/plain": [
       "'I AM SORRY , I CONNOT PROVIDE INFORMATION ON SPECIFIC INDIVIDUALS UNLESS THEY ARE WELL-KNOWN PUBLIC FIGURES'"
      ]
     },
     "execution_count": 58,
     "metadata": {},
     "output_type": "execute_result"
    }
   ],
   "source": [
    "string.upper()"
   ]
  },
  {
   "cell_type": "code",
   "execution_count": 59,
   "id": "9074edf9",
   "metadata": {},
   "outputs": [
    {
     "data": {
      "text/plain": [
       "'i am sorry , i connot provide information on specific individuals unless they are well-known public figures'"
      ]
     },
     "execution_count": 59,
     "metadata": {},
     "output_type": "execute_result"
    }
   ],
   "source": [
    "string.lower()"
   ]
  },
  {
   "cell_type": "code",
   "execution_count": 60,
   "id": "d8d8df13",
   "metadata": {},
   "outputs": [
    {
     "data": {
      "text/plain": [
       "'i am sorry , i connot provide information on specific individuals unless they are well-known public figures'"
      ]
     },
     "execution_count": 60,
     "metadata": {},
     "output_type": "execute_result"
    }
   ],
   "source": [
    "string.lower()"
   ]
  },
  {
   "cell_type": "code",
   "execution_count": 61,
   "id": "a03cef74",
   "metadata": {},
   "outputs": [
    {
     "data": {
      "text/plain": [
       "'I am sorry , i connot provide information on specific individuals unless they are well-known public figures'"
      ]
     },
     "execution_count": 61,
     "metadata": {},
     "output_type": "execute_result"
    }
   ],
   "source": [
    "string.capitalize()"
   ]
  },
  {
   "cell_type": "code",
   "execution_count": 62,
   "id": "d396167d",
   "metadata": {},
   "outputs": [
    {
     "data": {
      "text/plain": [
       "107"
      ]
     },
     "execution_count": 62,
     "metadata": {},
     "output_type": "execute_result"
    }
   ],
   "source": [
    "len(string)"
   ]
  },
  {
   "cell_type": "code",
   "execution_count": 63,
   "id": "3f7f0b26",
   "metadata": {},
   "outputs": [
    {
     "data": {
      "text/plain": [
       "'I am sorry , i connot provide information on specific individuals unless they are well-known public figures'"
      ]
     },
     "execution_count": 63,
     "metadata": {},
     "output_type": "execute_result"
    }
   ],
   "source": [
    "string.strip()"
   ]
  },
  {
   "cell_type": "code",
   "execution_count": 64,
   "id": "517349d3",
   "metadata": {},
   "outputs": [
    {
     "data": {
      "text/plain": [
       "'I am sorry , i connot provide information on specific individuals unless they are well-known public figures'"
      ]
     },
     "execution_count": 64,
     "metadata": {},
     "output_type": "execute_result"
    }
   ],
   "source": [
    "string.format()"
   ]
  },
  {
   "cell_type": "code",
   "execution_count": 65,
   "id": "538faecf",
   "metadata": {},
   "outputs": [
    {
     "data": {
      "text/plain": [
       "'I AM sorry , i connot provide information on specific individuals unless they are well-known public figures'"
      ]
     },
     "execution_count": 65,
     "metadata": {},
     "output_type": "execute_result"
    }
   ],
   "source": [
    "string.replace('am','AM')"
   ]
  },
  {
   "cell_type": "code",
   "execution_count": 66,
   "id": "96d30b35",
   "metadata": {},
   "outputs": [
    {
     "data": {
      "text/plain": [
       "['I',\n",
       " 'am',\n",
       " 'sorry',\n",
       " ',',\n",
       " 'i',\n",
       " 'connot',\n",
       " 'provide',\n",
       " 'information',\n",
       " 'on',\n",
       " 'specific',\n",
       " 'individuals',\n",
       " 'unless',\n",
       " 'they',\n",
       " 'are',\n",
       " 'well-known',\n",
       " 'public',\n",
       " 'figures']"
      ]
     },
     "execution_count": 66,
     "metadata": {},
     "output_type": "execute_result"
    }
   ],
   "source": [
    "string.split()"
   ]
  },
  {
   "cell_type": "code",
   "execution_count": 67,
   "id": "f9ef3c79",
   "metadata": {},
   "outputs": [
    {
     "data": {
      "text/plain": [
       "'i am sorry , i connot provide information on specific individuals unless they are well-known public figures'"
      ]
     },
     "execution_count": 67,
     "metadata": {},
     "output_type": "execute_result"
    }
   ],
   "source": [
    "string.casefold()"
   ]
  },
  {
   "cell_type": "markdown",
   "id": "e7734bd0",
   "metadata": {},
   "source": [
    "casefold() not only converted the characters to lowercase but also handled the accented characters."
   ]
  },
  {
   "cell_type": "code",
   "execution_count": 68,
   "id": "814e7641",
   "metadata": {},
   "outputs": [
    {
     "name": "stdout",
     "output_type": "stream",
     "text": [
      "hello world\n"
     ]
    }
   ],
   "source": [
    "text = \"Hello world\"\n",
    "result = text .casefold()\n",
    "print(result)"
   ]
  },
  {
   "cell_type": "code",
   "execution_count": 69,
   "id": "84353115",
   "metadata": {},
   "outputs": [
    {
     "data": {
      "text/plain": [
       "5"
      ]
     },
     "execution_count": 69,
     "metadata": {},
     "output_type": "execute_result"
    }
   ],
   "source": [
    "string.index(\"sorry\")"
   ]
  },
  {
   "cell_type": "code",
   "execution_count": 70,
   "id": "024856db",
   "metadata": {},
   "outputs": [
    {
     "data": {
      "text/plain": [
       "11"
      ]
     },
     "execution_count": 70,
     "metadata": {},
     "output_type": "execute_result"
    }
   ],
   "source": [
    "string.count('i')"
   ]
  },
  {
   "cell_type": "code",
   "execution_count": 71,
   "id": "36e2062b",
   "metadata": {},
   "outputs": [
    {
     "data": {
      "text/plain": [
       "16"
      ]
     },
     "execution_count": 71,
     "metadata": {},
     "output_type": "execute_result"
    }
   ],
   "source": [
    "string.find('on')"
   ]
  },
  {
   "cell_type": "code",
   "execution_count": 72,
   "id": "88bba92e",
   "metadata": {},
   "outputs": [
    {
     "data": {
      "text/plain": [
       "'I am sorry , i connot provide information on specific individuals unless they are well-known public figures'"
      ]
     },
     "execution_count": 72,
     "metadata": {},
     "output_type": "execute_result"
    }
   ],
   "source": [
    "string.expandtabs(tabsize=10)"
   ]
  },
  {
   "cell_type": "code",
   "execution_count": 73,
   "id": "f890d176",
   "metadata": {},
   "outputs": [
    {
     "name": "stdout",
     "output_type": "stream",
     "text": [
      "Dipak                                                                                               jagadale\n"
     ]
    }
   ],
   "source": [
    "str1 = \"Dipak\\tjagadale\"\n",
    "str2 = str1.expandtabs(tabsize=100)\n",
    "print(str2)"
   ]
  },
  {
   "cell_type": "code",
   "execution_count": 74,
   "id": "5c5e4719",
   "metadata": {},
   "outputs": [
    {
     "data": {
      "text/plain": [
       "False"
      ]
     },
     "execution_count": 74,
     "metadata": {},
     "output_type": "execute_result"
    }
   ],
   "source": [
    "string.isidentifier()"
   ]
  },
  {
   "cell_type": "code",
   "execution_count": 75,
   "id": "6fe5a212",
   "metadata": {},
   "outputs": [
    {
     "data": {
      "text/plain": [
       "'i AM SORRY , I CONNOT PROVIDE INFORMATION ON SPECIFIC INDIVIDUALS UNLESS THEY ARE WELL-KNOWN PUBLIC FIGURES'"
      ]
     },
     "execution_count": 75,
     "metadata": {},
     "output_type": "execute_result"
    }
   ],
   "source": [
    "string.swapcase()"
   ]
  },
  {
   "cell_type": "code",
   "execution_count": 76,
   "id": "fe244ef7",
   "metadata": {},
   "outputs": [
    {
     "data": {
      "text/plain": [
       "False"
      ]
     },
     "execution_count": 76,
     "metadata": {},
     "output_type": "execute_result"
    }
   ],
   "source": [
    "string.isnumeric()"
   ]
  },
  {
   "cell_type": "code",
   "execution_count": 77,
   "id": "8133d62a",
   "metadata": {},
   "outputs": [
    {
     "data": {
      "text/plain": [
       "'handless special cases like the german \"B\"  (sharp s) character'"
      ]
     },
     "execution_count": 77,
     "metadata": {},
     "output_type": "execute_result"
    }
   ],
   "source": [
    "b"
   ]
  },
  {
   "cell_type": "code",
   "execution_count": 78,
   "id": "165c571d",
   "metadata": {},
   "outputs": [
    {
     "data": {
      "text/plain": [
       "False"
      ]
     },
     "execution_count": 78,
     "metadata": {},
     "output_type": "execute_result"
    }
   ],
   "source": [
    "b.endswith('g')"
   ]
  },
  {
   "cell_type": "code",
   "execution_count": 79,
   "id": "8f33b08e",
   "metadata": {},
   "outputs": [
    {
     "data": {
      "text/plain": [
       "False"
      ]
     },
     "execution_count": 79,
     "metadata": {},
     "output_type": "execute_result"
    }
   ],
   "source": [
    "b.endswith(',')"
   ]
  },
  {
   "cell_type": "code",
   "execution_count": 80,
   "id": "6f14921a",
   "metadata": {},
   "outputs": [
    {
     "data": {
      "text/plain": [
       "32"
      ]
     },
     "execution_count": 80,
     "metadata": {},
     "output_type": "execute_result"
    }
   ],
   "source": [
    "b.find(\"german\")"
   ]
  },
  {
   "cell_type": "markdown",
   "id": "88b5b635",
   "metadata": {},
   "source": [
    "### String Slicing"
   ]
  },
  {
   "cell_type": "markdown",
   "id": "42cfdedb",
   "metadata": {},
   "source": [
    "#### String slicing is peaces of string usin some seperator , []this is slicing operator   "
   ]
  },
  {
   "cell_type": "code",
   "execution_count": 81,
   "id": "f0722a1d",
   "metadata": {},
   "outputs": [],
   "source": [
    "str1 = \"This tutorial is basically desigend for biggners\"\n",
    "str2='python'"
   ]
  },
  {
   "cell_type": "code",
   "execution_count": 82,
   "id": "4066895b",
   "metadata": {},
   "outputs": [
    {
     "data": {
      "text/plain": [
       "('h', 'p', 'y')"
      ]
     },
     "execution_count": 82,
     "metadata": {},
     "output_type": "execute_result"
    }
   ],
   "source": [
    "str2[3],str2[0],str2[1]"
   ]
  },
  {
   "cell_type": "code",
   "execution_count": 83,
   "id": "01ab8ede",
   "metadata": {},
   "outputs": [
    {
     "data": {
      "text/plain": [
       "'pythonpythonpythonpythonpythonpythonpythonpythonpythonpython'"
      ]
     },
     "execution_count": 83,
     "metadata": {},
     "output_type": "execute_result"
    }
   ],
   "source": [
    "str2*10"
   ]
  },
  {
   "cell_type": "code",
   "execution_count": 84,
   "id": "9a0deb9c",
   "metadata": {},
   "outputs": [
    {
     "data": {
      "text/plain": [
       "'srenggib rof dnegised yllacisab si lairotut sihT'"
      ]
     },
     "execution_count": 84,
     "metadata": {},
     "output_type": "execute_result"
    }
   ],
   "source": [
    "str1[::-1]"
   ]
  },
  {
   "cell_type": "code",
   "execution_count": 85,
   "id": "df52a291",
   "metadata": {},
   "outputs": [
    {
     "data": {
      "text/plain": [
       "'nohtyp'"
      ]
     },
     "execution_count": 85,
     "metadata": {},
     "output_type": "execute_result"
    }
   ],
   "source": [
    "str2[::-1]"
   ]
  },
  {
   "cell_type": "code",
   "execution_count": 86,
   "id": "3d34320a",
   "metadata": {},
   "outputs": [
    {
     "data": {
      "text/plain": [
       "'ggners'"
      ]
     },
     "execution_count": 86,
     "metadata": {},
     "output_type": "execute_result"
    }
   ],
   "source": [
    "str1[-6:]"
   ]
  },
  {
   "cell_type": "code",
   "execution_count": 87,
   "id": "5934dd9e",
   "metadata": {},
   "outputs": [
    {
     "data": {
      "text/plain": [
       "'on'"
      ]
     },
     "execution_count": 87,
     "metadata": {},
     "output_type": "execute_result"
    }
   ],
   "source": [
    "str2[-2:]"
   ]
  },
  {
   "cell_type": "code",
   "execution_count": 88,
   "id": "5aa915d8",
   "metadata": {},
   "outputs": [
    {
     "name": "stdout",
     "output_type": "stream",
     "text": [
      "python\n",
      "python\n"
     ]
    }
   ],
   "source": [
    "# string is immutable (we can't modify existing element)\n",
    "print(str2)\n",
    "# str2[0]='G'\n",
    "print(str2)"
   ]
  },
  {
   "cell_type": "code",
   "execution_count": 89,
   "id": "9b770a65",
   "metadata": {},
   "outputs": [
    {
     "name": "stdout",
     "output_type": "stream",
     "text": [
      "1st string : dat Science\n",
      "2nd string : Machine Learning\n",
      "3rd string :  Deep Learning\n",
      "4th string : Naturel Language Proceesing\n",
      "5th string : Structured Query language\n"
     ]
    }
   ],
   "source": [
    "str1 = \"dat Science\"\n",
    "str2 = \"Machine Learning\"\n",
    "str3 = \"Deep Learning\"\n",
    "str4 = \"Naturel Language Proceesing\"\n",
    "str5 = \"Structured Query language\"\n",
    "print(\"1st string :\",str1)\n",
    "print(\"2nd string :\",str2)\n",
    "print(\"3rd string : \",str3)\n",
    "print(\"4th string :\",str4)\n",
    "print(\"5th string :\", str5)\n"
   ]
  },
  {
   "cell_type": "code",
   "execution_count": 90,
   "id": "50bb53f6",
   "metadata": {},
   "outputs": [
    {
     "name": "stdout",
     "output_type": "stream",
     "text": [
      "1st string : dat Science\n",
      "t Sc : at S\n",
      "ecneicS tad\n",
      "******************************************************************************************\n",
      "2nd string : Machine Learning\n",
      "ne Le : ne Le\n",
      "McieLann\n",
      "******************************************************************************************\n",
      "3rd string: Deep Learning\n",
      "Deep Learn\n",
      "******************************************************************************************\n",
      "4th string : Naturel Language Proceesing\n",
      "Nenecn\n",
      "******************************************************************************************\n",
      "5th string : Structured Query language\n",
      "St yg\n"
     ]
    }
   ],
   "source": [
    "print(\"1st string :\",str1)\n",
    "print(str1[2:6],\":\",str1[-10:-6])\n",
    "print(str1[::-1]) # reverse string\n",
    "print(\"*\"*90)\n",
    "\n",
    "print(\"2nd string :\",str2)\n",
    "print(str2[5:10],\":\",str2[-11:-6])\n",
    "print(str2[::2])#(strat index:endindex:step size)\n",
    "print(\"*\"*90) \n",
    "\n",
    "print(\"3rd string:\",str3)\n",
    "print(str3[0:10])\n",
    "print(\"*\"*90)\n",
    "\n",
    "print(\"4th string :\",str4)\n",
    "print(str4[::5])\n",
    "print(\"*\"*90)\n",
    "\n",
    "print(\"5th string :\",str5)\n",
    "print(str5[::5])"
   ]
  },
  {
   "cell_type": "code",
   "execution_count": 91,
   "id": "0b3a22a3",
   "metadata": {},
   "outputs": [
    {
     "name": "stdout",
     "output_type": "stream",
     "text": [
      "dat Sciencedat Science\n",
      "Machine LearningMachine LearningMachine Learning\n",
      "Deep LearningDeep LearningDeep LearningDeep Learning\n",
      "Naturel Language ProceesingNaturel Language ProceesingNaturel Language ProceesingNaturel Language ProceesingNaturel Language Proceesing\n",
      "Structured Query languageStructured Query languageStructured Query languageStructured Query languageStructured Query languageStructured Query language\n"
     ]
    }
   ],
   "source": [
    "# string multiply\n",
    "print(str1*2)\n",
    "print(str2*3)\n",
    "print(str3*4)\n",
    "print(str4*5)\n",
    "print(str5*6)"
   ]
  },
  {
   "cell_type": "markdown",
   "id": "6cd1c89d",
   "metadata": {},
   "source": [
    "## Type-Casting In datatypes"
   ]
  },
  {
   "cell_type": "markdown",
   "id": "e69d7948",
   "metadata": {},
   "source": [
    "#### Def: conversion of one type of data into other type of data is called typecasting\n",
    "\n",
    "int, float, str, boolean, complex, object\n",
    "\n",
    "         int to float / complex / str\n",
    "         float to int / complex / str\n",
    "         str to int / float / complex >>> # (string contains only numbers)\n",
    "\n",
    "\n",
    "         Note : can't convert complex to any other data type"
   ]
  },
  {
   "cell_type": "markdown",
   "id": "f5120b1a",
   "metadata": {},
   "source": [
    "#### 1. int to float /complex /string conversion"
   ]
  },
  {
   "cell_type": "code",
   "execution_count": 92,
   "id": "b41c6d13",
   "metadata": {},
   "outputs": [
    {
     "name": "stdout",
     "output_type": "stream",
     "text": [
      "<< integer to float conversion>>\n",
      "******************************************************************************************\n",
      "integer number: 1000\n",
      "type of variable : <class 'int'>\n",
      "coverted intger to float : 1000.0\n",
      "type of coverted number : <class 'float'>\n"
     ]
    }
   ],
   "source": [
    "var = 1000 \n",
    "print('<< integer to float conversion>>')\n",
    "print(\"*\"*90)\n",
    "print('integer number:',var)\n",
    "print('type of variable :',type(var))\n",
    "a = float(var)\n",
    "print('coverted intger to float :',a)\n",
    "print('type of coverted number :',type(a))"
   ]
  },
  {
   "cell_type": "code",
   "execution_count": 93,
   "id": "4940f856",
   "metadata": {},
   "outputs": [
    {
     "name": "stdout",
     "output_type": "stream",
     "text": [
      "<< intger to string conversion >>\n",
      "******************************************************************************************\n",
      "integer number : 1000\n",
      "type of variable : <class 'int'>\n",
      "coverted intger to string : 1000\n",
      "type of converted number : <class 'str'>\n"
     ]
    }
   ],
   "source": [
    "var = 1000 \n",
    "print(\"<< intger to string conversion >>\")\n",
    "print('*'*90)\n",
    "print('integer number :',var)\n",
    "print('type of variable :',type (var))\n",
    "a = str(var)\n",
    "print(\"coverted intger to string :\",a)\n",
    "print('type of converted number :',type(a))"
   ]
  },
  {
   "cell_type": "code",
   "execution_count": 94,
   "id": "c1b5a1f6",
   "metadata": {},
   "outputs": [
    {
     "name": "stdout",
     "output_type": "stream",
     "text": [
      "<< integer to complex conversion >>\n",
      "******************************************************************************************\n",
      "ineger number : 1000\n",
      "type of variable : <class 'int'>\n",
      "coverted to int to complex : (1000+0j)\n",
      "type of converted number: <class 'complex'>\n",
      "real : 1000.0\n",
      "imag : 0.0\n"
     ]
    }
   ],
   "source": [
    "var = 1000\n",
    "print('<< integer to complex conversion >>')\n",
    "print(\"*\"*90)\n",
    "print('ineger number :',var)\n",
    "print(\"type of variable :\",type(var))\n",
    "a = complex(var)\n",
    "print('coverted to int to complex :',a)\n",
    "print('type of converted number:',type(a))\n",
    "print('real :',a.real)\n",
    "print('imag :',a.imag)"
   ]
  },
  {
   "cell_type": "markdown",
   "id": "6168996e",
   "metadata": {},
   "source": [
    "#### 2. Float to int/complex/string conversion"
   ]
  },
  {
   "cell_type": "code",
   "execution_count": 95,
   "id": "868d729a",
   "metadata": {},
   "outputs": [
    {
     "name": "stdout",
     "output_type": "stream",
     "text": [
      "<< Float to int conversion >>\n",
      "******************************************************************************************\n",
      "float number : <class 'float'>\n",
      "coverted float to int : 999\n",
      "type of coverted number : <class 'int'>\n"
     ]
    }
   ],
   "source": [
    "var = 999.99\n",
    "print('<< Float to int conversion >>')\n",
    "print(\"*\"*90)\n",
    "print('float number :',type(var))\n",
    "a = int(var)\n",
    "print('coverted float to int :',a)\n",
    "print('type of coverted number :',type(a))\n"
   ]
  },
  {
   "cell_type": "code",
   "execution_count": 96,
   "id": "25c9a360",
   "metadata": {},
   "outputs": [
    {
     "name": "stdout",
     "output_type": "stream",
     "text": [
      "<< float to complex conversion >>\n",
      "******************************************************************************************\n",
      "float number : 999.99\n",
      "type of variable : <class 'float'>\n",
      "converted float to complex : (999.99+0j)\n",
      "type of converted number : <class 'complex'>\n",
      "real : 999.99\n",
      "imaginary : 0.0\n"
     ]
    }
   ],
   "source": [
    "var = 999.99\n",
    "print('<< float to complex conversion >>')\n",
    "print('*'*90)\n",
    "print('float number :',var)\n",
    "print('type of variable :',type(var))\n",
    "a = complex (var)\n",
    "print('converted float to complex :',a)\n",
    "print('type of converted number :',type(a))\n",
    "print('real :',a.real)\n",
    "print('imaginary :',a.imag)"
   ]
  },
  {
   "cell_type": "code",
   "execution_count": 97,
   "id": "48b64fe1",
   "metadata": {},
   "outputs": [
    {
     "name": "stdout",
     "output_type": "stream",
     "text": [
      "<<  float to string conversion >>\n",
      "******************************************************************************************\n",
      "float number : 999.99\n",
      "type of variables  : <class 'float'>\n",
      "converted float to string : 999.99\n",
      "type of converted number : <class 'str'>\n",
      "type of converted number : <class 'str'>\n"
     ]
    }
   ],
   "source": [
    "var = 999.99 \n",
    "print(\"<<  float to string conversion >>\")\n",
    "print('*'*90)\n",
    "print('float number :',var)\n",
    "print('type of variables  :',type(var))\n",
    "a =str(var)\n",
    "print('converted float to string :',a)\n",
    "print('type of converted number :',type(a))\n",
    "print('type of converted number :',type(a))"
   ]
  },
  {
   "cell_type": "code",
   "execution_count": 98,
   "id": "4d538cdb",
   "metadata": {},
   "outputs": [
    {
     "name": "stdout",
     "output_type": "stream",
     "text": [
      "<< string to int conversion >>\n",
      "******************************************************************************************\n",
      "string nnumber : <class 'str'>\n",
      "type of variable : <class 'str'>\n",
      "converted string to int : 10000\n",
      "type of converted number : <class 'int'>\n"
     ]
    }
   ],
   "source": [
    "var = '10000'\n",
    "print('<< string to int conversion >>')\n",
    "print(\"*\"*90)\n",
    "print('string nnumber :',type(var))\n",
    "print(\"type of variable :\",type(var))\n",
    "a = int(var)\n",
    "print('converted string to int :',a)\n",
    "print('type of converted number :',type(a))"
   ]
  },
  {
   "cell_type": "code",
   "execution_count": 99,
   "id": "75c3294f",
   "metadata": {},
   "outputs": [
    {
     "name": "stdout",
     "output_type": "stream",
     "text": [
      "<< string to float conversion >>\n",
      "******************************************************************************************\n",
      "string nnumber : <class 'str'>\n",
      "type of variable : <class 'str'>\n",
      "converted string to float : 10000.0\n",
      "type of converted number : <class 'float'>\n"
     ]
    }
   ],
   "source": [
    "var = '10000'\n",
    "print('<< string to float conversion >>')\n",
    "print(\"*\"*90)\n",
    "print('string nnumber :',type(var))\n",
    "print(\"type of variable :\",type(var))\n",
    "a = float(var)\n",
    "print('converted string to float :',a)\n",
    "print('type of converted number :',type(a))"
   ]
  },
  {
   "cell_type": "code",
   "execution_count": 100,
   "id": "aa3fc6a2",
   "metadata": {},
   "outputs": [
    {
     "name": "stdout",
     "output_type": "stream",
     "text": [
      "<< string to complex  conversion >>\n",
      "******************************************************************************************\n",
      "string nnumber : <class 'str'>\n",
      "type of variable : <class 'str'>\n",
      "converted string to complex : (10000+0j)\n",
      "type of converted number : <class 'complex'>\n"
     ]
    }
   ],
   "source": [
    "var = '10000'\n",
    "print('<< string to complex  conversion >>')\n",
    "print(\"*\"*90)\n",
    "print('string nnumber :',type(var))\n",
    "print(\"type of variable :\",type(var))\n",
    "a = complex(var)\n",
    "print('converted string to complex :',a)\n",
    "print('type of converted number :',type(a))"
   ]
  },
  {
   "cell_type": "markdown",
   "id": "a9fa1e6a",
   "metadata": {},
   "source": [
    "### Other types to complex function\n"
   ]
  },
  {
   "cell_type": "markdown",
   "id": "f8a3ede9",
   "metadata": {},
   "source": [
    "#### use complex (function for conversion"
   ]
  },
  {
   "cell_type": "code",
   "execution_count": 101,
   "id": "77b74470",
   "metadata": {},
   "outputs": [
    {
     "name": "stdout",
     "output_type": "stream",
     "text": [
      "(18+0j)\n",
      "(12.4+0j)\n"
     ]
    }
   ],
   "source": [
    "var = 18 \n",
    "print(complex (var))\n",
    " \n",
    "var1  = 12.4\n",
    "\n",
    "print(complex(var1))\n",
    "\n",
    "var3 = \"10.3\""
   ]
  },
  {
   "cell_type": "code",
   "execution_count": 102,
   "id": "bb32d1f3",
   "metadata": {},
   "outputs": [
    {
     "name": "stdout",
     "output_type": "stream",
     "text": [
      "(10+5j)\n",
      "(10.2+4j)\n",
      "(1+0j)\n"
     ]
    }
   ],
   "source": [
    "print (complex (10,5)) #10+5j\n",
    "print(complex(10.20,4)) # 10.2+4j\n",
    "print(complex(True,False)) # 1+0j"
   ]
  },
  {
   "cell_type": "markdown",
   "id": "030ba190",
   "metadata": {},
   "source": [
    "# Immutability\n"
   ]
  },
  {
   "cell_type": "markdown",
   "id": "c2cf3fae",
   "metadata": {},
   "source": [
    "Immutability refers to the property of an object that cannot be changed after it has been created. This means that once an object is created, its value cannot be modified.\n",
    "\n",
    "For example, if you assign a value to a variable that references an integer, you cannot modify the value of that integer:\n",
    "\n",
    "                  >>x = 5\n",
    "\n",
    "x = 6 # This creates a new integer object with the value 6 and assigns it to x, it doesn't modify the value of the original object with value 5.\n",
    "\n",
    "mutable objects in Python can be modified after they have been created.\n",
    "\n",
    "Examples of mutable objects include lists, sets, and dictionaries.\n",
    "\n",
    "If you modify a mutable object, you are actually changing the object itself, not creating a new object. For example:\n",
    "\n",
    "my_list = [1, 2, 3]\n",
    "\n",
    "my_list.append(4) # This modifies the existing list object, adding a new element 4 to it.\n",
    "\n",
    "### Immutability: object can not be changed after it has been created are called as immutability"
   ]
  },
  {
   "cell_type": "code",
   "execution_count": 103,
   "id": "2f81295e",
   "metadata": {},
   "outputs": [
    {
     "name": "stdout",
     "output_type": "stream",
     "text": [
      "140705186116520\n",
      "1374183165648\n"
     ]
    }
   ],
   "source": [
    "# immutability \n",
    "x = 5 \n",
    "print(id(x))\n",
    "x = 10\n",
    "print(id(id(x)))"
   ]
  },
  {
   "cell_type": "code",
   "execution_count": 104,
   "id": "978c1554",
   "metadata": {},
   "outputs": [
    {
     "name": "stdout",
     "output_type": "stream",
     "text": [
      "[1, 2, 3]\n",
      "1374183736960\n",
      "None\n",
      "[1, 2, [1, 2, 3]]\n",
      "1374183736960\n"
     ]
    }
   ],
   "source": [
    "# Mutability\n",
    "\n",
    "list1 = [1,2,3]\n",
    "print(list1)\n",
    "print(print(id(list1)))\n",
    "list1[2]=[1,2,3]\n",
    "print(list1)\n",
    "print(id(list1))"
   ]
  },
  {
   "cell_type": "code",
   "execution_count": 105,
   "id": "807ff9f2",
   "metadata": {},
   "outputs": [
    {
     "name": "stdout",
     "output_type": "stream",
     "text": [
      "140705186119560\n",
      "and \n",
      " 140705186119560\n",
      "True\n",
      "****************************************************************************************************\n",
      "1374182358224\n",
      "and \n",
      " 1374183161904\n",
      "1374182358032\n",
      "False\n"
     ]
    }
   ],
   "source": [
    "var =100 # for same intger value for multiple variable the id \n",
    "var1=var\n",
    "print(id(var))\n",
    "print('and \\n',id(var1))\n",
    "print(var is var1) #cheking variable\n",
    "\n",
    "print('*'*100)\n",
    "\n",
    "var = 999.99\n",
    "var1 = 999.99\n",
    "var2 = 999.99\n",
    " \n",
    "print(id (var))\n",
    "print('and \\n',id(var1))\n",
    "print(id(var2))\n",
    "print(var is var1)"
   ]
  },
  {
   "cell_type": "markdown",
   "id": "59ce6b49",
   "metadata": {},
   "source": [
    "## Bytes data type\n"
   ]
  },
  {
   "cell_type": "markdown",
   "id": "65662b13",
   "metadata": {},
   "source": [
    "In Python, bytes and bytearray are data types that represent a sequence of bytes (integers between 0 and 255) that can be used to store and manipulate binary data.\n",
    "\n",
    "The bytes type is immutable, which means that you cannot modify its contents once it has been created.\n",
    "\n",
    "You can create a bytes object by passing a sequence of integers (between 0 and 255) to the bytes constructor or by using the b prefix before a string literal:\n",
    "\n",
    "my_bytes = bytes([65, 66, 67]) # create a bytes object from a list of integers\n",
    "\n",
    "my_bytes = b\"ABC\" # create a bytes object from a string literal with the \"B\" pefix"
   ]
  },
  {
   "cell_type": "code",
   "execution_count": 106,
   "id": "b7923582",
   "metadata": {},
   "outputs": [
    {
     "name": "stdout",
     "output_type": "stream",
     "text": [
      "b'\\x01\\x02\\x03\\x04\\x05\\x06'\n",
      "<class 'bytes'>\n",
      "1\n",
      "2\n",
      "3\n",
      "4\n",
      "5\n",
      "6\n"
     ]
    }
   ],
   "source": [
    "l = [1,2,3,4,5,6]\n",
    "b = bytes(l)\n",
    "print(b)\n",
    "print(type(b))\n",
    "\n",
    "for i in b:\n",
    "    print(i)"
   ]
  },
  {
   "cell_type": "code",
   "execution_count": 107,
   "id": "52a981b3",
   "metadata": {},
   "outputs": [
    {
     "name": "stdout",
     "output_type": "stream",
     "text": [
      "val of b[5] : 6\n"
     ]
    }
   ],
   "source": [
    "# how to access\n",
    "print(\"val of b[5] :\",b[5])"
   ]
  },
  {
   "cell_type": "code",
   "execution_count": 108,
   "id": "d6678a13",
   "metadata": {},
   "outputs": [],
   "source": [
    "# try to modify\n",
    "# b[0]=100 \n",
    "# TypeError: 'bytes' object does not support item assignment\n",
    "# because bytes are immutable"
   ]
  },
  {
   "cell_type": "code",
   "execution_count": 109,
   "id": "23eaa941",
   "metadata": {},
   "outputs": [],
   "source": [
    "# my_bytes=bytes([1,2,3,4,5,260]) \n",
    "# print(my_bytes)\n",
    "# value above 255 will get value error\n",
    "# ValueError: bytes must be in range(0, 256)"
   ]
  },
  {
   "cell_type": "code",
   "execution_count": 110,
   "id": "8ddd00ad",
   "metadata": {},
   "outputs": [
    {
     "name": "stdout",
     "output_type": "stream",
     "text": [
      "<class 'bytes'>\n",
      "66\n",
      "65\n",
      "67\n"
     ]
    }
   ],
   "source": [
    "my_bytes1 = b'BAC'\n",
    "print(type(my_bytes1))\n",
    "for i in my_bytes1 :\n",
    "    print(i)\n"
   ]
  },
  {
   "cell_type": "code",
   "execution_count": 111,
   "id": "9c2a8fbc",
   "metadata": {},
   "outputs": [
    {
     "name": "stdout",
     "output_type": "stream",
     "text": [
      "[10, 20, 30, 40, 50]\n",
      "<class 'list'>\n",
      "******************************************************************************************\n",
      "b'\\n\\x14\\x1e(2'\n",
      "<class 'bytes'>\n",
      "10\n",
      "20\n",
      "30\n",
      "40\n",
      "50\n"
     ]
    }
   ],
   "source": [
    "a = [10,20,30,40,50]\n",
    "print(a)\n",
    "print(type(a))\n",
    "\n",
    "\n",
    "print(\"*\"*90)\n",
    "\n",
    "b=bytes(a)\n",
    "print(b)\n",
    "print(type(b))\n",
    "# this will not print for that we need to go through for  loop\n",
    "\n",
    "for i in b:\n",
    "    print(i)"
   ]
  },
  {
   "cell_type": "markdown",
   "id": "49ef9fae",
   "metadata": {},
   "source": [
    "## Bytearray Data Type"
   ]
  },
  {
   "cell_type": "markdown",
   "id": "dc38909d",
   "metadata": {},
   "source": [
    "#### The bytearray type is similar to bytes, but it is mutable, which means that you can modify its contents after it has been created. You can create a bytearray object by passing a sequence of integers (between 0 and 255) to the bytearray constructor or by using the bytearray() function:\n",
    "\n",
    "                                   my_bytearray = bytearray([65, 66, 67]) # create a bytearray object from a list of integers my_bytearray =bytearray(b\"ABC\") # create a bytearray object from a bytes object\n",
    "                 \n",
    "                 \n",
    "   x = 6 # This creates a new integer object with the value 6 and assigns it to x, it doesn't modify the value of the original object with value 5.\n",
    "\n",
    "\n"
   ]
  },
  {
   "cell_type": "code",
   "execution_count": 112,
   "id": "ec8b86f5",
   "metadata": {},
   "outputs": [
    {
     "name": "stdout",
     "output_type": "stream",
     "text": [
      "<class 'bytearray'>\n",
      "bytearray(b'\\n\\x14\\x14\\x1e')\n",
      "10\n",
      "20\n",
      "20\n",
      "30\n"
     ]
    }
   ],
   "source": [
    "my_bytearray= bytearray ([10,20,20,30])\n",
    "print(type(my_bytearray))\n",
    "print(my_bytearray)\n",
    "for i in  my_bytearray:\n",
    "    print(i)"
   ]
  },
  {
   "cell_type": "code",
   "execution_count": 113,
   "id": "d31872da",
   "metadata": {},
   "outputs": [
    {
     "data": {
      "text/plain": [
       "10"
      ]
     },
     "execution_count": 113,
     "metadata": {},
     "output_type": "execute_result"
    }
   ],
   "source": [
    "# accessing the element\n",
    "my_bytearray[0]"
   ]
  },
  {
   "cell_type": "code",
   "execution_count": 114,
   "id": "621d54f6",
   "metadata": {},
   "outputs": [
    {
     "name": "stdout",
     "output_type": "stream",
     "text": [
      "211\n",
      "20\n",
      "20\n",
      "30\n"
     ]
    }
   ],
   "source": [
    "# value modifying \n",
    "my_bytearray[0]=211\n",
    "\n",
    "for i in my_bytearray:\n",
    "    print(i)"
   ]
  },
  {
   "cell_type": "code",
   "execution_count": 115,
   "id": "61f80061",
   "metadata": {},
   "outputs": [
    {
     "name": "stdout",
     "output_type": "stream",
     "text": [
      "211\n",
      "20\n",
      "100\n",
      "30\n"
     ]
    }
   ],
   "source": [
    "# we can modify the element in original object of \"bytesarrray\"\n",
    "my_bytearray[2]=100\n",
    "for i in my_bytearray:\n",
    "    print(i)"
   ]
  },
  {
   "cell_type": "code",
   "execution_count": 116,
   "id": "6abd3c0d",
   "metadata": {},
   "outputs": [],
   "source": [
    "# my_bytearray[0]=260 # ValueError: byte must be in range(0, 256)\n",
    "\n",
    "# for i in my_bytearray:\n",
    "#     print(i)"
   ]
  },
  {
   "cell_type": "code",
   "execution_count": 117,
   "id": "58c9d82d",
   "metadata": {},
   "outputs": [
    {
     "name": "stdout",
     "output_type": "stream",
     "text": [
      "<class 'bytearray'>\n",
      "97\n",
      "98\n",
      "99\n"
     ]
    }
   ],
   "source": [
    "my_bytearray1=bytearray(b'abc')\n",
    "print(type(my_bytearray1))\n",
    "for i in my_bytearray1:\n",
    "    print(i)"
   ]
  },
  {
   "cell_type": "code",
   "execution_count": 118,
   "id": "d07781ab",
   "metadata": {},
   "outputs": [
    {
     "name": "stdout",
     "output_type": "stream",
     "text": [
      "bytearray(b'\\x01\\x02\\x03\\x04')\n",
      "1\n",
      "2\n",
      "3\n",
      "4\n",
      "******************************************************************************************\n",
      "bytearray(b'Z\\x02\\x03\\x04')\n",
      "90\n",
      "2\n",
      "3\n",
      "4\n"
     ]
    }
   ],
   "source": [
    "barray=bytearray([1,2,3,4])\n",
    "print(barray)\n",
    "for i in barray:\n",
    "    print(i)\n",
    "    \n",
    "print(\"*\"*90)\n",
    "    \n",
    "barray[0]=90 # bytearray is mutable\n",
    "print(barray)\n",
    "for i in barray:\n",
    "    print(i)"
   ]
  },
  {
   "cell_type": "markdown",
   "id": "db51973b",
   "metadata": {},
   "source": [
    "## LIST"
   ]
  },
  {
   "cell_type": "markdown",
   "id": "a2a78420",
   "metadata": {},
   "source": [
    "1. List stores  multiple item with different data types\n",
    "\n",
    "2.[ ] brackets are used to create list \n",
    "\n",
    "3. List is Ordered\n",
    "\n",
    "4. the list is changeable (mutable), meaning that we can change ,add remove items in alist after it has been created.\n",
    "\n",
    "5. Duplicate allowed (Stores)\n",
    " \n",
    "6. list is Growable (we can exend list upto memory limit)\n",
    "\n",
    "7. Element ara added at end of list"
   ]
  },
  {
   "cell_type": "code",
   "execution_count": 119,
   "id": "5c14b5c4",
   "metadata": {},
   "outputs": [
    {
     "name": "stdout",
     "output_type": "stream",
     "text": [
      "[1, 2, 3, 4, 5, 6, 7, 8]\n",
      "<class 'list'>\n",
      "******************************************************************************************\n",
      "[1.1, 2.2, 3.3, 4.4, 5.5, 6.6, 7.7, 8.8]\n",
      "<class 'list'>\n",
      "******************************************************************************************\n",
      "['a', 'b', 'c', 'd', 'e', 'f', 'g', 'h']\n",
      "<class 'list'>\n",
      "******************************************************************************************\n",
      "[1, 2, 3.33, 4.44, 'a', 'b']\n",
      "<class 'list'>\n",
      "******************************************************************************************\n"
     ]
    }
   ],
   "source": [
    "# creat list for int/float /string\n",
    "l_1 = [1,2,3,4,5,6,7,8]\n",
    "print(l_1)\n",
    "print(type(l_1))\n",
    "print(\"*\"*90)\n",
    "\n",
    "l_2 = [1.1,2.2,3.3,4.4,5.5,6.6,7.7,8.8]\n",
    "print(l_2)\n",
    "print(type(l_2))\n",
    "print(\"*\"*90)\n",
    "\n",
    "l_3 = ['a','b','c','d','e','f','g','h']\n",
    "print(l_3)\n",
    "print(type(l_3))\n",
    "print(\"*\"*90)\n",
    "\n",
    "l_4 = [1,2,3.33,4.44,'a','b']\n",
    "print(l_4)\n",
    "print(type(l_4))\n",
    "print(\"*\"*90)\n",
    "\n"
   ]
  },
  {
   "cell_type": "code",
   "execution_count": 120,
   "id": "39d46f5d",
   "metadata": {},
   "outputs": [
    {
     "name": "stdout",
     "output_type": "stream",
     "text": [
      "python\n",
      "2.2\n"
     ]
    }
   ],
   "source": [
    "#aceesing the list items\"s \n",
    "l = [1,2,'python','java',2.2,3.4]\n",
    "print(l[2])\n",
    "print(l[4])"
   ]
  },
  {
   "cell_type": "code",
   "execution_count": 121,
   "id": "00ac56d0",
   "metadata": {},
   "outputs": [
    {
     "name": "stdout",
     "output_type": "stream",
     "text": [
      "[1, 2, 3, 4, 5]\n",
      "<class 'list'>\n",
      "[10.1, 20.2, 30.3, 40.4, 50.5]\n",
      "<class 'list'>\n",
      "['Dj', 'Priya', 'Rajakka', 'dada', 'Jagadale']\n",
      "<class 'list'>\n",
      "[1, 10.1, 'Dj', (1+2j), 0]\n",
      "<class 'list'>\n"
     ]
    }
   ],
   "source": [
    "list1 = [1,2,3,4,5]\n",
    "list2 = [10.1,20.2,30.3,40.4,50.5]\n",
    "list3 = ['Dj','Priya','Rajakka','dada','Jagadale']\n",
    "list4 = [1,10.1,'Dj',1+2j,0]\n",
    "\n",
    "print(list1);print(type(list1))\n",
    "print(list2);print(type(list2))\n",
    "print(list3);print(type(list3))\n",
    "print(list4);print(type(list4))\n",
    "\n",
    "\n"
   ]
  },
  {
   "cell_type": "code",
   "execution_count": 122,
   "id": "088058b2",
   "metadata": {},
   "outputs": [
    {
     "name": "stdout",
     "output_type": "stream",
     "text": [
      "<class 'list'>\n"
     ]
    },
    {
     "data": {
      "text/plain": [
       "list"
      ]
     },
     "execution_count": 122,
     "metadata": {},
     "output_type": "execute_result"
    }
   ],
   "source": [
    "print(type(list1))\n",
    "type(list1)"
   ]
  },
  {
   "cell_type": "code",
   "execution_count": 123,
   "id": "8af3042b",
   "metadata": {},
   "outputs": [
    {
     "name": "stdout",
     "output_type": "stream",
     "text": [
      "1\n",
      "20.2\n",
      "Rajakka\n",
      "(1+2j)\n",
      "***************************\n"
     ]
    }
   ],
   "source": [
    "print(list1[0])\n",
    "print(list2[1])\n",
    "print(list3[2])\n",
    "print(list4[3])\n",
    "print('***************************')"
   ]
  },
  {
   "cell_type": "code",
   "execution_count": 124,
   "id": "8d88a0f9",
   "metadata": {},
   "outputs": [
    {
     "name": "stdout",
     "output_type": "stream",
     "text": [
      "[10.1, 20.2, 30.3, 40.4, 50.5]\n",
      "[10.1, 20.2, 30.3]\n"
     ]
    },
    {
     "data": {
      "text/plain": [
       "[10.1, 20.2, 30.3, 40.4, 50.5]"
      ]
     },
     "execution_count": 124,
     "metadata": {},
     "output_type": "execute_result"
    }
   ],
   "source": [
    "print(list2)\n",
    "print(list2[0:-2])\n",
    "\n",
    "list2"
   ]
  },
  {
   "cell_type": "code",
   "execution_count": 125,
   "id": "0efc0b9c",
   "metadata": {},
   "outputs": [
    {
     "name": "stdout",
     "output_type": "stream",
     "text": [
      "[10.1, 20.2, 30.3, 40.4, 50.5]\n",
      "[10.1, 20.2, 30.3]\n"
     ]
    }
   ],
   "source": [
    "print(list2)\n",
    "print(list2[0:3])"
   ]
  },
  {
   "cell_type": "code",
   "execution_count": 126,
   "id": "af21604e",
   "metadata": {},
   "outputs": [
    {
     "data": {
      "text/plain": [
       "50.5"
      ]
     },
     "execution_count": 126,
     "metadata": {},
     "output_type": "execute_result"
    }
   ],
   "source": [
    "list2[-1]"
   ]
  },
  {
   "cell_type": "code",
   "execution_count": 127,
   "id": "27a4e829",
   "metadata": {},
   "outputs": [
    {
     "name": "stdout",
     "output_type": "stream",
     "text": [
      "[50.5, 40.4, 30.3, 20.2, 10.1]\n"
     ]
    }
   ],
   "source": [
    "print(list2[::-1]) # reverse list printed"
   ]
  },
  {
   "cell_type": "markdown",
   "id": "377bd263",
   "metadata": {},
   "source": [
    "### Operation Of list"
   ]
  },
  {
   "cell_type": "code",
   "execution_count": 128,
   "id": "200be470",
   "metadata": {},
   "outputs": [
    {
     "name": "stdout",
     "output_type": "stream",
     "text": [
      "['Dj', 'Priya', 'Rajakka', 'dada', 'Jagadale']\n",
      "Length : 5\n"
     ]
    },
    {
     "data": {
      "text/plain": [
       "5"
      ]
     },
     "execution_count": 128,
     "metadata": {},
     "output_type": "execute_result"
    }
   ],
   "source": [
    "# Len Fuction\n",
    "print(list3)\n",
    "print(\"Length :\",len(list3))\n",
    "len(list3)"
   ]
  },
  {
   "cell_type": "code",
   "execution_count": 129,
   "id": "51f68a87",
   "metadata": {},
   "outputs": [
    {
     "name": "stdout",
     "output_type": "stream",
     "text": [
      "['Dj', 'Priya', 'Rajakka', 'dada', 'Jagadale']\n",
      "['Dj', 'Priya', 'Rajakka', 'dada', 'Jagadale', 'Ambak']\n"
     ]
    }
   ],
   "source": [
    "# append fuction\n",
    "print(list3)\n",
    "list3.append('Ambak')\n",
    "print(list3)"
   ]
  },
  {
   "cell_type": "code",
   "execution_count": 130,
   "id": "ca87a72e",
   "metadata": {},
   "outputs": [
    {
     "name": "stdout",
     "output_type": "stream",
     "text": [
      "['Dj', 'Priya', 'Rajakka', 'dada', 'Jagadale', 'Ambak']\n",
      "['Dj', 'Priya', 'Rajakka', 'dada', 'Jagadale']\n"
     ]
    }
   ],
   "source": [
    "# remove fuction \n",
    "print(list3)\n",
    "list3.remove(\"Ambak\")\n",
    "print(list3)"
   ]
  },
  {
   "cell_type": "code",
   "execution_count": 131,
   "id": "17c993ea",
   "metadata": {},
   "outputs": [
    {
     "name": "stdout",
     "output_type": "stream",
     "text": [
      "list 3 : ['Dj', 'Priya', 'Rajakka', 'dada', 'Jagadale']\n",
      "list 10 : ['Dj', 'Priya', 'Rajakka', 'dada', 'Jagadale']\n"
     ]
    }
   ],
   "source": [
    "# copy fuction \n",
    "list10 = list3.copy()\n",
    "print(\"list 3 :\",list3)\n",
    "print(\"list 10 :\",list10)"
   ]
  },
  {
   "cell_type": "code",
   "execution_count": 132,
   "id": "1ab871aa",
   "metadata": {},
   "outputs": [
    {
     "name": "stdout",
     "output_type": "stream",
     "text": [
      "[1, 2, 3, 4, 5]\n",
      "[1, 2, 3, 4, 5, 'A', 'm', 'b', 'a', 'k']\n"
     ]
    }
   ],
   "source": [
    "# extend fuction\n",
    "print(list1)\n",
    "list1.extend(\"Ambak\")\n",
    "print(list1)\n"
   ]
  },
  {
   "cell_type": "code",
   "execution_count": 133,
   "id": "c2064961",
   "metadata": {},
   "outputs": [
    {
     "name": "stdout",
     "output_type": "stream",
     "text": [
      "['Dj', 'Priya', 'Rajakka', 'dada', 'Jagadale', 'Dj', 'Priya', 'Rajakka', 'dada', 'Jagadale']\n"
     ]
    }
   ],
   "source": [
    "list10.extend(list3)\n",
    "print(list10)"
   ]
  },
  {
   "cell_type": "code",
   "execution_count": 134,
   "id": "b79806f7",
   "metadata": {},
   "outputs": [
    {
     "data": {
      "text/plain": [
       "[1, 2, 3, 4]"
      ]
     },
     "execution_count": 134,
     "metadata": {},
     "output_type": "execute_result"
    }
   ],
   "source": [
    "# del fuction\n",
    "del list1[4::1]\n",
    "list1"
   ]
  },
  {
   "cell_type": "code",
   "execution_count": 135,
   "id": "223d0859",
   "metadata": {},
   "outputs": [
    {
     "name": "stdout",
     "output_type": "stream",
     "text": [
      "list1 : [1, 2, 3, 4]\n",
      "list2 : [10.1, 20.2, 30.3, 40.4, 50.5]\n",
      "0\n",
      "3\n",
      "2\n"
     ]
    },
    {
     "data": {
      "text/plain": [
       "2"
      ]
     },
     "execution_count": 135,
     "metadata": {},
     "output_type": "execute_result"
    }
   ],
   "source": [
    "#index fuction \n",
    "print(\"list1 :\",list1)\n",
    "print(\"list2 :\",list2)\n",
    "print(list1.index(1))\n",
    "print(list2.index(40.4))\n",
    "print(list4.index('Dj'))\n",
    "list3.index('Rajakka') \n"
   ]
  },
  {
   "cell_type": "code",
   "execution_count": 136,
   "id": "e61da733",
   "metadata": {},
   "outputs": [
    {
     "name": "stdout",
     "output_type": "stream",
     "text": [
      "list1 : [1, 2, 3, 4]\n",
      "list1 after insert : [1, 2, 3, 100, 4]\n"
     ]
    }
   ],
   "source": [
    "# insert value (index , value)\n",
    "print(\"list1 :\",list1)\n",
    "list1.insert(3,100)\n",
    "print('list1 after insert :',list1)"
   ]
  },
  {
   "cell_type": "code",
   "execution_count": 137,
   "id": "767e7ad8",
   "metadata": {},
   "outputs": [],
   "source": [
    "# pop fuction "
   ]
  },
  {
   "cell_type": "markdown",
   "id": "e9fb8034",
   "metadata": {},
   "source": [
    "POP will remove llast element from list but if we give indexnumber then that particular element will be remove"
   ]
  },
  {
   "cell_type": "code",
   "execution_count": 138,
   "id": "44a80194",
   "metadata": {},
   "outputs": [
    {
     "name": "stdout",
     "output_type": "stream",
     "text": [
      "[1, 2, 3, 100, 4]\n",
      "[1, 2, 3, 100]\n",
      "[1, 2, 3]\n"
     ]
    }
   ],
   "source": [
    "print(list1)\n",
    "list1.pop()# pop last element\n",
    "print(list1)\n",
    "list1.pop(3) # pop ist index\n",
    "print(list1)"
   ]
  },
  {
   "cell_type": "code",
   "execution_count": 139,
   "id": "981acfe9",
   "metadata": {},
   "outputs": [
    {
     "name": "stdout",
     "output_type": "stream",
     "text": [
      "original list : [10.1, 20.2, 30.3, 40.4, 50.5]\n",
      "reverse list : [50.5, 40.4, 30.3, 20.2, 10.1]\n"
     ]
    }
   ],
   "source": [
    "# reverse fuction\n",
    "print(\"original list :\",list2)\n",
    "list2.reverse()\n",
    "print(\"reverse list :\",list2)"
   ]
  },
  {
   "cell_type": "code",
   "execution_count": 140,
   "id": "8433ede0",
   "metadata": {},
   "outputs": [
    {
     "name": "stdout",
     "output_type": "stream",
     "text": [
      "original list : [1, 2, 3, 4, 5, 6]\n",
      "Ascending order : [1, 2, 3, 4, 5, 6]\n",
      "Decending order : [6, 5, 4, 3, 2, 1]\n"
     ]
    }
   ],
   "source": [
    "# sort fuction (ascending /decending )\n",
    "list11 = [1,2,3,4,5,6]\n",
    "print('original list :',list11)\n",
    "list11.sort(reverse = False)\n",
    "print('Ascending order :',list11)\n",
    "list11.sort(reverse = True)\n",
    "print('Decending order :',list11)"
   ]
  },
  {
   "cell_type": "code",
   "execution_count": 141,
   "id": "ad31f235",
   "metadata": {},
   "outputs": [
    {
     "data": {
      "text/plain": [
       "['-110', '-110', '0', '10', '10.1', '1000', 'A', 'A', 'B', 'B', 'C', 'C']"
      ]
     },
     "execution_count": 141,
     "metadata": {},
     "output_type": "execute_result"
    }
   ],
   "source": [
    "# lst .sort (*,key=none , reverse =false)\n",
    "lst = ['C','B','A','C','B','A',0,-110,-110,'1000',10.1,10]\n",
    "lst = sorted (map(str,lst))\n",
    "lst"
   ]
  },
  {
   "cell_type": "code",
   "execution_count": 142,
   "id": "5ce56b00",
   "metadata": {},
   "outputs": [
    {
     "name": "stdout",
     "output_type": "stream",
     "text": [
      "[6, 5, 4, 3, 2, 1]\n",
      "[6, 'mohite_patil', 4, 3, 2, 1]\n"
     ]
    }
   ],
   "source": [
    "# modifying 1st index \n",
    "print(list11)\n",
    "list11[1]='mohite_patil'\n",
    "print(list11)"
   ]
  },
  {
   "cell_type": "code",
   "execution_count": 143,
   "id": "18ff8354",
   "metadata": {},
   "outputs": [
    {
     "name": "stdout",
     "output_type": "stream",
     "text": [
      "[6, 'mohite_patil', 4, 3, 2, 1]\n",
      "['A', 'B', 'C', 3, 2, 1]\n"
     ]
    }
   ],
   "source": [
    "# modifying 1st, 2nd and 3rd index\n",
    "\n",
    "print(list11)\n",
    "list11[0:3]=['A','B','C']\n",
    "print(list11)"
   ]
  },
  {
   "cell_type": "code",
   "execution_count": 144,
   "id": "7a69edd2",
   "metadata": {},
   "outputs": [
    {
     "name": "stdout",
     "output_type": "stream",
     "text": [
      "6\n",
      "['A', 'B', 'C', 3, 2, 1]\n"
     ]
    }
   ],
   "source": [
    "print(len(list11))\n",
    "# list11[9] = 'padmaja' # list assignment index out of range\n",
    "print(list11)"
   ]
  },
  {
   "cell_type": "code",
   "execution_count": 145,
   "id": "3f085767",
   "metadata": {},
   "outputs": [
    {
     "name": "stdout",
     "output_type": "stream",
     "text": [
      "[]\n"
     ]
    }
   ],
   "source": [
    "# clear fuction\n",
    "list11.clear()\n",
    "print(list11)"
   ]
  },
  {
   "cell_type": "code",
   "execution_count": 146,
   "id": "0f00aa60",
   "metadata": {},
   "outputs": [],
   "source": [
    "# acccess list element by using for loop"
   ]
  },
  {
   "cell_type": "code",
   "execution_count": 147,
   "id": "e5da514d",
   "metadata": {},
   "outputs": [
    {
     "name": "stdout",
     "output_type": "stream",
     "text": [
      "1\n",
      "10.1\n",
      "Dj\n",
      "(1+2j)\n",
      "0\n"
     ]
    }
   ],
   "source": [
    "for i in list4:\n",
    "    print(i)"
   ]
  },
  {
   "cell_type": "code",
   "execution_count": 148,
   "id": "0fbc6701",
   "metadata": {},
   "outputs": [
    {
     "name": "stdout",
     "output_type": "stream",
     "text": [
      "[50.5, 40.4, 30.3, 20.2, 10.1]\n",
      "[50.5, 40.4, 30.3]\n"
     ]
    },
    {
     "data": {
      "text/plain": [
       "[50.5, 40.4, 30.3, 20.2, 10.1]"
      ]
     },
     "execution_count": 148,
     "metadata": {},
     "output_type": "execute_result"
    }
   ],
   "source": [
    "print(list2)\n",
    "print(list2[0:3])\n",
    "list2"
   ]
  },
  {
   "cell_type": "code",
   "execution_count": 149,
   "id": "562040fc",
   "metadata": {},
   "outputs": [
    {
     "name": "stdout",
     "output_type": "stream",
     "text": [
      "[50.5, 40.4, 30.3, 20.2, 10.1]\n",
      "[50.5, 40.4, 30.3]\n"
     ]
    }
   ],
   "source": [
    "print(list2)\n",
    "print(list2[0:-2])"
   ]
  },
  {
   "cell_type": "code",
   "execution_count": 150,
   "id": "3c0c3551",
   "metadata": {},
   "outputs": [
    {
     "data": {
      "text/plain": [
       "10.1"
      ]
     },
     "execution_count": 150,
     "metadata": {},
     "output_type": "execute_result"
    }
   ],
   "source": [
    "list2[-1]"
   ]
  },
  {
   "cell_type": "code",
   "execution_count": 151,
   "id": "d68a2a33",
   "metadata": {},
   "outputs": [
    {
     "name": "stdout",
     "output_type": "stream",
     "text": [
      "[10.1, 20.2, 30.3, 40.4, 50.5]\n"
     ]
    }
   ],
   "source": [
    "print(list2[::-1]) # reverse list printed"
   ]
  },
  {
   "cell_type": "markdown",
   "id": "18ae3f40",
   "metadata": {},
   "source": [
    "####  Operation of list"
   ]
  },
  {
   "cell_type": "code",
   "execution_count": 152,
   "id": "889b7595",
   "metadata": {},
   "outputs": [
    {
     "name": "stdout",
     "output_type": "stream",
     "text": [
      "['Dj', 'Priya', 'Rajakka', 'dada', 'Jagadale']\n",
      "5\n"
     ]
    },
    {
     "data": {
      "text/plain": [
       "5"
      ]
     },
     "execution_count": 152,
     "metadata": {},
     "output_type": "execute_result"
    }
   ],
   "source": [
    "# len fuction \n",
    "print(list3)\n",
    "print(len(list3))\n",
    "len(list3)"
   ]
  },
  {
   "cell_type": "code",
   "execution_count": 153,
   "id": "2129312e",
   "metadata": {},
   "outputs": [
    {
     "name": "stdout",
     "output_type": "stream",
     "text": [
      "['Dj', 'Priya', 'Rajakka', 'dada', 'Jagadale']\n"
     ]
    }
   ],
   "source": [
    "#append fuction\n",
    "print(list3)\n",
    "list3.append('Ambak')"
   ]
  },
  {
   "cell_type": "code",
   "execution_count": 156,
   "id": "2d193620",
   "metadata": {},
   "outputs": [
    {
     "name": "stdout",
     "output_type": "stream",
     "text": [
      "[1, 2, 22, 33, 44, 4, 5, 6, 7, 8, 9]\n",
      "list[4]\n"
     ]
    }
   ],
   "source": [
    "list20 = [1,2,3,4,5,6,7,8,9]\n",
    "list20[2:3]=[22,33,44]\n",
    "print(list20)\n",
    "print(list[4])"
   ]
  },
  {
   "cell_type": "code",
   "execution_count": 157,
   "id": "74361345",
   "metadata": {},
   "outputs": [
    {
     "name": "stdout",
     "output_type": "stream",
     "text": [
      "[1, 2, 22, 33, 44]\n",
      "44\n"
     ]
    }
   ],
   "source": [
    "# lok like misbahaviour but actully we are given index 2:en\n",
    "list21 = [1,2,3,4,5,67,8,9]\n",
    "list21[2:] = [22,33,44]\n",
    "print(list21)\n",
    "print(list20[4])"
   ]
  },
  {
   "cell_type": "code",
   "execution_count": 158,
   "id": "66caf041",
   "metadata": {},
   "outputs": [
    {
     "name": "stdout",
     "output_type": "stream",
     "text": [
      "[1, 2, 22, 33, 44, 5, 6, 7, 8, 9]\n",
      "44\n"
     ]
    }
   ],
   "source": [
    "list21 = [1,2,3,4,5,6,7,8,9]\n",
    "list21[2:4]=[22,33,44]\n",
    "print(list21)\n",
    "print(list20[4])"
   ]
  },
  {
   "cell_type": "markdown",
   "id": "bed56202",
   "metadata": {},
   "source": [
    "# TUPLE"
   ]
  },
  {
   "cell_type": "markdown",
   "id": "01266f09",
   "metadata": {},
   "source": [
    "#### 1. Tuple is ordered and unchangable(not growable).\n",
    "#### 2.  Immutable (you cant change the element or can't add elements in tuple)\n",
    "#### 3.  () are used to represent the tuple\n",
    "#### 4.  Duplicates allowed\n",
    "#### 5.  Tuples are read only version of your list but except list is growable."
   ]
  },
  {
   "cell_type": "code",
   "execution_count": 159,
   "id": "64d39726",
   "metadata": {},
   "outputs": [
    {
     "name": "stdout",
     "output_type": "stream",
     "text": [
      "(1, 2, 3, 4, 5, 6)\n",
      "<class 'tuple'>\n"
     ]
    }
   ],
   "source": [
    "# tuple constructer \n",
    "tup = tuple ((1,2,3,4,5,6))\n",
    "print(tup)\n",
    "print(type(tup))"
   ]
  },
  {
   "cell_type": "code",
   "execution_count": 160,
   "id": "7337e3cf",
   "metadata": {},
   "outputs": [
    {
     "data": {
      "text/plain": [
       "1"
      ]
     },
     "execution_count": 160,
     "metadata": {},
     "output_type": "execute_result"
    }
   ],
   "source": [
    "# count ()\n",
    "tup.count(5) # counts how ties element is coming"
   ]
  },
  {
   "cell_type": "code",
   "execution_count": 162,
   "id": "771e2119",
   "metadata": {},
   "outputs": [
    {
     "data": {
      "text/plain": [
       "4"
      ]
     },
     "execution_count": 162,
     "metadata": {},
     "output_type": "execute_result"
    }
   ],
   "source": [
    "# index ()\n",
    "tup.index(5)# showing index number of element"
   ]
  },
  {
   "cell_type": "code",
   "execution_count": null,
   "id": "ab32a648",
   "metadata": {},
   "outputs": [],
   "source": [
    "# tup.append(10) \n",
    "# AttributeError: 'tuple' object has no attribute 'append'"
   ]
  },
  {
   "cell_type": "code",
   "execution_count": 164,
   "id": "da130680",
   "metadata": {},
   "outputs": [
    {
     "name": "stdout",
     "output_type": "stream",
     "text": [
      "(1, 2, 3, 4, 5, 6)\n",
      "<class 'tuple'>\n",
      "************************************************************\n",
      "[1, 2, 3, 4, 5, 6]\n",
      "<class 'list'>\n"
     ]
    }
   ],
   "source": [
    "# step1: tuple convert into list\n",
    "print(tup)\n",
    "print(type(tup))\n",
    "print('*'*60)\n",
    "l_tup = list(tup)\n",
    "print(l_tup)\n",
    "print(type(l_tup))"
   ]
  },
  {
   "cell_type": "code",
   "execution_count": 165,
   "id": "54e6ab58",
   "metadata": {},
   "outputs": [
    {
     "name": "stdout",
     "output_type": "stream",
     "text": [
      "[1, 2, 3, 4, 5, 6, 100]\n",
      "<class 'list'>\n",
      "************************************************************\n",
      "(1, 2, 3, 4, 5, 6, 100)\n",
      "<class 'tuple'>\n"
     ]
    }
   ],
   "source": [
    "# step2 : append requied item in list\n",
    "l_tup.append(100)\n",
    "print(l_tup)\n",
    "print(type(l_tup))\n",
    "print('*'*60)\n",
    "tup=tuple(l_tup)\n",
    "print(tup)\n",
    "print(type(tup))"
   ]
  },
  {
   "cell_type": "code",
   "execution_count": 166,
   "id": "addebf48",
   "metadata": {},
   "outputs": [
    {
     "name": "stdout",
     "output_type": "stream",
     "text": [
      "(1, 2, 3, 4, 5, 6, 100)\n"
     ]
    }
   ],
   "source": [
    "print(tup)"
   ]
  },
  {
   "cell_type": "code",
   "execution_count": 167,
   "id": "464f30cf",
   "metadata": {},
   "outputs": [
    {
     "name": "stdout",
     "output_type": "stream",
     "text": [
      "(1, 2, 3, 4, 5, 6, 100, 'Krishna')\n"
     ]
    }
   ],
   "source": [
    "# append \n",
    "l=list(tup)\n",
    "l.append ('Krishna')\n",
    "tup=tuple(l)\n",
    "print(tup)\n"
   ]
  },
  {
   "cell_type": "code",
   "execution_count": 169,
   "id": "51b213e5",
   "metadata": {},
   "outputs": [
    {
     "name": "stdout",
     "output_type": "stream",
     "text": [
      "[11, 22, 33, 44, 55, 66, 1000, 'Hare']\n",
      "<class 'list'>\n",
      "(11, 22, 33, 44, 55, 66, 1000, 'Hare')\n"
     ]
    }
   ],
   "source": [
    "# copy \n",
    "ll = [11,22,33,44,55,66,1000,'Hare']\n",
    "print(ll)\n",
    "print(type(ll))\n",
    "l = list(tup)\n",
    "len(ll)\n",
    "l=ll.copy()\n",
    "tup=tuple(l)\n",
    "print(tup)"
   ]
  },
  {
   "cell_type": "code",
   "execution_count": 170,
   "id": "ea91a29f",
   "metadata": {},
   "outputs": [
    {
     "name": "stdout",
     "output_type": "stream",
     "text": [
      "(11, 22, 33, 44, 55, 66, 1000, 'Hare', 'rama', 'Hare', 'Krishna')\n"
     ]
    }
   ],
   "source": [
    "# extend fuction\n",
    "lll = ['rama','Hare','Krishna']\n",
    "l = list(tup)\n",
    "l.extend(lll)\n",
    "tup=tuple(l)\n",
    "print(tup)"
   ]
  },
  {
   "cell_type": "code",
   "execution_count": 172,
   "id": "358c1af0",
   "metadata": {},
   "outputs": [
    {
     "name": "stdout",
     "output_type": "stream",
     "text": [
      "7\n",
      "10\n"
     ]
    }
   ],
   "source": [
    "# index\n",
    "print(tup.index('Hare'))\n",
    "print(tup.index('Krishna'))\n"
   ]
  },
  {
   "cell_type": "code",
   "execution_count": 176,
   "id": "60209278",
   "metadata": {},
   "outputs": [
    {
     "name": "stdout",
     "output_type": "stream",
     "text": [
      "(11, 22, 33, 44, 55, 66, 'ABC', 'rama', 'Hare', 'Krishna')\n"
     ]
    }
   ],
   "source": [
    "# insert (index,value)\n",
    "l=list(tup)\n",
    "l.insert(6,'ABC')\n",
    "tup=tuple(l)\n",
    "print(tup)"
   ]
  },
  {
   "cell_type": "code",
   "execution_count": 177,
   "id": "845604da",
   "metadata": {},
   "outputs": [
    {
     "name": "stdout",
     "output_type": "stream",
     "text": [
      "(11, 22, 33, 44, 55, 66, 'rama', 'Hare', 'Krishna')\n"
     ]
    }
   ],
   "source": [
    "# pop ()\n",
    "l=list(tup)\n",
    "l.pop(6)\n",
    "tup=tuple(l)\n",
    "print(tup)"
   ]
  },
  {
   "cell_type": "code",
   "execution_count": 179,
   "id": "e14182a7",
   "metadata": {},
   "outputs": [
    {
     "name": "stdout",
     "output_type": "stream",
     "text": [
      "(11, 22, 33, 44, 55, 'rama', 'Hare', 'Krishna')\n"
     ]
    }
   ],
   "source": [
    "# remove()we need give argument which we want to remove \n",
    "l=list(tup)\n",
    "l.remove(66)\n",
    "tup=tuple(l)\n",
    "print(tup)"
   ]
  },
  {
   "cell_type": "code",
   "execution_count": 182,
   "id": "9a4a1ed8",
   "metadata": {},
   "outputs": [
    {
     "name": "stdout",
     "output_type": "stream",
     "text": [
      "('Krishna', 'Hare', 'rama', 55, 44, 33, 22, 11)\n"
     ]
    }
   ],
   "source": [
    "# reverse ()\n",
    "l = list(tup)\n",
    "l.reverse()\n",
    "tup=tuple(l)\n",
    "print(tup)"
   ]
  },
  {
   "cell_type": "code",
   "execution_count": null,
   "id": "28b80b64",
   "metadata": {},
   "outputs": [],
   "source": [
    "# sort\n",
    "# l=list(tup)\n",
    "# l1=l.sort()# ascending\n",
    "# # TypeError: '<' not supported between instances of 'int' and 'str'\n",
    "# tup=tuple(ll)\n",
    "# print(tup)\n",
    "# l2=l.sort(reverse=True) # decending order\n",
    "# tup1=tuple(l2)\n",
    "# print(tup1)\n",
    "\n",
    "# in list we need either one value or str"
   ]
  },
  {
   "cell_type": "code",
   "execution_count": 183,
   "id": "00168266",
   "metadata": {},
   "outputs": [
    {
     "name": "stdout",
     "output_type": "stream",
     "text": [
      "[11, 22, 10101, 44, 55, 66, 1000]\n",
      "[11, 22, 44, 55, 66, 1000, 10101]\n"
     ]
    }
   ],
   "source": [
    "l1 =[11,22,10101,44,55,66,1000]\n",
    "print(l1)\n",
    "l1.sort()\n",
    "print(l1)"
   ]
  },
  {
   "cell_type": "code",
   "execution_count": 184,
   "id": "11ea3f31",
   "metadata": {},
   "outputs": [
    {
     "name": "stdout",
     "output_type": "stream",
     "text": [
      "()\n"
     ]
    }
   ],
   "source": [
    "# clear ()\n",
    "l=list(tup)\n",
    "l.clear()\n",
    "tup=tuple(l)\n",
    "print(tup)"
   ]
  },
  {
   "cell_type": "code",
   "execution_count": 185,
   "id": "d8f2b495",
   "metadata": {},
   "outputs": [
    {
     "name": "stdout",
     "output_type": "stream",
     "text": [
      "('apple', 'apple', 'banana', 'cherry', 'orange', 'kiwi', 'melon', 'mango')\n",
      "<class 'tuple'>\n"
     ]
    }
   ],
   "source": [
    "tup = ('apple','apple','banana','cherry','orange','kiwi','melon','mango')\n",
    "print(tup)\n",
    "print(type(tup))"
   ]
  },
  {
   "cell_type": "code",
   "execution_count": 186,
   "id": "dacd109a",
   "metadata": {},
   "outputs": [
    {
     "name": "stdout",
     "output_type": "stream",
     "text": [
      "8\n",
      "2\n"
     ]
    },
    {
     "data": {
      "text/plain": [
       "3"
      ]
     },
     "execution_count": 186,
     "metadata": {},
     "output_type": "execute_result"
    }
   ],
   "source": [
    "print(len(tup))\n",
    "print(tup.count('apple'))\n",
    "tup.index('cherry')"
   ]
  },
  {
   "cell_type": "code",
   "execution_count": 189,
   "id": "92f24930",
   "metadata": {},
   "outputs": [
    {
     "name": "stdout",
     "output_type": "stream",
     "text": [
      "<class 'str'>\n",
      "<class 'tuple'>\n"
     ]
    }
   ],
   "source": [
    "tup1=(\"sucess\")\n",
    "print(type(tup1))\n",
    "\n",
    "tup1 =('sucesss',)# ','required at last\n",
    "print(type(tup1))"
   ]
  },
  {
   "cell_type": "code",
   "execution_count": 191,
   "id": "1a250447",
   "metadata": {},
   "outputs": [
    {
     "name": "stdout",
     "output_type": "stream",
     "text": [
      "('apple', 'apple', 'banana', 'cherry', 'orange', 'kiwi', 'melon', 'mango')\n",
      "<class 'tuple'>\n",
      "**********************************************************************\n",
      "('apple', 'apple', 'banana', 'cherry', 'orange', 'kiwi', 'melon', 'mango')\n",
      "<class 'tuple'>\n"
     ]
    }
   ],
   "source": [
    "tup = ('apple','apple','banana','cherry','orange','kiwi','melon','mango')\n",
    "print(tup)\n",
    "print(type(tup))\n",
    "\n",
    "print(\"*\"*70)\n",
    "tup = ('apple','apple','banana','cherry','orange','kiwi','melon','mango')\n",
    "print(tup)\n",
    "print(type(tup))"
   ]
  },
  {
   "cell_type": "code",
   "execution_count": 192,
   "id": "5c318aea",
   "metadata": {},
   "outputs": [
    {
     "name": "stdout",
     "output_type": "stream",
     "text": [
      "(1, 1.2, 'abc', True, 40, 'male')\n",
      "<class 'tuple'>\n"
     ]
    }
   ],
   "source": [
    "tup2 = (1,1.2,\"abc\",True,40,\"male\")\n",
    "print(tup2)\n",
    "print(type(tup2))"
   ]
  },
  {
   "cell_type": "code",
   "execution_count": 193,
   "id": "06564ec0",
   "metadata": {},
   "outputs": [
    {
     "name": "stdout",
     "output_type": "stream",
     "text": [
      "(10, 20, 30)\n"
     ]
    }
   ],
   "source": [
    "# tuple constructor >> tuple contructor is a built in fuction\n",
    "\n",
    "tup3 = tuple([10,20,30])\n",
    "print(tup3)"
   ]
  },
  {
   "cell_type": "code",
   "execution_count": 194,
   "id": "7e540cd8",
   "metadata": {},
   "outputs": [
    {
     "name": "stdout",
     "output_type": "stream",
     "text": [
      "(10, 20, 30)\n"
     ]
    },
    {
     "data": {
      "text/plain": [
       "20"
      ]
     },
     "execution_count": 194,
     "metadata": {},
     "output_type": "execute_result"
    }
   ],
   "source": [
    "# access the element of tuple\n",
    "\n",
    "print(tup3)\n",
    "tup3[1]"
   ]
  },
  {
   "cell_type": "code",
   "execution_count": 196,
   "id": "207d64db",
   "metadata": {},
   "outputs": [
    {
     "name": "stdout",
     "output_type": "stream",
     "text": [
      "('apple', 'apple', 'banana', 'cherry', 'orange', 'kiwi', 'melon', 'mango')\n"
     ]
    },
    {
     "data": {
      "text/plain": [
       "'cherry'"
      ]
     },
     "execution_count": 196,
     "metadata": {},
     "output_type": "execute_result"
    }
   ],
   "source": [
    "print(tup)\n",
    "tup[3]"
   ]
  },
  {
   "cell_type": "code",
   "execution_count": null,
   "id": "e4a73fd8",
   "metadata": {},
   "outputs": [],
   "source": []
  },
  {
   "cell_type": "code",
   "execution_count": null,
   "id": "0d7b1383",
   "metadata": {},
   "outputs": [],
   "source": []
  },
  {
   "cell_type": "code",
   "execution_count": null,
   "id": "9874172b",
   "metadata": {},
   "outputs": [],
   "source": []
  },
  {
   "cell_type": "code",
   "execution_count": null,
   "id": "bf7323b9",
   "metadata": {},
   "outputs": [],
   "source": []
  },
  {
   "cell_type": "code",
   "execution_count": null,
   "id": "96e2cf24",
   "metadata": {},
   "outputs": [],
   "source": []
  },
  {
   "cell_type": "code",
   "execution_count": null,
   "id": "b1f8a3b9",
   "metadata": {},
   "outputs": [],
   "source": []
  },
  {
   "cell_type": "code",
   "execution_count": null,
   "id": "b2151bed",
   "metadata": {},
   "outputs": [],
   "source": []
  },
  {
   "cell_type": "code",
   "execution_count": null,
   "id": "2370111b",
   "metadata": {},
   "outputs": [],
   "source": []
  },
  {
   "cell_type": "code",
   "execution_count": null,
   "id": "acc14606",
   "metadata": {},
   "outputs": [],
   "source": []
  },
  {
   "cell_type": "code",
   "execution_count": null,
   "id": "78f08706",
   "metadata": {},
   "outputs": [],
   "source": []
  },
  {
   "cell_type": "code",
   "execution_count": null,
   "id": "8843f970",
   "metadata": {},
   "outputs": [],
   "source": []
  },
  {
   "cell_type": "code",
   "execution_count": null,
   "id": "236d6d58",
   "metadata": {},
   "outputs": [],
   "source": []
  },
  {
   "cell_type": "code",
   "execution_count": null,
   "id": "e788c36a",
   "metadata": {},
   "outputs": [],
   "source": []
  },
  {
   "cell_type": "code",
   "execution_count": null,
   "id": "674c91b9",
   "metadata": {},
   "outputs": [],
   "source": []
  },
  {
   "cell_type": "code",
   "execution_count": null,
   "id": "726bf451",
   "metadata": {},
   "outputs": [],
   "source": []
  }
 ],
 "metadata": {
  "kernelspec": {
   "display_name": "Python 3 (ipykernel)",
   "language": "python",
   "name": "python3"
  },
  "language_info": {
   "codemirror_mode": {
    "name": "ipython",
    "version": 3
   },
   "file_extension": ".py",
   "mimetype": "text/x-python",
   "name": "python",
   "nbconvert_exporter": "python",
   "pygments_lexer": "ipython3",
   "version": "3.11.2"
  }
 },
 "nbformat": 4,
 "nbformat_minor": 5
}
