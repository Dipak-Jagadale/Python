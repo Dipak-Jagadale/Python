{
 "cells": [
  {
   "cell_type": "code",
   "execution_count": 3,
   "id": "2e1da168",
   "metadata": {},
   "outputs": [
    {
     "name": "stdout",
     "output_type": "stream",
     "text": [
      "[10, 20, 30, 40]\n",
      "2736308584256\n",
      "[10, 20, 90, 40]\n",
      "2736308584256\n"
     ]
    }
   ],
   "source": [
    "lst1 = [10,20,30,40]\n",
    "print(lst1)\n",
    "print(id(lst1))\n",
    "\n",
    "\n",
    "lst1[2] = 90\n",
    "print(lst1)\n",
    "print(id(lst1))"
   ]
  },
  {
   "cell_type": "code",
   "execution_count": 7,
   "id": "50718fb1",
   "metadata": {},
   "outputs": [
    {
     "name": "stdout",
     "output_type": "stream",
     "text": [
      "[10, 20, 90, 40, 99, 99, 99, 99]\n"
     ]
    }
   ],
   "source": [
    "lst1.append(99)\n",
    "lst1\n",
    "print(lst1)\n"
   ]
  },
  {
   "cell_type": "code",
   "execution_count": 14,
   "id": "40895f59",
   "metadata": {},
   "outputs": [
    {
     "data": {
      "text/plain": [
       "[10, 20, 90, 40, 99, 99, 99, 99, 100, 100, 100, 100]"
      ]
     },
     "execution_count": 14,
     "metadata": {},
     "output_type": "execute_result"
    }
   ],
   "source": [
    "lst1.append(100)\n",
    "lst1"
   ]
  },
  {
   "cell_type": "code",
   "execution_count": 26,
   "id": "f9e2fd24",
   "metadata": {},
   "outputs": [
    {
     "data": {
      "text/plain": [
       "[10, 20, 30, 30, 90, 40, 99, 99, 99, 100, 100, 100, 100]"
      ]
     },
     "execution_count": 26,
     "metadata": {},
     "output_type": "execute_result"
    }
   ],
   "source": [
    "lst1.insert(2,30)\n",
    "lst1"
   ]
  },
  {
   "cell_type": "code",
   "execution_count": 27,
   "id": "4c7397b3",
   "metadata": {},
   "outputs": [
    {
     "ename": "NameError",
     "evalue": "name 'list1' is not defined",
     "output_type": "error",
     "traceback": [
      "\u001b[1;31m---------------------------------------------------------------------------\u001b[0m",
      "\u001b[1;31mNameError\u001b[0m                                 Traceback (most recent call last)",
      "Cell \u001b[1;32mIn [27], line 2\u001b[0m\n\u001b[0;32m      1\u001b[0m lst2 \u001b[38;5;241m=\u001b[39m [\u001b[38;5;241m89\u001b[39m,\u001b[38;5;241m89\u001b[39m,\u001b[38;5;241m89\u001b[39m]\n\u001b[1;32m----> 2\u001b[0m list1[\u001b[38;5;241m5\u001b[39m:\u001b[38;5;241m8\u001b[39m]\u001b[38;5;241m=\u001b[39m\u001b[43mlist1\u001b[49m\n\u001b[0;32m      3\u001b[0m lst1\n",
      "\u001b[1;31mNameError\u001b[0m: name 'list1' is not defined"
     ]
    }
   ],
   "source": [
    "lst2 = [89,89,89]\n",
    "list1[5:8]=list1\n",
    "lst1"
   ]
  },
  {
   "cell_type": "code",
   "execution_count": 29,
   "id": "e4681c37",
   "metadata": {},
   "outputs": [
    {
     "data": {
      "text/plain": [
       "[10, 20, 30, 30, 90, 40, 99, 100, 100, 100, 100]"
      ]
     },
     "execution_count": 29,
     "metadata": {},
     "output_type": "execute_result"
    }
   ],
   "source": [
    "lst1.remove(99)\n",
    "lst1"
   ]
  },
  {
   "cell_type": "code",
   "execution_count": null,
   "id": "1cf12202",
   "metadata": {},
   "outputs": [],
   "source": []
  }
 ],
 "metadata": {
  "kernelspec": {
   "display_name": "Python 3 (ipykernel)",
   "language": "python",
   "name": "python3"
  },
  "language_info": {
   "codemirror_mode": {
    "name": "ipython",
    "version": 3
   },
   "file_extension": ".py",
   "mimetype": "text/x-python",
   "name": "python",
   "nbconvert_exporter": "python",
   "pygments_lexer": "ipython3",
   "version": "3.11.2"
  }
 },
 "nbformat": 4,
 "nbformat_minor": 5
}
