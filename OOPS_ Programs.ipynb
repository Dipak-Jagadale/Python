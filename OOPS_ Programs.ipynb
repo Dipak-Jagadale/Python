{
 "cells": [
  {
   "cell_type": "code",
   "execution_count": 1,
   "id": "25f24689",
   "metadata": {},
   "outputs": [
    {
     "name": "stdout",
     "output_type": "stream",
     "text": [
      "Furniture\n",
      "Chair\n"
     ]
    }
   ],
   "source": [
    "class Furniture:\n",
    "    def Fdisplay(self):\n",
    "        print(\"Furniture\")\n",
    "\n",
    "class chair(Furniture):\n",
    "    def cdisplay(self):\n",
    "          print(\"Chair\")\n",
    "\n",
    "\n",
    "f1 = Furniture()\n",
    "c1 =  chair()\n",
    "f1.Fdisplay()\n",
    "c1.cdisplay()\n"
   ]
  },
  {
   "cell_type": "code",
   "execution_count": 2,
   "id": "5fb0660c",
   "metadata": {},
   "outputs": [
    {
     "name": "stdout",
     "output_type": "stream",
     "text": [
      "Teakwood\n",
      "chair\n"
     ]
    }
   ],
   "source": [
    "class Teakwood:\n",
    "    def Tdisplay(self):\n",
    "        print(\"Teakwood\")\n",
    "\n",
    "class chair(Teakwood):\n",
    "    def cdisplay(self):\n",
    "        print(\"chair\")\n",
    "\n",
    "t1 = Teakwood()\n",
    "c1 = chair()\n",
    "t1.Tdisplay()\n",
    "c1.cdisplay()"
   ]
  },
  {
   "cell_type": "code",
   "execution_count": null,
   "id": "6b1e9689",
   "metadata": {},
   "outputs": [],
   "source": [
    " # 1. WAP for finding common & uncommon element from list and dictionary\n",
    "\n",
    "list1 = ['A', 'B', 'C', 'X', 'Y', 'Z']\n",
    "dict1 = {'A': 10, 'B': 20, 'C': 30, 'D': 40, 'E': 50, 'F': 60}\n",
    "\n",
    "common = []\n",
    "uncommon = []\n",
    "\n",
    "common_keys = []\n",
    "uncommon_keys = []\n",
    "\n",
    "common_values = []\n",
    "uncommon_values = []\n",
    "\n",
    "for i in list1:\n",
    "    if i in dict1:\n",
    "        common.append(i)\n",
    "    else:\n",
    "        uncommon.append(i)\n",
    "\n",
    "print(\"Common list Elements from list & dictionary :\", common)\n",
    "print(\"Uncommon list Elements from list & dictionary :\", uncommon)\n",
    "\n",
    "for i in dict1:\n",
    "    if i in list1:\n",
    "        common_keys.append(i)\n",
    "    else:\n",
    "        uncommon_keys.append(i)\n",
    "\n",
    "print(\"Common dict keys from list & dictionary :\", common_keys)\n",
    "print(\"Uncommon dict keys from list & dictionary :\", uncommon_keys)\n",
    "\n",
    "for i in dict1:\n",
    " …\n",
    " # 2. WAP for find even and odd numbers in from one to hundred\n",
    "\n",
    "even = []\n",
    "odd = []\n",
    "\n",
    "for i in range(0, 101):\n",
    "    if i % 2 == 0:\n",
    "        even.append(i)\n",
    "    else:\n",
    "        odd.append(i)\n",
    "\n",
    "print('Even Numbers :', even)\n",
    "print('Odd Numbers :', odd)\n",
    "[10:22 PM, 10/15/2023] Digvijay: # 3. WAP for to find prime number from user input.\n",
    "\n",
    "def is_prime(num):\n",
    "    if num < 2:\n",
    "        return False\n",
    "\n",
    "    for i in range(2, num):\n",
    "        if num % i == 0:\n",
    "            return False\n",
    "\n",
    "    return True\n",
    "\n",
    "prime_num = []\n",
    "not_prime = []\n",
    "\n",
    "for i in range(1, 101):\n",
    "    if is_prime(i):\n",
    "        prime_num.append(i)\n",
    "    else:\n",
    "        not_prime.append(i)\n",
    "\n",
    "print('Prime Numbers :', prime_num)\n",
    "print('Not Prime Numbers :', not_prime)"
   ]
  },
  {
   "cell_type": "code",
   "execution_count": null,
   "id": "184d588a",
   "metadata": {},
   "outputs": [],
   "source": []
  },
  {
   "cell_type": "code",
   "execution_count": null,
   "id": "f895e8b6",
   "metadata": {},
   "outputs": [],
   "source": []
  },
  {
   "cell_type": "code",
   "execution_count": null,
   "id": "e99d9d2d",
   "metadata": {},
   "outputs": [],
   "source": []
  },
  {
   "cell_type": "code",
   "execution_count": null,
   "id": "f8ad8856",
   "metadata": {},
   "outputs": [],
   "source": []
  },
  {
   "cell_type": "code",
   "execution_count": null,
   "id": "122ea7a7",
   "metadata": {},
   "outputs": [],
   "source": []
  },
  {
   "cell_type": "code",
   "execution_count": null,
   "id": "97d18330",
   "metadata": {},
   "outputs": [],
   "source": []
  },
  {
   "cell_type": "code",
   "execution_count": null,
   "id": "c0164b13",
   "metadata": {},
   "outputs": [],
   "source": []
  },
  {
   "cell_type": "code",
   "execution_count": null,
   "id": "9e5fee4e",
   "metadata": {},
   "outputs": [],
   "source": []
  },
  {
   "cell_type": "code",
   "execution_count": null,
   "id": "5742832b",
   "metadata": {},
   "outputs": [],
   "source": []
  },
  {
   "cell_type": "code",
   "execution_count": null,
   "id": "a8eca3c9",
   "metadata": {},
   "outputs": [],
   "source": []
  },
  {
   "cell_type": "code",
   "execution_count": null,
   "id": "b6ca0969",
   "metadata": {},
   "outputs": [],
   "source": []
  },
  {
   "cell_type": "code",
   "execution_count": null,
   "id": "4112d9e4",
   "metadata": {},
   "outputs": [],
   "source": []
  }
 ],
 "metadata": {
  "kernelspec": {
   "display_name": "Python 3 (ipykernel)",
   "language": "python",
   "name": "python3"
  },
  "language_info": {
   "codemirror_mode": {
    "name": "ipython",
    "version": 3
   },
   "file_extension": ".py",
   "mimetype": "text/x-python",
   "name": "python",
   "nbconvert_exporter": "python",
   "pygments_lexer": "ipython3",
   "version": "3.11.2"
  }
 },
 "nbformat": 4,
 "nbformat_minor": 5
}
