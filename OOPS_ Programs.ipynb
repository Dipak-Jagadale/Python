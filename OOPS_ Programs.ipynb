{
 "cells": [
  {
   "cell_type": "code",
   "execution_count": 1,
   "id": "fb6a63e1",
   "metadata": {},
   "outputs": [
    {
     "name": "stdout",
     "output_type": "stream",
     "text": [
      "Furniture\n",
      "Chair\n"
     ]
    }
   ],
   "source": [
    "class Furniture:\n",
    "    def Fdisplay(self):\n",
    "        print(\"Furniture\")\n",
    "\n",
    "class chair(Furniture):\n",
    "    def cdisplay(self):\n",
    "          print(\"Chair\")\n",
    "\n",
    "\n",
    "f1 = Furniture()\n",
    "c1 =  chair()\n",
    "f1.Fdisplay()\n",
    "c1.cdisplay()\n"
   ]
  },
  {
   "cell_type": "code",
   "execution_count": null,
   "id": "a54e085b",
   "metadata": {},
   "outputs": [],
   "source": []
  },
  {
   "cell_type": "code",
   "execution_count": null,
   "id": "8c6cf291",
   "metadata": {},
   "outputs": [],
   "source": []
  }
 ],
 "metadata": {
  "kernelspec": {
   "display_name": "Python 3 (ipykernel)",
   "language": "python",
   "name": "python3"
  },
  "language_info": {
   "codemirror_mode": {
    "name": "ipython",
    "version": 3
   },
   "file_extension": ".py",
   "mimetype": "text/x-python",
   "name": "python",
   "nbconvert_exporter": "python",
   "pygments_lexer": "ipython3",
   "version": "3.11.2"
  }
 },
 "nbformat": 4,
 "nbformat_minor": 5
}
