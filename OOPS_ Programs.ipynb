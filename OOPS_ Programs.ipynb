{
 "cells": [
  {
   "cell_type": "code",
   "execution_count": 1,
   "id": "25f24689",
   "metadata": {},
   "outputs": [
    {
     "name": "stdout",
     "output_type": "stream",
     "text": [
      "Furniture\n",
      "Chair\n"
     ]
    }
   ],
   "source": [
    "class Furniture:\n",
    "    def Fdisplay(self):\n",
    "        print(\"Furniture\")\n",
    "\n",
    "class chair(Furniture):\n",
    "    def cdisplay(self):\n",
    "          print(\"Chair\")\n",
    "\n",
    "\n",
    "f1 = Furniture()\n",
    "c1 =  chair()\n",
    "f1.Fdisplay()\n",
    "c1.cdisplay()\n"
   ]
  },
  {
   "cell_type": "code",
   "execution_count": 2,
   "id": "5fb0660c",
   "metadata": {},
   "outputs": [
    {
     "name": "stdout",
     "output_type": "stream",
     "text": [
      "Teakwood\n",
      "chair\n"
     ]
    }
   ],
   "source": [
    "class Teakwood:\n",
    "    def Tdisplay(self):\n",
    "        print(\"Teakwood\")\n",
    "\n",
    "class chair(Teakwood):\n",
    "    def cdisplay(self):\n",
    "        print(\"chair\")\n",
    "\n",
    "t1 = Teakwood()\n",
    "c1 = chair()\n",
    "t1.Tdisplay()\n",
    "c1.cdisplay()"
   ]
  },
  {
   "cell_type": "code",
   "execution_count": null,
   "id": "6b1e9689",
   "metadata": {},
   "outputs": [],
   "source": []
  }
 ],
 "metadata": {
  "kernelspec": {
   "display_name": "Python 3 (ipykernel)",
   "language": "python",
   "name": "python3"
  },
  "language_info": {
   "codemirror_mode": {
    "name": "ipython",
    "version": 3
   },
   "file_extension": ".py",
   "mimetype": "text/x-python",
   "name": "python",
   "nbconvert_exporter": "python",
   "pygments_lexer": "ipython3",
   "version": "3.11.2"
  }
 },
 "nbformat": 4,
 "nbformat_minor": 5
}
