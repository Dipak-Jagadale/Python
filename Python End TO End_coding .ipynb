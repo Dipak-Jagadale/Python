{
 "cells": [
  {
   "cell_type": "markdown",
   "id": "7a69a427",
   "metadata": {},
   "source": [
    "# Python\n"
   ]
  },
  {
   "cell_type": "markdown",
   "id": "86042705",
   "metadata": {},
   "source": [
    "## PYTHON Introduction"
   ]
  },
  {
   "cell_type": "markdown",
   "id": "60262836",
   "metadata": {},
   "source": [
    "### What is Python?\n"
   ]
  },
  {
   "cell_type": "markdown",
   "id": "3bf625e5",
   "metadata": {},
   "source": [
    "Python is general purpose high level popular programming language. Python was developed by Guido Van Rossam at National Research Institute Netherlands, official relaese date of python is 20th Feb 1991\n",
    "\n",
    "Python is versatile language, capable of running on multiple platforms, including Windows, macOS, and Linux.\n",
    "\n",
    "Python offers a vast library of pre-built modules and tools, which make it easy to perform complex tasks with minimal coding efforts\n",
    "\n",
    "##### Some of the most popular libraries of Python used in data science are:\n",
    "\n",
    "#### NumPy:\n",
    "   A library used for numerical computing with Python.\n",
    "#### Pandas: \n",
    "   A library used for data manipulation and analysis.\n",
    "#### Matplotlib:\n",
    "   A library used for data visualization.\n",
    "#### Scikit-learn:\n",
    "   A library used for machine learning\n",
    "#### TensorFlow:\n",
    "   A library used for deep learning."
   ]
  },
  {
   "cell_type": "markdown",
   "id": "7761fad9",
   "metadata": {},
   "source": [
    "### Why Python is more popular in the world ?"
   ]
  },
  {
   "cell_type": "markdown",
   "id": "b889e088",
   "metadata": {},
   "source": [
    "### Features of Python :-\n",
    "##### 1.Easy to Learn and Use -\n",
    "Its code is easy to read and understand, which makes it easier to maintain and update. like english language.\n",
    "##### 2.Expressive Language - \n",
    "which means that it is more understandable and readable.\n",
    "##### 3.Interpreted Language -\n",
    "Which means Python can be executed immediately without the need for compilation. i.e code will run line by line.This makes it easier to test and debug code.\n",
    "##### 4.Cross-platform Language -\n",
    "which meance capabale of running on multiple platforms, like windows, macOS, Linux etc.\n",
    "##### 5.Free and Open Source - \n",
    "which meance that it's free to use and distribute. i.e no need to license. This makes it accessible to a wide range of users, including individuals, businesses, and educational institutions.\n",
    "##### 6.Object-Oriented Language -\n",
    "This means that it allows developers to use objects to represent and manipulate data, rather than just using functions and procedures.\n",
    "class is blue print of object\n",
    "\n",
    "##### 7.Extensible programming language -\n",
    "This means that developers can extend the language by adding new modules or packages to it, which provide additional functionality and features beyond what is available in the core language.\n",
    "##### 8.Large Standard Library -\n",
    "which provides a wide range of modules and tools for various tasks which make it easy to perform complex tasks with minimal coding efforts\n",
    "##### 9.Dynamically typed -\n",
    "which means that the data type of a variable is determined at runtime. This allows for greater flexibility and makes it easier to write code\n",
    "Applications"
   ]
  },
  {
   "cell_type": "markdown",
   "id": "2cd42e6d",
   "metadata": {},
   "source": [
    "### Applications:-\n",
    "\n",
    "###### Python is a versatile programming language with a wide range of applications in various domains.\n"
   ]
  },
  {
   "cell_type": "markdown",
   "id": "d7acef54",
   "metadata": {},
   "source": [
    "###### Here are some of the most popular applications of Python:"
   ]
  },
  {
   "cell_type": "markdown",
   "id": "9fe929f1",
   "metadata": {},
   "source": [
    "#### 1.Web Development: \n",
    "    Python is used for developing web applications and web services. Popular web frameworks like Django and Flask are built using Python. e.g NASA Web\n",
    "#### 2.Data Science: \n",
    "Python is widely used in data science for tasks such as data analysis, data visualization, and machine learning. Popular data science libraries like NumPy, Pandas, and Scikit-learn are built using Python.\n",
    "#### 3.Artificial Intelligence:\n",
    "Python is used for developing artificial intelligence and machine learning algorithms. Popular libraries like TensorFlow and Keras are built using Python.\n",
    "#### 4.Scientific & numeric Computing:\n",
    "Python is used for scientific computing and mathematical modeling. Popular libraries like SciPy and SymPy are built using Python.\n",
    "#### 5.Automation and Scripting:\n",
    "Python is used for automating tasks and scripting. It is widely used for tasks such as data processing, system administration, and network automation.\n",
    "#### 6.Game Development: \n",
    "Python is used for game development. Popular game engines like Pygame and Panda3D are built using Python.\n",
    "Desktop Application Development: Python is used for developing desktop applications. Popular GUI frameworks like PyQt and wxPython are built using Python.\n",
    "#### 7.Education: \n",
    "Python is widely used in education as a teaching language for computer science and programming courses.\n",
    "#### 8.Desktop Application Development: \n",
    "Python is used for developing desktop applications. Popular GUI frameworks like PyQt and wxPython are built using Python.\n",
    "##### 9.Software Development:\n",
    "##### 10.Business Applications:\n",
    "##### 11.Console Based Application:\n",
    "##### 12.Audio or Video based Applications:\n",
    "##### 13.3D CAD Applications:\n"
   ]
  },
  {
   "cell_type": "markdown",
   "id": "90514f35",
   "metadata": {},
   "source": [
    "## Good to know python language\n",
    "#### python include below poits"
   ]
  },
  {
   "cell_type": "markdown",
   "id": "2e643962",
   "metadata": {},
   "source": [
    "###### 1.Functional Programming Features from C\n",
    "###### 2.Object Oriented Programming Features from C++\n",
    "###### 3.Scripting Language Features from Perl & Shell Script\n",
    "###### 4.Modular Programming Features from Modula-3"
   ]
  },
  {
   "cell_type": "code",
   "execution_count": 13,
   "id": "d9539bc7",
   "metadata": {},
   "outputs": [
    {
     "name": "stdout",
     "output_type": "stream",
     "text": [
      "Hello\n",
      "God\n"
     ]
    }
   ],
   "source": [
    "print (\"Hello\")\n",
    "print(\"God\")"
   ]
  },
  {
   "cell_type": "markdown",
   "id": "756494db",
   "metadata": {},
   "source": [
    "Note: It is very simple to print hello in python, as compared to other programming languages, coding in python is really less time consuming than other programming languages"
   ]
  },
  {
   "cell_type": "code",
   "execution_count": null,
   "id": "88e0520f",
   "metadata": {},
   "outputs": [],
   "source": []
  },
  {
   "cell_type": "code",
   "execution_count": null,
   "id": "209ab5c3",
   "metadata": {},
   "outputs": [],
   "source": []
  },
  {
   "cell_type": "code",
   "execution_count": null,
   "id": "8706efea",
   "metadata": {},
   "outputs": [],
   "source": []
  },
  {
   "cell_type": "code",
   "execution_count": null,
   "id": "9ad3941f",
   "metadata": {},
   "outputs": [],
   "source": []
  },
  {
   "cell_type": "code",
   "execution_count": null,
   "id": "33a251bd",
   "metadata": {},
   "outputs": [],
   "source": []
  },
  {
   "cell_type": "code",
   "execution_count": null,
   "id": "e50c2eec",
   "metadata": {},
   "outputs": [],
   "source": []
  },
  {
   "cell_type": "code",
   "execution_count": null,
   "id": "fdfa80f6",
   "metadata": {},
   "outputs": [],
   "source": []
  },
  {
   "cell_type": "code",
   "execution_count": null,
   "id": "b1528344",
   "metadata": {},
   "outputs": [],
   "source": []
  },
  {
   "cell_type": "code",
   "execution_count": null,
   "id": "27ad3ba3",
   "metadata": {},
   "outputs": [],
   "source": []
  },
  {
   "cell_type": "code",
   "execution_count": null,
   "id": "9747aa33",
   "metadata": {},
   "outputs": [],
   "source": []
  },
  {
   "cell_type": "code",
   "execution_count": 15,
   "id": "200c3320",
   "metadata": {},
   "outputs": [
    {
     "name": "stdout",
     "output_type": "stream",
     "text": [
      "10\n",
      "20\n",
      "30\n"
     ]
    }
   ],
   "source": [
    "x=10\n",
    "y=20\n",
    "_x =30\n",
    "\n",
    "print(x)\n",
    "print(y)\n",
    "print(_x)"
   ]
  },
  {
   "cell_type": "code",
   "execution_count": 17,
   "id": "d010ba0c",
   "metadata": {},
   "outputs": [
    {
     "name": "stdout",
     "output_type": "stream",
     "text": [
      "name : Python\n",
      "******************************************************************************************\n",
      "name : Python\n",
      "******************************************************************************************\n",
      "_Name : Python\n",
      "******************************************************************************************\n",
      "Fname : Python\n",
      "******************************************************************************************\n",
      "fname123 : Python\n",
      "******************************************************************************************\n",
      "f_name_123 : python\n"
     ]
    }
   ],
   "source": [
    "name = \"Python\"\n",
    "print(\"name :\",name)\n",
    "print('*'*90)\n",
    "NAME = 'Python'\n",
    "print('name :',NAME)\n",
    "print('*'*90)\n",
    "_NAME = 'Python'\n",
    "print('_Name :',_NAME)\n",
    "print('*'*90)\n",
    "fname = 'Python'\n",
    "print('Fname :',fname)\n",
    "print('*'*90)\n",
    "fname123 = 'Python'\n",
    "print('fname123 :',fname123)\n",
    "print('*'*90)\n",
    "f_name_123 = 'python'\n",
    "print('f_name_123 :',f_name_123)\n",
    "\n",
    "\n"
   ]
  },
  {
   "cell_type": "code",
   "execution_count": 20,
   "id": "46634f79",
   "metadata": {},
   "outputs": [
    {
     "name": "stdout",
     "output_type": "stream",
     "text": [
      "a = 10\n",
      "Type of a : <class 'int'>\n",
      "******************************************************************************************\n",
      "type = sikander\n",
      "type of fname : <class 'str'>\n",
      "******************************************************************************************\n",
      "Complex_number : <class 'complex'>\n"
     ]
    }
   ],
   "source": [
    "a = 10 \n",
    "print('a =',a)\n",
    "print('Type of a :',type(a))\n",
    "\n",
    "print('*'*90)\n",
    "\n",
    "fname = 'sikander'\n",
    "print('type =', fname)\n",
    "print('type of fname :',type(fname))\n",
    "\n",
    "print('*'*90)\n",
    "complex_number =1+2j\n",
    "print('Complex_number :',type(complex_number))"
   ]
  },
  {
   "cell_type": "code",
   "execution_count": null,
   "id": "ad423aad",
   "metadata": {},
   "outputs": [],
   "source": []
  },
  {
   "cell_type": "code",
   "execution_count": null,
   "id": "405b5dfb",
   "metadata": {},
   "outputs": [],
   "source": []
  },
  {
   "cell_type": "code",
   "execution_count": null,
   "id": "1e7fd1d9",
   "metadata": {},
   "outputs": [],
   "source": []
  },
  {
   "cell_type": "code",
   "execution_count": null,
   "id": "1516b038",
   "metadata": {},
   "outputs": [],
   "source": []
  },
  {
   "cell_type": "code",
   "execution_count": null,
   "id": "6bdb5b63",
   "metadata": {},
   "outputs": [],
   "source": []
  },
  {
   "cell_type": "code",
   "execution_count": null,
   "id": "0e5716ad",
   "metadata": {},
   "outputs": [],
   "source": []
  },
  {
   "cell_type": "code",
   "execution_count": null,
   "id": "8f0b2020",
   "metadata": {},
   "outputs": [],
   "source": []
  },
  {
   "cell_type": "code",
   "execution_count": null,
   "id": "03c4629e",
   "metadata": {},
   "outputs": [],
   "source": []
  },
  {
   "cell_type": "code",
   "execution_count": 5,
   "id": "f3032545",
   "metadata": {
    "scrolled": false
   },
   "outputs": [
    {
     "name": "stdout",
     "output_type": "stream",
     "text": [
      "The Zen of Python, by Tim Peters\n",
      "\n",
      "Beautiful is better than ugly.\n",
      "Explicit is better than implicit.\n",
      "Simple is better than complex.\n",
      "Complex is better than complicated.\n",
      "Flat is better than nested.\n",
      "Sparse is better than dense.\n",
      "Readability counts.\n",
      "Special cases aren't special enough to break the rules.\n",
      "Although practicality beats purity.\n",
      "Errors should never pass silently.\n",
      "Unless explicitly silenced.\n",
      "In the face of ambiguity, refuse the temptation to guess.\n",
      "There should be one-- and preferably only one --obvious way to do it.\n",
      "Although that way may not be obvious at first unless you're Dutch.\n",
      "Now is better than never.\n",
      "Although never is often better than *right* now.\n",
      "If the implementation is hard to explain, it's a bad idea.\n",
      "If the implementation is easy to explain, it may be a good idea.\n",
      "Namespaces are one honking great idea -- let's do more of those!\n"
     ]
    }
   ],
   "source": [
    "import this"
   ]
  },
  {
   "cell_type": "code",
   "execution_count": null,
   "id": "96336aa4",
   "metadata": {},
   "outputs": [],
   "source": [
    "\"Pythonचं ध्यान, टिम पीटर्स यांचं\n",
    "\n",
    "सुंदर शेपटी अशा होणारं श्रेयस्कर\n",
    "स्पष्ट असलेलं, निहित अनुमानांपेक्षा श्रेयस्कर\n",
    "साधा, कितीतरी सांगितलं असलं अशा कितीतरी जटिल असलेलं श्रेयस्कर\n",
    "जटिल, कितीतरी संकटस्पद असलेलं अशा कितीतरी संकटस्पद असलेलं श्रेयस्कर\n",
    "समतल, एकतर अंतर्जालात असलं अशा कितीतरी घन असलेलं श्रेयस्कर\n",
    "विरासत, जलद असल्याचं महत्त्व असं कितीतरी स्पष्टपणे म्हणणे घेतंय.\n",
    "विशेष प्रकारे नियमे तोडण्यासाठी प्रत्यक्षतेचं शक्ती असू नये.\n",
    "परंतु व्यावसायिकतेने पवित्रतेला मान्यता असल्याने.\n",
    "चुका नेहमीचे चुकून जाणार नाही.\n",
    "परंतु प्रत्यक्षपणे चुकून जाणार असल्यास, ते उत्तम विचारलं जातं.\n",
    "नामस्थान, एक महान विचार आहे - आम्ही अधिक करूया.\""
   ]
  },
  {
   "cell_type": "markdown",
   "id": "2cad51ce",
   "metadata": {},
   "source": [
    "### Data Types in Python\n"
   ]
  },
  {
   "cell_type": "markdown",
   "id": "d467c68d",
   "metadata": {},
   "source": [
    "Data type of variable is the type of value inside that variable.\n",
    "\n",
    "In python we do not need to mention the data type of variable, It automatically assigns data type\n",
    "\n",
    "Python is a dynamically-typed language, which means that the data type of a variable is determined at runtime. Python has several built-in data types, including:\n",
    "\n",
    "##### 1.Numbers: \n",
    "    Python supports integers, floating-point numbers, and complex numbers. For example, 42, 3.14, and 2 + 3j are all valid numbers in Python.\n",
    "##### 2.Strings: \n",
    "    Strings are sequences of characters. They can be enclosed in single quotes ('...') or double quotes (\"...\"). For example, 'hello' and \"world\" are both valid strings.\n",
    "##### 3.Booleans: \n",
    "    Booleans represent either true or false.\n",
    "    The two possible values of a boolean are True and False.\n",
    "##### 4.Lists: \n",
    "    Lists are ordered collections of items, which can be of different types. They are mutable, which means that you can add, remove, or modify elements in a list. For example, [1, 2, 3] and ['apple', 'banana', 'cherry'] are both valid lists.\n",
    "##### 5.Tuples: \n",
    "    Tuples are similar to lists, but they are immutable, which means that you cannot modify them once they are created. They are often used to represent fixed collections of values. Tuples are enclosed in parentheses. For example, (1, 2, 3) is a tuple.\n",
    "##### 6.Sets: \n",
    "    Sets are unordered collections of unique items. They are enclosed in curly braces. For example, {1, 2, 3} is a set.\n",
    "##### 7.Dictionaries:\n",
    "    Dictionaries are collections of key-value pairs. The keys are unique, and each key is associated with a value. Dictionaries are enclosed in curly braces, and the key-value pairs are separated by colons. For example, {'apple': 2, 'banana': 3, 'cherry': 5} is a dictionary.\n",
    "##### 89.bytes:\n",
    "##### 9.bytearray:\n",
    "##### 10.range:\n",
    "##### 11.None:\n",
    "In addition to these built-in data types, Python also supports several data type modules, such as datetime, which provides objects to work with dates and times, and math, which provides functions to work with mathematical operations."
   ]
  },
  {
   "cell_type": "code",
   "execution_count": 12,
   "id": "bb5cd382",
   "metadata": {},
   "outputs": [
    {
     "name": "stdout",
     "output_type": "stream",
     "text": [
      "Output : 10 <class 'int'>\n"
     ]
    }
   ],
   "source": [
    "var = 10\n",
    "print('Output :',var,type(var))"
   ]
  },
  {
   "cell_type": "markdown",
   "id": "95238bf0",
   "metadata": {},
   "source": [
    "#### Types of Number System\n",
    "\n",
    "1.Decimal number system\n",
    "\n",
    "2.Binary Number System\n",
    "\n",
    "3.Octal Number system\n",
    "\n",
    "4.Hexadecimal Number System"
   ]
  },
  {
   "cell_type": "code",
   "execution_count": null,
   "id": "21eb3704",
   "metadata": {},
   "outputs": [],
   "source": []
  },
  {
   "cell_type": "code",
   "execution_count": null,
   "id": "137308d3",
   "metadata": {},
   "outputs": [],
   "source": []
  },
  {
   "cell_type": "code",
   "execution_count": null,
   "id": "c19fd2ee",
   "metadata": {},
   "outputs": [],
   "source": []
  },
  {
   "cell_type": "markdown",
   "id": "0a225297",
   "metadata": {},
   "source": [
    "# Keywords"
   ]
  },
  {
   "cell_type": "markdown",
   "id": "130364a6",
   "metadata": {},
   "source": [
    "##### Defination : keyswords are the system reserved words which can be used by user and can not be re-declared by user\n",
    "\n",
    " There are around 35 reserved keywords"
   ]
  },
  {
   "cell_type": "markdown",
   "id": "c59b9a0b",
   "metadata": {},
   "source": [
    "##### False', 'None', 'True', 'peg_parser', 'and', 'as', 'assert', 'async', 'await', 'break', 'class', 'continue', 'def', 'del', 'elif', 'else', 'except', 'finally', 'for', 'from', 'global', 'if', 'import', 'in', 'is', 'lambda', 'nonlocal', 'not', 'or', 'pass', 'raise', 'return', 'try', 'while', 'with', 'yield'"
   ]
  },
  {
   "cell_type": "markdown",
   "id": "5cee2d6a",
   "metadata": {},
   "source": [
    "we can see these Keywords by using code in python \n",
    "     Import keyword,print(keyword.kwlist)"
   ]
  },
  {
   "cell_type": "code",
   "execution_count": 2,
   "id": "d997eaa2",
   "metadata": {},
   "outputs": [
    {
     "name": "stdout",
     "output_type": "stream",
     "text": [
      "['False', 'None', 'True', 'and', 'as', 'assert', 'async', 'await', 'break', 'class', 'continue', 'def', 'del', 'elif', 'else', 'except', 'finally', 'for', 'from', 'global', 'if', 'import', 'in', 'is', 'lambda', 'nonlocal', 'not', 'or', 'pass', 'raise', 'return', 'try', 'while', 'with', 'yield']\n",
      "..........................................................................................\n",
      "35\n"
     ]
    }
   ],
   "source": [
    "import keyword\n",
    "print(keyword.kwlist)\n",
    "print(\".\"*90)\n",
    "print(len(keyword.kwlist))"
   ]
  },
  {
   "cell_type": "code",
   "execution_count": null,
   "id": "ffdf4de5",
   "metadata": {},
   "outputs": [],
   "source": []
  },
  {
   "cell_type": "code",
   "execution_count": null,
   "id": "e6e123c4",
   "metadata": {},
   "outputs": [],
   "source": []
  },
  {
   "cell_type": "code",
   "execution_count": null,
   "id": "4adf3ffe",
   "metadata": {},
   "outputs": [],
   "source": []
  },
  {
   "cell_type": "code",
   "execution_count": null,
   "id": "812de454",
   "metadata": {},
   "outputs": [],
   "source": []
  },
  {
   "cell_type": "code",
   "execution_count": null,
   "id": "ff4fdcdc",
   "metadata": {},
   "outputs": [],
   "source": []
  },
  {
   "cell_type": "code",
   "execution_count": null,
   "id": "4e25b081",
   "metadata": {},
   "outputs": [],
   "source": []
  },
  {
   "cell_type": "code",
   "execution_count": 3,
   "id": "06a4f7c1",
   "metadata": {
    "scrolled": true
   },
   "outputs": [
    {
     "name": "stdout",
     "output_type": "stream",
     "text": [
      "Hello world\n",
      "weelcome to my channel\n"
     ]
    }
   ],
   "source": [
    "print(\"Hello world\")\n",
    "print(\"weelcome to my channel\")"
   ]
  },
  {
   "cell_type": "code",
   "execution_count": 8,
   "id": "a1dea373",
   "metadata": {},
   "outputs": [
    {
     "name": "stdout",
     "output_type": "stream",
     "text": [
      "hello\n"
     ]
    }
   ],
   "source": [
    "# single line and multiline comment\n",
    "'''\n",
    "welcome to my youtube\n",
    "\n",
    "'''\n",
    "\n",
    "print(\"hello\")"
   ]
  },
  {
   "cell_type": "code",
   "execution_count": 11,
   "id": "c79fd7aa",
   "metadata": {},
   "outputs": [
    {
     "name": "stdout",
     "output_type": "stream",
     "text": [
      "10\n"
     ]
    }
   ],
   "source": [
    "#variable declaration\n",
    "a =10\n",
    "print (a)"
   ]
  },
  {
   "cell_type": "code",
   "execution_count": 10,
   "id": "9c32b585",
   "metadata": {},
   "outputs": [
    {
     "name": "stdout",
     "output_type": "stream",
     "text": [
      "10\n"
     ]
    }
   ],
   "source": [
    "print(a)"
   ]
  },
  {
   "cell_type": "code",
   "execution_count": 6,
   "id": "8a2b339c",
   "metadata": {},
   "outputs": [
    {
     "name": "stdout",
     "output_type": "stream",
     "text": [
      "<class 'int'>\n"
     ]
    }
   ],
   "source": [
    "print(type(a))"
   ]
  },
  {
   "cell_type": "code",
   "execution_count": 12,
   "id": "7e0a20f0",
   "metadata": {},
   "outputs": [],
   "source": [
    "tenth=10\n",
    "b=40\n",
    "c=\"krish\"\n"
   ]
  },
  {
   "cell_type": "code",
   "execution_count": 13,
   "id": "1502f8e5",
   "metadata": {},
   "outputs": [
    {
     "data": {
      "text/plain": [
       "str"
      ]
     },
     "execution_count": 13,
     "metadata": {},
     "output_type": "execute_result"
    }
   ],
   "source": [
    "type(c)"
   ]
  },
  {
   "cell_type": "code",
   "execution_count": 14,
   "id": "0c505eb0",
   "metadata": {},
   "outputs": [],
   "source": [
    "a1=10"
   ]
  },
  {
   "cell_type": "code",
   "execution_count": 15,
   "id": "06cea0e0",
   "metadata": {},
   "outputs": [
    {
     "name": "stdout",
     "output_type": "stream",
     "text": [
      "krish\n"
     ]
    }
   ],
   "source": [
    "first_name='krish'\n",
    "print(first_name)"
   ]
  },
  {
   "cell_type": "code",
   "execution_count": 16,
   "id": "d808b4c0",
   "metadata": {},
   "outputs": [
    {
     "data": {
      "text/plain": [
       "int"
      ]
     },
     "execution_count": 16,
     "metadata": {},
     "output_type": "execute_result"
    }
   ],
   "source": [
    "# integer\n",
    "a =10\n",
    "type(a)"
   ]
  },
  {
   "cell_type": "code",
   "execution_count": 17,
   "id": "49cdebcf",
   "metadata": {},
   "outputs": [
    {
     "data": {
      "text/plain": [
       "20"
      ]
     },
     "execution_count": 17,
     "metadata": {},
     "output_type": "execute_result"
    }
   ],
   "source": [
    "a+10"
   ]
  },
  {
   "cell_type": "code",
   "execution_count": 18,
   "id": "a5c2b627",
   "metadata": {},
   "outputs": [
    {
     "data": {
      "text/plain": [
       "100"
      ]
     },
     "execution_count": 18,
     "metadata": {},
     "output_type": "execute_result"
    }
   ],
   "source": [
    "a*10"
   ]
  },
  {
   "cell_type": "code",
   "execution_count": 20,
   "id": "e5abd3b7",
   "metadata": {},
   "outputs": [
    {
     "data": {
      "text/plain": [
       "1"
      ]
     },
     "execution_count": 20,
     "metadata": {},
     "output_type": "execute_result"
    }
   ],
   "source": [
    "a-9"
   ]
  },
  {
   "cell_type": "code",
   "execution_count": 22,
   "id": "a882071e",
   "metadata": {},
   "outputs": [
    {
     "data": {
      "text/plain": [
       "0"
      ]
     },
     "execution_count": 22,
     "metadata": {},
     "output_type": "execute_result"
    }
   ],
   "source": [
    "a%10"
   ]
  },
  {
   "cell_type": "code",
   "execution_count": 23,
   "id": "1248718d",
   "metadata": {},
   "outputs": [
    {
     "name": "stdout",
     "output_type": "stream",
     "text": [
      "<class 'int'>\n"
     ]
    }
   ],
   "source": [
    "print(type(a))"
   ]
  },
  {
   "cell_type": "code",
   "execution_count": 26,
   "id": "7e0e382d",
   "metadata": {},
   "outputs": [
    {
     "name": "stdout",
     "output_type": "stream",
     "text": [
      "30\n"
     ]
    }
   ],
   "source": [
    "a=10\n",
    "b=20\n",
    "\n",
    "print(a+b)"
   ]
  },
  {
   "cell_type": "code",
   "execution_count": 25,
   "id": "103ab5d6",
   "metadata": {},
   "outputs": [
    {
     "data": {
      "text/plain": [
       "1.0"
      ]
     },
     "execution_count": 25,
     "metadata": {},
     "output_type": "execute_result"
    }
   ],
   "source": [
    "a/10"
   ]
  },
  {
   "cell_type": "code",
   "execution_count": 27,
   "id": "3454dce4",
   "metadata": {},
   "outputs": [
    {
     "data": {
      "text/plain": [
       "190.5"
      ]
     },
     "execution_count": 27,
     "metadata": {},
     "output_type": "execute_result"
    }
   ],
   "source": [
    "# floting\n",
    "\n",
    "a = 190.5\n",
    "a"
   ]
  },
  {
   "cell_type": "code",
   "execution_count": 28,
   "id": "6eb754e3",
   "metadata": {},
   "outputs": [
    {
     "name": "stdout",
     "output_type": "stream",
     "text": [
      "<class 'float'>\n"
     ]
    }
   ],
   "source": [
    "print(type(a))"
   ]
  },
  {
   "cell_type": "code",
   "execution_count": 29,
   "id": "0483d491",
   "metadata": {},
   "outputs": [
    {
     "data": {
      "text/plain": [
       "20.0"
      ]
     },
     "execution_count": 29,
     "metadata": {},
     "output_type": "execute_result"
    }
   ],
   "source": [
    "float(b)"
   ]
  },
  {
   "cell_type": "code",
   "execution_count": 33,
   "id": "7d382380",
   "metadata": {},
   "outputs": [],
   "source": [
    "##  boolean\n",
    "\n",
    "a1=True\n",
    "b1=False"
   ]
  },
  {
   "cell_type": "code",
   "execution_count": 34,
   "id": "63485b5f",
   "metadata": {},
   "outputs": [
    {
     "data": {
      "text/plain": [
       "bool"
      ]
     },
     "execution_count": 34,
     "metadata": {},
     "output_type": "execute_result"
    }
   ],
   "source": [
    "type(a1)"
   ]
  },
  {
   "cell_type": "code",
   "execution_count": 35,
   "id": "759d1e2e",
   "metadata": {},
   "outputs": [
    {
     "data": {
      "text/plain": [
       "True"
      ]
     },
     "execution_count": 35,
     "metadata": {},
     "output_type": "execute_result"
    }
   ],
   "source": [
    "a1 | b1"
   ]
  },
  {
   "cell_type": "code",
   "execution_count": 36,
   "id": "9c1bfe85",
   "metadata": {},
   "outputs": [
    {
     "name": "stdout",
     "output_type": "stream",
     "text": [
      "krish\n",
      "<class 'str'>\n"
     ]
    }
   ],
   "source": [
    "# string\n",
    "\n",
    "name1='krish'\n",
    "\n",
    "print(name1)\n",
    "print(type(name1))"
   ]
  },
  {
   "cell_type": "code",
   "execution_count": 38,
   "id": "81450be2",
   "metadata": {},
   "outputs": [
    {
     "data": {
      "text/plain": [
       "'krishnaik'"
      ]
     },
     "execution_count": 38,
     "metadata": {},
     "output_type": "execute_result"
    }
   ],
   "source": [
    "name1+ \"naik\""
   ]
  },
  {
   "cell_type": "code",
   "execution_count": 41,
   "id": "5dfd7c07",
   "metadata": {},
   "outputs": [
    {
     "data": {
      "text/plain": [
       "'krish1'"
      ]
     },
     "execution_count": 41,
     "metadata": {},
     "output_type": "execute_result"
    }
   ],
   "source": [
    "name1 + str(1)"
   ]
  },
  {
   "cell_type": "code",
   "execution_count": 42,
   "id": "1cd4503d",
   "metadata": {},
   "outputs": [
    {
     "data": {
      "text/plain": [
       "(1-2.3j)"
      ]
     },
     "execution_count": 42,
     "metadata": {},
     "output_type": "execute_result"
    }
   ],
   "source": [
    "# complex number\n",
    "j=1.0-2.3j\n",
    "j"
   ]
  },
  {
   "cell_type": "code",
   "execution_count": 44,
   "id": "6ac56ec5",
   "metadata": {},
   "outputs": [
    {
     "name": "stdout",
     "output_type": "stream",
     "text": [
      "(1-2.3j)\n",
      "<class 'complex'>\n"
     ]
    }
   ],
   "source": [
    "print(j)\n",
    "print(type(j))"
   ]
  },
  {
   "cell_type": "code",
   "execution_count": 45,
   "id": "b50494d3",
   "metadata": {},
   "outputs": [
    {
     "name": "stdout",
     "output_type": "stream",
     "text": [
      "1.0 -2.3\n"
     ]
    }
   ],
   "source": [
    "print(j.real,j.imag)"
   ]
  },
  {
   "cell_type": "code",
   "execution_count": null,
   "id": "b9f9fe1f",
   "metadata": {},
   "outputs": [],
   "source": [
    "# Dynamic typing\n",
    "a=10\n",
    "a='krish'"
   ]
  },
  {
   "cell_type": "code",
   "execution_count": 47,
   "id": "251c957d",
   "metadata": {},
   "outputs": [],
   "source": [
    "# strong typing\n",
    "a = 'KRish'"
   ]
  },
  {
   "cell_type": "code",
   "execution_count": 48,
   "id": "60e7c511",
   "metadata": {},
   "outputs": [
    {
     "data": {
      "text/plain": [
       "'KRish1'"
      ]
     },
     "execution_count": 48,
     "metadata": {},
     "output_type": "execute_result"
    }
   ],
   "source": [
    "a+ \"1\""
   ]
  },
  {
   "cell_type": "code",
   "execution_count": 49,
   "id": "332b694b",
   "metadata": {},
   "outputs": [
    {
     "data": {
      "text/plain": [
       "'KRish1'"
      ]
     },
     "execution_count": 49,
     "metadata": {},
     "output_type": "execute_result"
    }
   ],
   "source": [
    "a+ str(1)"
   ]
  },
  {
   "cell_type": "code",
   "execution_count": 50,
   "id": "f949164b",
   "metadata": {},
   "outputs": [
    {
     "name": "stdout",
     "output_type": "stream",
     "text": [
      "The value is - 100\n"
     ]
    }
   ],
   "source": [
    "# string formating\n",
    "\n",
    "a=100\n",
    "print(\"The value is -\",a)"
   ]
  },
  {
   "cell_type": "code",
   "execution_count": 3,
   "id": "88701e67",
   "metadata": {},
   "outputs": [
    {
     "name": "stdout",
     "output_type": "stream",
     "text": [
      "The first name is krish and last name is naik\n"
     ]
    }
   ],
   "source": [
    "first_name = \"krish\"\n",
    "last_name = \"naik\"\n",
    "print(\"The first name is {} and last name is {}\".format(first_name,last_name))"
   ]
  },
  {
   "cell_type": "code",
   "execution_count": null,
   "id": "4cacaaf3",
   "metadata": {},
   "outputs": [],
   "source": []
  },
  {
   "cell_type": "code",
   "execution_count": null,
   "id": "efad23e9",
   "metadata": {},
   "outputs": [],
   "source": []
  },
  {
   "cell_type": "code",
   "execution_count": null,
   "id": "3277dc16",
   "metadata": {},
   "outputs": [],
   "source": []
  },
  {
   "cell_type": "code",
   "execution_count": null,
   "id": "ea150f80",
   "metadata": {},
   "outputs": [],
   "source": []
  },
  {
   "cell_type": "code",
   "execution_count": null,
   "id": "7b0dbffa",
   "metadata": {},
   "outputs": [],
   "source": []
  },
  {
   "cell_type": "code",
   "execution_count": null,
   "id": "1b39dc53",
   "metadata": {},
   "outputs": [],
   "source": []
  },
  {
   "cell_type": "code",
   "execution_count": null,
   "id": "23462b35",
   "metadata": {},
   "outputs": [],
   "source": []
  },
  {
   "cell_type": "code",
   "execution_count": null,
   "id": "6c1eaafe",
   "metadata": {},
   "outputs": [],
   "source": []
  },
  {
   "cell_type": "code",
   "execution_count": null,
   "id": "72b272d1",
   "metadata": {},
   "outputs": [],
   "source": []
  },
  {
   "cell_type": "code",
   "execution_count": null,
   "id": "edd04687",
   "metadata": {},
   "outputs": [],
   "source": []
  },
  {
   "cell_type": "code",
   "execution_count": null,
   "id": "0c17e334",
   "metadata": {},
   "outputs": [],
   "source": []
  }
 ],
 "metadata": {
  "kernelspec": {
   "display_name": "Python 3 (ipykernel)",
   "language": "python",
   "name": "python3"
  },
  "language_info": {
   "codemirror_mode": {
    "name": "ipython",
    "version": 3
   },
   "file_extension": ".py",
   "mimetype": "text/x-python",
   "name": "python",
   "nbconvert_exporter": "python",
   "pygments_lexer": "ipython3",
   "version": "3.11.2"
  }
 },
 "nbformat": 4,
 "nbformat_minor": 5
}
