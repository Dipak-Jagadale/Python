{
 "cells": [
  {
   "cell_type": "markdown",
   "id": "3cb2e82e",
   "metadata": {},
   "source": [
    "# PYTHON End to end coding "
   ]
  },
  {
   "cell_type": "code",
   "execution_count": 1,
   "id": "f3032545",
   "metadata": {
    "scrolled": true
   },
   "outputs": [
    {
     "name": "stdout",
     "output_type": "stream",
     "text": [
      "The Zen of Python, by Tim Peters\n",
      "\n",
      "Beautiful is better than ugly.\n",
      "Explicit is better than implicit.\n",
      "Simple is better than complex.\n",
      "Complex is better than complicated.\n",
      "Flat is better than nested.\n",
      "Sparse is better than dense.\n",
      "Readability counts.\n",
      "Special cases aren't special enough to break the rules.\n",
      "Although practicality beats purity.\n",
      "Errors should never pass silently.\n",
      "Unless explicitly silenced.\n",
      "In the face of ambiguity, refuse the temptation to guess.\n",
      "There should be one-- and preferably only one --obvious way to do it.\n",
      "Although that way may not be obvious at first unless you're Dutch.\n",
      "Now is better than never.\n",
      "Although never is often better than *right* now.\n",
      "If the implementation is hard to explain, it's a bad idea.\n",
      "If the implementation is easy to explain, it may be a good idea.\n",
      "Namespaces are one honking great idea -- let's do more of those!\n"
     ]
    }
   ],
   "source": [
    "import this"
   ]
  },
  {
   "cell_type": "code",
   "execution_count": null,
   "id": "f9ffcc3e",
   "metadata": {},
   "outputs": [],
   "source": [
    "\"Pythonचं ध्यान, टिम पीटर्स यांचं\n",
    "\n",
    "सुंदर शेपटी अशा होणारं श्रेयस्कर\n",
    "स्पष्ट असलेलं, निहित अनुमानांपेक्षा श्रेयस्कर\n",
    "साधा, कितीतरी सांगितलं असलं अशा कितीतरी जटिल असलेलं श्रेयस्कर\n",
    "जटिल, कितीतरी संकटस्पद असलेलं अशा कितीतरी संकटस्पद असलेलं श्रेयस्कर\n",
    "समतल, एकतर अंतर्जालात असलं अशा कितीतरी घन असलेलं श्रेयस्कर\n",
    "विरासत, जलद असल्याचं महत्त्व असं कितीतरी स्पष्टपणे म्हणणे घेतंय.\n",
    "विशेष प्रकारे नियमे तोडण्यासाठी प्रत्यक्षतेचं शक्ती असू नये.\n",
    "परंतु व्यावसायिकतेने पवित्रतेला मान्यता असल्याने.\n",
    "चुका नेहमीचे चुकून जाणार नाही.\n",
    "परंतु प्रत्यक्षपणे चुकून जाणार असल्यास, ते उत्तम विचारलं जातं.\n",
    "नामस्थान, एक महान विचार आहे - आम्ही अधिक करूया.\""
   ]
  },
  {
   "cell_type": "code",
   "execution_count": 3,
   "id": "06a4f7c1",
   "metadata": {},
   "outputs": [
    {
     "name": "stdout",
     "output_type": "stream",
     "text": [
      "Hello world\n",
      "weelcome to my channel\n"
     ]
    }
   ],
   "source": [
    "print(\"Hello world\")\n",
    "print(\"weelcome to my channel\")"
   ]
  },
  {
   "cell_type": "code",
   "execution_count": 8,
   "id": "a1dea373",
   "metadata": {},
   "outputs": [
    {
     "name": "stdout",
     "output_type": "stream",
     "text": [
      "hello\n"
     ]
    }
   ],
   "source": [
    "# single line and multiline comment\n",
    "'''\n",
    "welcome to my youtube\n",
    "\n",
    "'''\n",
    "\n",
    "print(\"hello\")"
   ]
  },
  {
   "cell_type": "code",
   "execution_count": 11,
   "id": "c79fd7aa",
   "metadata": {},
   "outputs": [
    {
     "name": "stdout",
     "output_type": "stream",
     "text": [
      "10\n"
     ]
    }
   ],
   "source": [
    "#variable declaration\n",
    "a =10\n",
    "print (a)"
   ]
  },
  {
   "cell_type": "code",
   "execution_count": 10,
   "id": "9c32b585",
   "metadata": {},
   "outputs": [
    {
     "name": "stdout",
     "output_type": "stream",
     "text": [
      "10\n"
     ]
    }
   ],
   "source": [
    "print(a)"
   ]
  },
  {
   "cell_type": "code",
   "execution_count": 6,
   "id": "8a2b339c",
   "metadata": {},
   "outputs": [
    {
     "name": "stdout",
     "output_type": "stream",
     "text": [
      "<class 'int'>\n"
     ]
    }
   ],
   "source": [
    "print(type(a))"
   ]
  },
  {
   "cell_type": "code",
   "execution_count": 12,
   "id": "7e0a20f0",
   "metadata": {},
   "outputs": [],
   "source": [
    "tenth=10\n",
    "b=40\n",
    "c=\"krish\"\n"
   ]
  },
  {
   "cell_type": "code",
   "execution_count": 13,
   "id": "1502f8e5",
   "metadata": {},
   "outputs": [
    {
     "data": {
      "text/plain": [
       "str"
      ]
     },
     "execution_count": 13,
     "metadata": {},
     "output_type": "execute_result"
    }
   ],
   "source": [
    "type(c)"
   ]
  },
  {
   "cell_type": "code",
   "execution_count": 14,
   "id": "0c505eb0",
   "metadata": {},
   "outputs": [],
   "source": [
    "a1=10"
   ]
  },
  {
   "cell_type": "code",
   "execution_count": 15,
   "id": "06cea0e0",
   "metadata": {},
   "outputs": [
    {
     "name": "stdout",
     "output_type": "stream",
     "text": [
      "krish\n"
     ]
    }
   ],
   "source": [
    "first_name='krish'\n",
    "print(first_name)"
   ]
  },
  {
   "cell_type": "code",
   "execution_count": 16,
   "id": "d808b4c0",
   "metadata": {},
   "outputs": [
    {
     "data": {
      "text/plain": [
       "int"
      ]
     },
     "execution_count": 16,
     "metadata": {},
     "output_type": "execute_result"
    }
   ],
   "source": [
    "# integer\n",
    "a =10\n",
    "type(a)"
   ]
  },
  {
   "cell_type": "code",
   "execution_count": 17,
   "id": "49cdebcf",
   "metadata": {},
   "outputs": [
    {
     "data": {
      "text/plain": [
       "20"
      ]
     },
     "execution_count": 17,
     "metadata": {},
     "output_type": "execute_result"
    }
   ],
   "source": [
    "a+10"
   ]
  },
  {
   "cell_type": "code",
   "execution_count": 18,
   "id": "a5c2b627",
   "metadata": {},
   "outputs": [
    {
     "data": {
      "text/plain": [
       "100"
      ]
     },
     "execution_count": 18,
     "metadata": {},
     "output_type": "execute_result"
    }
   ],
   "source": [
    "a*10"
   ]
  },
  {
   "cell_type": "code",
   "execution_count": 20,
   "id": "e5abd3b7",
   "metadata": {},
   "outputs": [
    {
     "data": {
      "text/plain": [
       "1"
      ]
     },
     "execution_count": 20,
     "metadata": {},
     "output_type": "execute_result"
    }
   ],
   "source": [
    "a-9"
   ]
  },
  {
   "cell_type": "code",
   "execution_count": 22,
   "id": "a882071e",
   "metadata": {},
   "outputs": [
    {
     "data": {
      "text/plain": [
       "0"
      ]
     },
     "execution_count": 22,
     "metadata": {},
     "output_type": "execute_result"
    }
   ],
   "source": [
    "a%10"
   ]
  },
  {
   "cell_type": "code",
   "execution_count": 23,
   "id": "1248718d",
   "metadata": {},
   "outputs": [
    {
     "name": "stdout",
     "output_type": "stream",
     "text": [
      "<class 'int'>\n"
     ]
    }
   ],
   "source": [
    "print(type(a))"
   ]
  },
  {
   "cell_type": "code",
   "execution_count": 26,
   "id": "7e0e382d",
   "metadata": {},
   "outputs": [
    {
     "name": "stdout",
     "output_type": "stream",
     "text": [
      "30\n"
     ]
    }
   ],
   "source": [
    "a=10\n",
    "b=20\n",
    "\n",
    "print(a+b)"
   ]
  },
  {
   "cell_type": "code",
   "execution_count": 25,
   "id": "103ab5d6",
   "metadata": {},
   "outputs": [
    {
     "data": {
      "text/plain": [
       "1.0"
      ]
     },
     "execution_count": 25,
     "metadata": {},
     "output_type": "execute_result"
    }
   ],
   "source": [
    "a/10"
   ]
  },
  {
   "cell_type": "code",
   "execution_count": 27,
   "id": "3454dce4",
   "metadata": {},
   "outputs": [
    {
     "data": {
      "text/plain": [
       "190.5"
      ]
     },
     "execution_count": 27,
     "metadata": {},
     "output_type": "execute_result"
    }
   ],
   "source": [
    "# floting\n",
    "\n",
    "a = 190.5\n",
    "a"
   ]
  },
  {
   "cell_type": "code",
   "execution_count": 28,
   "id": "6eb754e3",
   "metadata": {},
   "outputs": [
    {
     "name": "stdout",
     "output_type": "stream",
     "text": [
      "<class 'float'>\n"
     ]
    }
   ],
   "source": [
    "print(type(a))"
   ]
  },
  {
   "cell_type": "code",
   "execution_count": 29,
   "id": "0483d491",
   "metadata": {},
   "outputs": [
    {
     "data": {
      "text/plain": [
       "20.0"
      ]
     },
     "execution_count": 29,
     "metadata": {},
     "output_type": "execute_result"
    }
   ],
   "source": [
    "float(b)"
   ]
  },
  {
   "cell_type": "code",
   "execution_count": 33,
   "id": "7d382380",
   "metadata": {},
   "outputs": [],
   "source": [
    "##  boolean\n",
    "\n",
    "a1=True\n",
    "b1=False"
   ]
  },
  {
   "cell_type": "code",
   "execution_count": 34,
   "id": "63485b5f",
   "metadata": {},
   "outputs": [
    {
     "data": {
      "text/plain": [
       "bool"
      ]
     },
     "execution_count": 34,
     "metadata": {},
     "output_type": "execute_result"
    }
   ],
   "source": [
    "type(a1)"
   ]
  },
  {
   "cell_type": "code",
   "execution_count": 35,
   "id": "759d1e2e",
   "metadata": {},
   "outputs": [
    {
     "data": {
      "text/plain": [
       "True"
      ]
     },
     "execution_count": 35,
     "metadata": {},
     "output_type": "execute_result"
    }
   ],
   "source": [
    "a1 | b1"
   ]
  },
  {
   "cell_type": "code",
   "execution_count": 36,
   "id": "9c1bfe85",
   "metadata": {},
   "outputs": [
    {
     "name": "stdout",
     "output_type": "stream",
     "text": [
      "krish\n",
      "<class 'str'>\n"
     ]
    }
   ],
   "source": [
    "# string\n",
    "\n",
    "name1='krish'\n",
    "\n",
    "print(name1)\n",
    "print(type(name1))"
   ]
  },
  {
   "cell_type": "code",
   "execution_count": 38,
   "id": "81450be2",
   "metadata": {},
   "outputs": [
    {
     "data": {
      "text/plain": [
       "'krishnaik'"
      ]
     },
     "execution_count": 38,
     "metadata": {},
     "output_type": "execute_result"
    }
   ],
   "source": [
    "name1+ \"naik\""
   ]
  },
  {
   "cell_type": "code",
   "execution_count": 41,
   "id": "5dfd7c07",
   "metadata": {},
   "outputs": [
    {
     "data": {
      "text/plain": [
       "'krish1'"
      ]
     },
     "execution_count": 41,
     "metadata": {},
     "output_type": "execute_result"
    }
   ],
   "source": [
    "name1 + str(1)"
   ]
  },
  {
   "cell_type": "code",
   "execution_count": 42,
   "id": "1cd4503d",
   "metadata": {},
   "outputs": [
    {
     "data": {
      "text/plain": [
       "(1-2.3j)"
      ]
     },
     "execution_count": 42,
     "metadata": {},
     "output_type": "execute_result"
    }
   ],
   "source": [
    "# complex number\n",
    "j=1.0-2.3j\n",
    "j"
   ]
  },
  {
   "cell_type": "code",
   "execution_count": 44,
   "id": "6ac56ec5",
   "metadata": {},
   "outputs": [
    {
     "name": "stdout",
     "output_type": "stream",
     "text": [
      "(1-2.3j)\n",
      "<class 'complex'>\n"
     ]
    }
   ],
   "source": [
    "print(j)\n",
    "print(type(j))"
   ]
  },
  {
   "cell_type": "code",
   "execution_count": 45,
   "id": "b50494d3",
   "metadata": {},
   "outputs": [
    {
     "name": "stdout",
     "output_type": "stream",
     "text": [
      "1.0 -2.3\n"
     ]
    }
   ],
   "source": [
    "print(j.real,j.imag)"
   ]
  },
  {
   "cell_type": "code",
   "execution_count": null,
   "id": "b9f9fe1f",
   "metadata": {},
   "outputs": [],
   "source": [
    "# Dynamic typing\n",
    "a=10\n",
    "a='krish'"
   ]
  },
  {
   "cell_type": "code",
   "execution_count": 47,
   "id": "251c957d",
   "metadata": {},
   "outputs": [],
   "source": [
    "# strong typing\n",
    "a = 'KRish'"
   ]
  },
  {
   "cell_type": "code",
   "execution_count": 48,
   "id": "60e7c511",
   "metadata": {},
   "outputs": [
    {
     "data": {
      "text/plain": [
       "'KRish1'"
      ]
     },
     "execution_count": 48,
     "metadata": {},
     "output_type": "execute_result"
    }
   ],
   "source": [
    "a+ \"1\""
   ]
  },
  {
   "cell_type": "code",
   "execution_count": 49,
   "id": "332b694b",
   "metadata": {},
   "outputs": [
    {
     "data": {
      "text/plain": [
       "'KRish1'"
      ]
     },
     "execution_count": 49,
     "metadata": {},
     "output_type": "execute_result"
    }
   ],
   "source": [
    "a+ str(1)"
   ]
  },
  {
   "cell_type": "code",
   "execution_count": 50,
   "id": "f949164b",
   "metadata": {},
   "outputs": [
    {
     "name": "stdout",
     "output_type": "stream",
     "text": [
      "The value is - 100\n"
     ]
    }
   ],
   "source": [
    "# string formating\n",
    "\n",
    "a=100\n",
    "print(\"The value is -\",a)"
   ]
  },
  {
   "cell_type": "code",
   "execution_count": 55,
   "id": "88701e67",
   "metadata": {},
   "outputs": [
    {
     "ename": "ValueError",
     "evalue": "Invalid format specifier 'naik' for object of type 'str'",
     "output_type": "error",
     "traceback": [
      "\u001b[1;31m---------------------------------------------------------------------------\u001b[0m",
      "\u001b[1;31mValueError\u001b[0m                                Traceback (most recent call last)",
      "Cell \u001b[1;32mIn [55], line 3\u001b[0m\n\u001b[0;32m      1\u001b[0m first_name \u001b[38;5;241m=\u001b[39m \u001b[38;5;124m\"\u001b[39m\u001b[38;5;124mkrish\u001b[39m\u001b[38;5;124m\"\u001b[39m\n\u001b[0;32m      2\u001b[0m last_name \u001b[38;5;241m=\u001b[39m \u001b[38;5;124m\"\u001b[39m\u001b[38;5;124mnaik\u001b[39m\u001b[38;5;124m\"\u001b[39m\n\u001b[1;32m----> 3\u001b[0m \u001b[38;5;28mprint\u001b[39m(\u001b[38;5;124m\"\u001b[39m\u001b[38;5;124mThe first name is \u001b[39m\u001b[38;5;132;01m{}\u001b[39;00m\u001b[38;5;124m and last name is \u001b[39m\u001b[38;5;132;01m{}\u001b[39;00m\u001b[38;5;124m\"\u001b[39m,\u001b[38;5;28;43mformat\u001b[39;49m\u001b[43m(\u001b[49m\u001b[43mfirst_name\u001b[49m\u001b[43m,\u001b[49m\u001b[43mlast_name\u001b[49m\u001b[43m)\u001b[49m)\n",
      "\u001b[1;31mValueError\u001b[0m: Invalid format specifier 'naik' for object of type 'str'"
     ]
    }
   ],
   "source": [
    "first_name = \"krish\"\n",
    "last_name = \"naik\"\n",
    "print(\"The first name is {} and last name is {}\",format(first_name,last_name))"
   ]
  },
  {
   "cell_type": "code",
   "execution_count": null,
   "id": "4cacaaf3",
   "metadata": {},
   "outputs": [],
   "source": []
  },
  {
   "cell_type": "code",
   "execution_count": null,
   "id": "72b272d1",
   "metadata": {},
   "outputs": [],
   "source": []
  },
  {
   "cell_type": "code",
   "execution_count": null,
   "id": "edd04687",
   "metadata": {},
   "outputs": [],
   "source": []
  },
  {
   "cell_type": "code",
   "execution_count": null,
   "id": "0c17e334",
   "metadata": {},
   "outputs": [],
   "source": []
  }
 ],
 "metadata": {
  "kernelspec": {
   "display_name": "Python 3 (ipykernel)",
   "language": "python",
   "name": "python3"
  },
  "language_info": {
   "codemirror_mode": {
    "name": "ipython",
    "version": 3
   },
   "file_extension": ".py",
   "mimetype": "text/x-python",
   "name": "python",
   "nbconvert_exporter": "python",
   "pygments_lexer": "ipython3",
   "version": "3.11.2"
  }
 },
 "nbformat": 4,
 "nbformat_minor": 5
}
