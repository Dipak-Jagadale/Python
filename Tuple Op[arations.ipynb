{
 "cells": [
  {
   "cell_type": "markdown",
   "id": "2e7bdfcc",
   "metadata": {},
   "source": [
    "### Tuple Oprations\n"
   ]
  },
  {
   "cell_type": "code",
   "execution_count": 1,
   "id": "01a0c030",
   "metadata": {},
   "outputs": [
    {
     "name": "stdout",
     "output_type": "stream",
     "text": [
      "(1, 2, 3, 4, 5, 6)\n"
     ]
    }
   ],
   "source": [
    "tup = (1,2,3,4,5,6)\n",
    "print(tup)"
   ]
  },
  {
   "cell_type": "code",
   "execution_count": 2,
   "id": "ad418b5c",
   "metadata": {},
   "outputs": [
    {
     "data": {
      "text/plain": [
       "1"
      ]
     },
     "execution_count": 2,
     "metadata": {},
     "output_type": "execute_result"
    }
   ],
   "source": [
    "tup.count(5)"
   ]
  },
  {
   "cell_type": "code",
   "execution_count": 3,
   "id": "b382e3f5",
   "metadata": {},
   "outputs": [
    {
     "data": {
      "text/plain": [
       "2"
      ]
     },
     "execution_count": 3,
     "metadata": {},
     "output_type": "execute_result"
    }
   ],
   "source": [
    "tup.index(3)"
   ]
  },
  {
   "cell_type": "code",
   "execution_count": 6,
   "id": "ee21134a",
   "metadata": {},
   "outputs": [
    {
     "name": "stdout",
     "output_type": "stream",
     "text": [
      "(1, 2, 3, 4, 5, 6)\n",
      "<class 'tuple'>\n",
      "[1, 2, 3, 4, 5, 6]\n",
      "<class 'list'>\n"
     ]
    }
   ],
   "source": [
    "# i want add to in my tuple\n",
    "\n",
    "print(tup)\n",
    "print(type(tup))\n",
    "\n",
    "\n",
    "P_tup = list(tup)\n",
    "print(P_tup)\n",
    "print(type(P_tup))\n",
    "\n"
   ]
  },
  {
   "cell_type": "code",
   "execution_count": 10,
   "id": "58c26d18",
   "metadata": {},
   "outputs": [
    {
     "name": "stdout",
     "output_type": "stream",
     "text": [
      "[1, 2, 3, 4, 5, 6, 22, 22, 22, 22]\n"
     ]
    }
   ],
   "source": [
    "P_tup.append(22)\n",
    "print(P_tup)"
   ]
  },
  {
   "cell_type": "code",
   "execution_count": 15,
   "id": "c010be50",
   "metadata": {},
   "outputs": [
    {
     "name": "stdout",
     "output_type": "stream",
     "text": [
      "(1, 2, 3, 4, 5, 6, 22, 22, 22, 22)\n",
      "<class 'tuple'>\n"
     ]
    }
   ],
   "source": [
    "tup = tuple(P_tup)\n",
    "print(tup)\n",
    "print(type(tup))"
   ]
  },
  {
   "cell_type": "code",
   "execution_count": 16,
   "id": "036bdec4",
   "metadata": {},
   "outputs": [
    {
     "name": "stdout",
     "output_type": "stream",
     "text": [
      "(1, 2, 3, 4, 5, 6, 22, 22, 22, 22)\n"
     ]
    }
   ],
   "source": [
    "print(tup)\n"
   ]
  },
  {
   "cell_type": "code",
   "execution_count": 20,
   "id": "7afa85d8",
   "metadata": {},
   "outputs": [
    {
     "name": "stdout",
     "output_type": "stream",
     "text": [
      "[1, 2, 3, 4, 5, 6, 22, 22, 22, 22]\n"
     ]
    }
   ],
   "source": [
    "list1 = list(tup)\n",
    "print(list1)"
   ]
  },
  {
   "cell_type": "code",
   "execution_count": 33,
   "id": "b6af1ded",
   "metadata": {},
   "outputs": [
    {
     "name": "stdout",
     "output_type": "stream",
     "text": [
      "(1, 2, 3, 4, 5, 6, 22, 22, 22, 22, 21, 33, 44, 66, 77, 8)\n",
      "[1, 2, 3, 4, 5, 6, 22, 22, 22, 22, 21, 33, 44, 66, 77, 8]\n",
      "[1, 2, 3, 4, 5, 6, 22, 22, 22, 22, 21, 33, 44, 66, 77, 8, 21, 33, 44, 66, 77, 8]\n",
      "(1, 2, 3, 4, 5, 6, 22, 22, 22, 22, 21, 33, 44, 66, 77, 8, 21, 33, 44, 66, 77, 8)\n"
     ]
    }
   ],
   "source": [
    "print(tup)\n",
    "\n",
    "list1 = list(tup)\n",
    "print(list1)\n",
    "\n",
    "list1.extend([21,33,44,66,77,8])\n",
    "\n",
    "print(list1)\n",
    "\n",
    "tup = tuple(list1)\n",
    "print(tup)\n",
    "    "
   ]
  },
  {
   "cell_type": "code",
   "execution_count": 59,
   "id": "fb7f49b6",
   "metadata": {},
   "outputs": [
    {
     "name": "stdout",
     "output_type": "stream",
     "text": [
      "('apple', 'apple', 'banana', 'cherry', 'orenge', 'kiwi', 'mango')\n",
      "<class 'tuple'>\n",
      "['apple', 'apple', 'banana', 'cherry', 'orenge', 'kiwi', 'mango']\n",
      "<class 'list'>\n"
     ]
    },
    {
     "ename": "NameError",
     "evalue": "name 'insert' is not defined",
     "output_type": "error",
     "traceback": [
      "\u001b[1;31m---------------------------------------------------------------------------\u001b[0m",
      "\u001b[1;31mNameError\u001b[0m                                 Traceback (most recent call last)",
      "Cell \u001b[1;32mIn [59], line 9\u001b[0m\n\u001b[0;32m      6\u001b[0m \u001b[38;5;28mprint\u001b[39m(list2)\n\u001b[0;32m      7\u001b[0m \u001b[38;5;28mprint\u001b[39m(\u001b[38;5;28mtype\u001b[39m(list2))\n\u001b[1;32m----> 9\u001b[0m list3 \u001b[38;5;241m=\u001b[39m \u001b[43minsert\u001b[49m[\u001b[38;5;124m\"\u001b[39m\u001b[38;5;124m77\u001b[39m\u001b[38;5;124m\"\u001b[39m,\u001b[38;5;124m\"\u001b[39m\u001b[38;5;124m99\u001b[39m\u001b[38;5;124m\"\u001b[39m,\u001b[38;5;124m\"\u001b[39m\u001b[38;5;124m88\u001b[39m\u001b[38;5;124m\"\u001b[39m]\n\u001b[0;32m     10\u001b[0m \u001b[38;5;28mprint\u001b[39m(list3)\n",
      "\u001b[1;31mNameError\u001b[0m: name 'insert' is not defined"
     ]
    }
   ],
   "source": [
    "tup = (\"apple\",\"apple\", \"banana\",\"cherry\", \"orenge\", \"kiwi\", \"mango\")\n",
    "print(tup)\n",
    "print(type(tup))\n",
    "\n",
    "list2 = list(tup)\n",
    "print(list2)\n",
    "print(type(list2))\n",
    "\n",
    "list3 = insert[\"77\",\"99\",\"88\"]\n",
    "print(list3)\n",
    "\n"
   ]
  },
  {
   "cell_type": "code",
   "execution_count": 35,
   "id": "74226f69",
   "metadata": {},
   "outputs": [
    {
     "name": "stdout",
     "output_type": "stream",
     "text": [
      "(10.3, 29.4, 39.4, 99.9, 44.6, 3.5)\n"
     ]
    }
   ],
   "source": [
    "tup = (10.3, 29.4, 39.4,99.9, 44.6, 3.5)\n",
    "print(tup)"
   ]
  },
  {
   "cell_type": "code",
   "execution_count": 41,
   "id": "5410f503",
   "metadata": {},
   "outputs": [
    {
     "name": "stdout",
     "output_type": "stream",
     "text": [
      "('apple', 'apple', 'banana', 'cherry', 'orenge', 'kiwi', 'mango')\n"
     ]
    }
   ],
   "source": [
    "print(tup)"
   ]
  },
  {
   "cell_type": "code",
   "execution_count": 43,
   "id": "13003a1c",
   "metadata": {},
   "outputs": [
    {
     "data": {
      "text/plain": [
       "'kiwi'"
      ]
     },
     "execution_count": 43,
     "metadata": {},
     "output_type": "execute_result"
    }
   ],
   "source": [
    "tup[5]"
   ]
  },
  {
   "cell_type": "code",
   "execution_count": 44,
   "id": "96f75a3c",
   "metadata": {},
   "outputs": [
    {
     "data": {
      "text/plain": [
       "('apple', 'apple', 'banana', 'cherry')"
      ]
     },
     "execution_count": 44,
     "metadata": {},
     "output_type": "execute_result"
    }
   ],
   "source": [
    "tup[0:4]"
   ]
  },
  {
   "cell_type": "code",
   "execution_count": 45,
   "id": "15195729",
   "metadata": {},
   "outputs": [
    {
     "data": {
      "text/plain": [
       "('apple', 'apple', 'banana', 'cherry', 'orenge', 'kiwi', 'mango')"
      ]
     },
     "execution_count": 45,
     "metadata": {},
     "output_type": "execute_result"
    }
   ],
   "source": [
    "tup[:7]"
   ]
  },
  {
   "cell_type": "code",
   "execution_count": 53,
   "id": "def005e9",
   "metadata": {},
   "outputs": [
    {
     "data": {
      "text/plain": [
       "7"
      ]
     },
     "execution_count": 53,
     "metadata": {},
     "output_type": "execute_result"
    }
   ],
   "source": [
    "len(tup[-7:])"
   ]
  },
  {
   "cell_type": "code",
   "execution_count": 55,
   "id": "611c2c3a",
   "metadata": {},
   "outputs": [
    {
     "data": {
      "text/plain": [
       "'mango'"
      ]
     },
     "execution_count": 55,
     "metadata": {},
     "output_type": "execute_result"
    }
   ],
   "source": [
    "tup[6]"
   ]
  },
  {
   "cell_type": "code",
   "execution_count": 56,
   "id": "54ebf918",
   "metadata": {},
   "outputs": [
    {
     "name": "stdout",
     "output_type": "stream",
     "text": [
      "('apple', 'apple', 'banana', 'cherry', 'orenge', 'kiwi', 'mango')\n"
     ]
    }
   ],
   "source": [
    "print(tup)\n"
   ]
  },
  {
   "cell_type": "code",
   "execution_count": null,
   "id": "4bcb4723",
   "metadata": {},
   "outputs": [],
   "source": []
  }
 ],
 "metadata": {
  "kernelspec": {
   "display_name": "Python 3 (ipykernel)",
   "language": "python",
   "name": "python3"
  },
  "language_info": {
   "codemirror_mode": {
    "name": "ipython",
    "version": 3
   },
   "file_extension": ".py",
   "mimetype": "text/x-python",
   "name": "python",
   "nbconvert_exporter": "python",
   "pygments_lexer": "ipython3",
   "version": "3.11.0"
  }
 },
 "nbformat": 4,
 "nbformat_minor": 5
}
